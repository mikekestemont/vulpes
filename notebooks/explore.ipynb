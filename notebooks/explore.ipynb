{
 "cells": [
  {
   "cell_type": "markdown",
   "metadata": {},
   "source": [
    "## Inladen"
   ]
  },
  {
   "cell_type": "code",
   "execution_count": 1,
   "metadata": {},
   "outputs": [
    {
     "data": {
      "text/html": [
       "\n",
       "    <div class=\"bk-root\">\n",
       "        <a href=\"https://bokeh.pydata.org\" target=\"_blank\" class=\"bk-logo bk-logo-small bk-logo-notebook\"></a>\n",
       "        <span id=\"1001\">Loading BokehJS ...</span>\n",
       "    </div>"
      ]
     },
     "metadata": {},
     "output_type": "display_data"
    },
    {
     "data": {
      "application/javascript": [
       "\n",
       "(function(root) {\n",
       "  function now() {\n",
       "    return new Date();\n",
       "  }\n",
       "\n",
       "  var force = true;\n",
       "\n",
       "  if (typeof (root._bokeh_onload_callbacks) === \"undefined\" || force === true) {\n",
       "    root._bokeh_onload_callbacks = [];\n",
       "    root._bokeh_is_loading = undefined;\n",
       "  }\n",
       "\n",
       "  var JS_MIME_TYPE = 'application/javascript';\n",
       "  var HTML_MIME_TYPE = 'text/html';\n",
       "  var EXEC_MIME_TYPE = 'application/vnd.bokehjs_exec.v0+json';\n",
       "  var CLASS_NAME = 'output_bokeh rendered_html';\n",
       "\n",
       "  /**\n",
       "   * Render data to the DOM node\n",
       "   */\n",
       "  function render(props, node) {\n",
       "    var script = document.createElement(\"script\");\n",
       "    node.appendChild(script);\n",
       "  }\n",
       "\n",
       "  /**\n",
       "   * Handle when an output is cleared or removed\n",
       "   */\n",
       "  function handleClearOutput(event, handle) {\n",
       "    var cell = handle.cell;\n",
       "\n",
       "    var id = cell.output_area._bokeh_element_id;\n",
       "    var server_id = cell.output_area._bokeh_server_id;\n",
       "    // Clean up Bokeh references\n",
       "    if (id != null && id in Bokeh.index) {\n",
       "      Bokeh.index[id].model.document.clear();\n",
       "      delete Bokeh.index[id];\n",
       "    }\n",
       "\n",
       "    if (server_id !== undefined) {\n",
       "      // Clean up Bokeh references\n",
       "      var cmd = \"from bokeh.io.state import curstate; print(curstate().uuid_to_server['\" + server_id + \"'].get_sessions()[0].document.roots[0]._id)\";\n",
       "      cell.notebook.kernel.execute(cmd, {\n",
       "        iopub: {\n",
       "          output: function(msg) {\n",
       "            var id = msg.content.text.trim();\n",
       "            if (id in Bokeh.index) {\n",
       "              Bokeh.index[id].model.document.clear();\n",
       "              delete Bokeh.index[id];\n",
       "            }\n",
       "          }\n",
       "        }\n",
       "      });\n",
       "      // Destroy server and session\n",
       "      var cmd = \"import bokeh.io.notebook as ion; ion.destroy_server('\" + server_id + \"')\";\n",
       "      cell.notebook.kernel.execute(cmd);\n",
       "    }\n",
       "  }\n",
       "\n",
       "  /**\n",
       "   * Handle when a new output is added\n",
       "   */\n",
       "  function handleAddOutput(event, handle) {\n",
       "    var output_area = handle.output_area;\n",
       "    var output = handle.output;\n",
       "\n",
       "    // limit handleAddOutput to display_data with EXEC_MIME_TYPE content only\n",
       "    if ((output.output_type != \"display_data\") || (!output.data.hasOwnProperty(EXEC_MIME_TYPE))) {\n",
       "      return\n",
       "    }\n",
       "\n",
       "    var toinsert = output_area.element.find(\".\" + CLASS_NAME.split(' ')[0]);\n",
       "\n",
       "    if (output.metadata[EXEC_MIME_TYPE][\"id\"] !== undefined) {\n",
       "      toinsert[toinsert.length - 1].firstChild.textContent = output.data[JS_MIME_TYPE];\n",
       "      // store reference to embed id on output_area\n",
       "      output_area._bokeh_element_id = output.metadata[EXEC_MIME_TYPE][\"id\"];\n",
       "    }\n",
       "    if (output.metadata[EXEC_MIME_TYPE][\"server_id\"] !== undefined) {\n",
       "      var bk_div = document.createElement(\"div\");\n",
       "      bk_div.innerHTML = output.data[HTML_MIME_TYPE];\n",
       "      var script_attrs = bk_div.children[0].attributes;\n",
       "      for (var i = 0; i < script_attrs.length; i++) {\n",
       "        toinsert[toinsert.length - 1].firstChild.setAttribute(script_attrs[i].name, script_attrs[i].value);\n",
       "      }\n",
       "      // store reference to server id on output_area\n",
       "      output_area._bokeh_server_id = output.metadata[EXEC_MIME_TYPE][\"server_id\"];\n",
       "    }\n",
       "  }\n",
       "\n",
       "  function register_renderer(events, OutputArea) {\n",
       "\n",
       "    function append_mime(data, metadata, element) {\n",
       "      // create a DOM node to render to\n",
       "      var toinsert = this.create_output_subarea(\n",
       "        metadata,\n",
       "        CLASS_NAME,\n",
       "        EXEC_MIME_TYPE\n",
       "      );\n",
       "      this.keyboard_manager.register_events(toinsert);\n",
       "      // Render to node\n",
       "      var props = {data: data, metadata: metadata[EXEC_MIME_TYPE]};\n",
       "      render(props, toinsert[toinsert.length - 1]);\n",
       "      element.append(toinsert);\n",
       "      return toinsert\n",
       "    }\n",
       "\n",
       "    /* Handle when an output is cleared or removed */\n",
       "    events.on('clear_output.CodeCell', handleClearOutput);\n",
       "    events.on('delete.Cell', handleClearOutput);\n",
       "\n",
       "    /* Handle when a new output is added */\n",
       "    events.on('output_added.OutputArea', handleAddOutput);\n",
       "\n",
       "    /**\n",
       "     * Register the mime type and append_mime function with output_area\n",
       "     */\n",
       "    OutputArea.prototype.register_mime_type(EXEC_MIME_TYPE, append_mime, {\n",
       "      /* Is output safe? */\n",
       "      safe: true,\n",
       "      /* Index of renderer in `output_area.display_order` */\n",
       "      index: 0\n",
       "    });\n",
       "  }\n",
       "\n",
       "  // register the mime type if in Jupyter Notebook environment and previously unregistered\n",
       "  if (root.Jupyter !== undefined) {\n",
       "    var events = require('base/js/events');\n",
       "    var OutputArea = require('notebook/js/outputarea').OutputArea;\n",
       "\n",
       "    if (OutputArea.prototype.mime_types().indexOf(EXEC_MIME_TYPE) == -1) {\n",
       "      register_renderer(events, OutputArea);\n",
       "    }\n",
       "  }\n",
       "\n",
       "  \n",
       "  if (typeof (root._bokeh_timeout) === \"undefined\" || force === true) {\n",
       "    root._bokeh_timeout = Date.now() + 5000;\n",
       "    root._bokeh_failed_load = false;\n",
       "  }\n",
       "\n",
       "  var NB_LOAD_WARNING = {'data': {'text/html':\n",
       "     \"<div style='background-color: #fdd'>\\n\"+\n",
       "     \"<p>\\n\"+\n",
       "     \"BokehJS does not appear to have successfully loaded. If loading BokehJS from CDN, this \\n\"+\n",
       "     \"may be due to a slow or bad network connection. Possible fixes:\\n\"+\n",
       "     \"</p>\\n\"+\n",
       "     \"<ul>\\n\"+\n",
       "     \"<li>re-rerun `output_notebook()` to attempt to load from CDN again, or</li>\\n\"+\n",
       "     \"<li>use INLINE resources instead, as so:</li>\\n\"+\n",
       "     \"</ul>\\n\"+\n",
       "     \"<code>\\n\"+\n",
       "     \"from bokeh.resources import INLINE\\n\"+\n",
       "     \"output_notebook(resources=INLINE)\\n\"+\n",
       "     \"</code>\\n\"+\n",
       "     \"</div>\"}};\n",
       "\n",
       "  function display_loaded() {\n",
       "    var el = document.getElementById(\"1001\");\n",
       "    if (el != null) {\n",
       "      el.textContent = \"BokehJS is loading...\";\n",
       "    }\n",
       "    if (root.Bokeh !== undefined) {\n",
       "      if (el != null) {\n",
       "        el.textContent = \"BokehJS \" + root.Bokeh.version + \" successfully loaded.\";\n",
       "      }\n",
       "    } else if (Date.now() < root._bokeh_timeout) {\n",
       "      setTimeout(display_loaded, 100)\n",
       "    }\n",
       "  }\n",
       "\n",
       "\n",
       "  function run_callbacks() {\n",
       "    try {\n",
       "      root._bokeh_onload_callbacks.forEach(function(callback) { callback() });\n",
       "    }\n",
       "    finally {\n",
       "      delete root._bokeh_onload_callbacks\n",
       "    }\n",
       "    console.info(\"Bokeh: all callbacks have finished\");\n",
       "  }\n",
       "\n",
       "  function load_libs(js_urls, callback) {\n",
       "    root._bokeh_onload_callbacks.push(callback);\n",
       "    if (root._bokeh_is_loading > 0) {\n",
       "      console.log(\"Bokeh: BokehJS is being loaded, scheduling callback at\", now());\n",
       "      return null;\n",
       "    }\n",
       "    if (js_urls == null || js_urls.length === 0) {\n",
       "      run_callbacks();\n",
       "      return null;\n",
       "    }\n",
       "    console.log(\"Bokeh: BokehJS not loaded, scheduling load and callback at\", now());\n",
       "    root._bokeh_is_loading = js_urls.length;\n",
       "    for (var i = 0; i < js_urls.length; i++) {\n",
       "      var url = js_urls[i];\n",
       "      var s = document.createElement('script');\n",
       "      s.src = url;\n",
       "      s.async = false;\n",
       "      s.onreadystatechange = s.onload = function() {\n",
       "        root._bokeh_is_loading--;\n",
       "        if (root._bokeh_is_loading === 0) {\n",
       "          console.log(\"Bokeh: all BokehJS libraries loaded\");\n",
       "          run_callbacks()\n",
       "        }\n",
       "      };\n",
       "      s.onerror = function() {\n",
       "        console.warn(\"failed to load library \" + url);\n",
       "      };\n",
       "      console.log(\"Bokeh: injecting script tag for BokehJS library: \", url);\n",
       "      document.getElementsByTagName(\"head\")[0].appendChild(s);\n",
       "    }\n",
       "  };var element = document.getElementById(\"1001\");\n",
       "  if (element == null) {\n",
       "    console.log(\"Bokeh: ERROR: autoload.js configured with elementid '1001' but no matching script tag was found. \")\n",
       "    return false;\n",
       "  }\n",
       "\n",
       "  var js_urls = [\"https://cdn.pydata.org/bokeh/release/bokeh-1.0.4.min.js\", \"https://cdn.pydata.org/bokeh/release/bokeh-widgets-1.0.4.min.js\", \"https://cdn.pydata.org/bokeh/release/bokeh-tables-1.0.4.min.js\", \"https://cdn.pydata.org/bokeh/release/bokeh-gl-1.0.4.min.js\"];\n",
       "\n",
       "  var inline_js = [\n",
       "    function(Bokeh) {\n",
       "      Bokeh.set_log_level(\"info\");\n",
       "    },\n",
       "    \n",
       "    function(Bokeh) {\n",
       "      \n",
       "    },\n",
       "    function(Bokeh) {\n",
       "      console.log(\"Bokeh: injecting CSS: https://cdn.pydata.org/bokeh/release/bokeh-1.0.4.min.css\");\n",
       "      Bokeh.embed.inject_css(\"https://cdn.pydata.org/bokeh/release/bokeh-1.0.4.min.css\");\n",
       "      console.log(\"Bokeh: injecting CSS: https://cdn.pydata.org/bokeh/release/bokeh-widgets-1.0.4.min.css\");\n",
       "      Bokeh.embed.inject_css(\"https://cdn.pydata.org/bokeh/release/bokeh-widgets-1.0.4.min.css\");\n",
       "      console.log(\"Bokeh: injecting CSS: https://cdn.pydata.org/bokeh/release/bokeh-tables-1.0.4.min.css\");\n",
       "      Bokeh.embed.inject_css(\"https://cdn.pydata.org/bokeh/release/bokeh-tables-1.0.4.min.css\");\n",
       "    }\n",
       "  ];\n",
       "\n",
       "  function run_inline_js() {\n",
       "    \n",
       "    if ((root.Bokeh !== undefined) || (force === true)) {\n",
       "      for (var i = 0; i < inline_js.length; i++) {\n",
       "        inline_js[i].call(root, root.Bokeh);\n",
       "      }if (force === true) {\n",
       "        display_loaded();\n",
       "      }} else if (Date.now() < root._bokeh_timeout) {\n",
       "      setTimeout(run_inline_js, 100);\n",
       "    } else if (!root._bokeh_failed_load) {\n",
       "      console.log(\"Bokeh: BokehJS failed to load within specified timeout.\");\n",
       "      root._bokeh_failed_load = true;\n",
       "    } else if (force !== true) {\n",
       "      var cell = $(document.getElementById(\"1001\")).parents('.cell').data().cell;\n",
       "      cell.output_area.append_execute_result(NB_LOAD_WARNING)\n",
       "    }\n",
       "\n",
       "  }\n",
       "\n",
       "  if (root._bokeh_is_loading === 0) {\n",
       "    console.log(\"Bokeh: BokehJS loaded, going straight to plotting\");\n",
       "    run_inline_js();\n",
       "  } else {\n",
       "    load_libs(js_urls, function() {\n",
       "      console.log(\"Bokeh: BokehJS plotting callback run at\", now());\n",
       "      run_inline_js();\n",
       "    });\n",
       "  }\n",
       "}(window));"
      ],
      "application/vnd.bokehjs_load.v0+json": "\n(function(root) {\n  function now() {\n    return new Date();\n  }\n\n  var force = true;\n\n  if (typeof (root._bokeh_onload_callbacks) === \"undefined\" || force === true) {\n    root._bokeh_onload_callbacks = [];\n    root._bokeh_is_loading = undefined;\n  }\n\n  \n\n  \n  if (typeof (root._bokeh_timeout) === \"undefined\" || force === true) {\n    root._bokeh_timeout = Date.now() + 5000;\n    root._bokeh_failed_load = false;\n  }\n\n  var NB_LOAD_WARNING = {'data': {'text/html':\n     \"<div style='background-color: #fdd'>\\n\"+\n     \"<p>\\n\"+\n     \"BokehJS does not appear to have successfully loaded. If loading BokehJS from CDN, this \\n\"+\n     \"may be due to a slow or bad network connection. Possible fixes:\\n\"+\n     \"</p>\\n\"+\n     \"<ul>\\n\"+\n     \"<li>re-rerun `output_notebook()` to attempt to load from CDN again, or</li>\\n\"+\n     \"<li>use INLINE resources instead, as so:</li>\\n\"+\n     \"</ul>\\n\"+\n     \"<code>\\n\"+\n     \"from bokeh.resources import INLINE\\n\"+\n     \"output_notebook(resources=INLINE)\\n\"+\n     \"</code>\\n\"+\n     \"</div>\"}};\n\n  function display_loaded() {\n    var el = document.getElementById(\"1001\");\n    if (el != null) {\n      el.textContent = \"BokehJS is loading...\";\n    }\n    if (root.Bokeh !== undefined) {\n      if (el != null) {\n        el.textContent = \"BokehJS \" + root.Bokeh.version + \" successfully loaded.\";\n      }\n    } else if (Date.now() < root._bokeh_timeout) {\n      setTimeout(display_loaded, 100)\n    }\n  }\n\n\n  function run_callbacks() {\n    try {\n      root._bokeh_onload_callbacks.forEach(function(callback) { callback() });\n    }\n    finally {\n      delete root._bokeh_onload_callbacks\n    }\n    console.info(\"Bokeh: all callbacks have finished\");\n  }\n\n  function load_libs(js_urls, callback) {\n    root._bokeh_onload_callbacks.push(callback);\n    if (root._bokeh_is_loading > 0) {\n      console.log(\"Bokeh: BokehJS is being loaded, scheduling callback at\", now());\n      return null;\n    }\n    if (js_urls == null || js_urls.length === 0) {\n      run_callbacks();\n      return null;\n    }\n    console.log(\"Bokeh: BokehJS not loaded, scheduling load and callback at\", now());\n    root._bokeh_is_loading = js_urls.length;\n    for (var i = 0; i < js_urls.length; i++) {\n      var url = js_urls[i];\n      var s = document.createElement('script');\n      s.src = url;\n      s.async = false;\n      s.onreadystatechange = s.onload = function() {\n        root._bokeh_is_loading--;\n        if (root._bokeh_is_loading === 0) {\n          console.log(\"Bokeh: all BokehJS libraries loaded\");\n          run_callbacks()\n        }\n      };\n      s.onerror = function() {\n        console.warn(\"failed to load library \" + url);\n      };\n      console.log(\"Bokeh: injecting script tag for BokehJS library: \", url);\n      document.getElementsByTagName(\"head\")[0].appendChild(s);\n    }\n  };var element = document.getElementById(\"1001\");\n  if (element == null) {\n    console.log(\"Bokeh: ERROR: autoload.js configured with elementid '1001' but no matching script tag was found. \")\n    return false;\n  }\n\n  var js_urls = [\"https://cdn.pydata.org/bokeh/release/bokeh-1.0.4.min.js\", \"https://cdn.pydata.org/bokeh/release/bokeh-widgets-1.0.4.min.js\", \"https://cdn.pydata.org/bokeh/release/bokeh-tables-1.0.4.min.js\", \"https://cdn.pydata.org/bokeh/release/bokeh-gl-1.0.4.min.js\"];\n\n  var inline_js = [\n    function(Bokeh) {\n      Bokeh.set_log_level(\"info\");\n    },\n    \n    function(Bokeh) {\n      \n    },\n    function(Bokeh) {\n      console.log(\"Bokeh: injecting CSS: https://cdn.pydata.org/bokeh/release/bokeh-1.0.4.min.css\");\n      Bokeh.embed.inject_css(\"https://cdn.pydata.org/bokeh/release/bokeh-1.0.4.min.css\");\n      console.log(\"Bokeh: injecting CSS: https://cdn.pydata.org/bokeh/release/bokeh-widgets-1.0.4.min.css\");\n      Bokeh.embed.inject_css(\"https://cdn.pydata.org/bokeh/release/bokeh-widgets-1.0.4.min.css\");\n      console.log(\"Bokeh: injecting CSS: https://cdn.pydata.org/bokeh/release/bokeh-tables-1.0.4.min.css\");\n      Bokeh.embed.inject_css(\"https://cdn.pydata.org/bokeh/release/bokeh-tables-1.0.4.min.css\");\n    }\n  ];\n\n  function run_inline_js() {\n    \n    if ((root.Bokeh !== undefined) || (force === true)) {\n      for (var i = 0; i < inline_js.length; i++) {\n        inline_js[i].call(root, root.Bokeh);\n      }if (force === true) {\n        display_loaded();\n      }} else if (Date.now() < root._bokeh_timeout) {\n      setTimeout(run_inline_js, 100);\n    } else if (!root._bokeh_failed_load) {\n      console.log(\"Bokeh: BokehJS failed to load within specified timeout.\");\n      root._bokeh_failed_load = true;\n    } else if (force !== true) {\n      var cell = $(document.getElementById(\"1001\")).parents('.cell').data().cell;\n      cell.output_area.append_execute_result(NB_LOAD_WARNING)\n    }\n\n  }\n\n  if (root._bokeh_is_loading === 0) {\n    console.log(\"Bokeh: BokehJS loaded, going straight to plotting\");\n    run_inline_js();\n  } else {\n    load_libs(js_urls, function() {\n      console.log(\"Bokeh: BokehJS plotting callback run at\", now());\n      run_inline_js();\n    });\n  }\n}(window));"
     },
     "metadata": {},
     "output_type": "display_data"
    }
   ],
   "source": [
    "import re\n",
    "import os\n",
    "import glob\n",
    "import html\n",
    "import shutil\n",
    "\n",
    "import numpy as np\n",
    "import matplotlib.pyplot as plt\n",
    "import pandas as pd\n",
    "from bs4 import BeautifulSoup\n",
    "from tqdm import tqdm\n",
    "\n",
    "from bokeh.models import ColumnDataSource\n",
    "from bokeh.plotting import figure, show\n",
    "from bokeh.io import output_notebook, push_notebook, show\n",
    "output_notebook()"
   ]
  },
  {
   "cell_type": "code",
   "execution_count": 2,
   "metadata": {},
   "outputs": [],
   "source": [
    "LACUNA = re.compile(r'\\.\\.+')\n",
    "\n",
    "def load_file(path):\n",
    "    with open(path) as f:\n",
    "        xml_text = f.read()\n",
    "    \n",
    "    xml_text = xml_text.replace('&oudpond;', '')\n",
    "    xml_text = xml_text.replace('&supm;', 'm')\n",
    "    xml_text = xml_text.replace('&supM;', 'm')\n",
    "    xml_text = xml_text.replace('&supc;', 'c')\n",
    "    xml_text = xml_text.replace('&supt;', 't')\n",
    "    xml_text = xml_text.replace('&supn;', 'n')\n",
    "    xml_text = xml_text.replace('&sups;', 's')\n",
    "    xml_text = xml_text.replace('&supd;', 'd')\n",
    "    xml_text = xml_text.replace('&supc;', 'c')\n",
    "    xml_text = xml_text.replace('&uring;', 'u')\n",
    "    xml_text = xml_text.replace('&lt;', '')\n",
    "    xml_text = xml_text.replace('&gt;', '')\n",
    "    xml_text = html.unescape(xml_text)\n",
    "\n",
    "    soup = BeautifulSoup(xml_text)\n",
    "    \n",
    "    data = {}\n",
    "\n",
    "    # extract metadata:\n",
    "    data['id'] = os.path.basename(path).replace('.xml', '')\n",
    "    data['title'] = soup.find('title').text\n",
    "    data['author'] = soup.find('author').text\n",
    "    \n",
    "    postquem = '<UNK>'\n",
    "    try:\n",
    "        postquem = soup.find('interpgrp', {'type': 'witnessYear_from'})\n",
    "        postquem = postquem.find('interp')['value']\n",
    "    except AttributeError:\n",
    "        pass\n",
    "    \n",
    "    antequem = '<UNK>'\n",
    "    try:\n",
    "        antequem = soup.find('interpgrp', {'type': 'witnessYear_to'})\n",
    "        antequem = antequem.find('interp')['value']\n",
    "    except AttributeError:\n",
    "        pass\n",
    "    \n",
    "    data['date'] = f'{postquem}-{antequem}'\n",
    "    \n",
    "    # extract and clean lines:\n",
    "    lines = []\n",
    "    for line in soup.find_all('l'):\n",
    "        text = line.get_text().strip()\n",
    "        if text and not re.search(LACUNA, text):\n",
    "            line = ''.join([c for c in text if c.isalpha() or c.isspace()]).strip()\n",
    "            if line:\n",
    "                lines.append(line)\n",
    "    \n",
    "    data['size'] = len(lines)\n",
    "    data['lines'] = '\\n'.join(lines)\n",
    "    \n",
    "    return data"
   ]
  },
  {
   "cell_type": "code",
   "execution_count": 3,
   "metadata": {},
   "outputs": [],
   "source": [
    "outdir = '../data/CMN-TEI/raw'\n",
    "\n",
    "try:\n",
    "    shutil.rmtree(outdir)\n",
    "except FileNotFoundError:\n",
    "    pass\n",
    "\n",
    "os.mkdir(outdir)"
   ]
  },
  {
   "cell_type": "code",
   "execution_count": 4,
   "metadata": {},
   "outputs": [],
   "source": [
    "texts = []\n",
    "for fn in glob.glob('../data/CMN-TEI/rijm/*.xml'):\n",
    "    texts.append(load_file(fn))"
   ]
  },
  {
   "cell_type": "code",
   "execution_count": 5,
   "metadata": {},
   "outputs": [],
   "source": [
    "    #new_fn = os.path.basename(fn).replace('.xml', '.tsv')\n",
    "    #with open(f'{outdir}/{new_fn}', 'w') as f:\n",
    "    #    for line in lines:\n",
    "    #        f.write('\\n'.join(line.split()) + '\\n\\n')"
   ]
  },
  {
   "cell_type": "markdown",
   "metadata": {},
   "source": [
    "## Rauwe aanpak"
   ]
  },
  {
   "cell_type": "code",
   "execution_count": 6,
   "metadata": {},
   "outputs": [],
   "source": [
    "metadata, lines = [], []\n",
    "for text in texts:\n",
    "    lines.append(text['lines'])\n",
    "    d = {d:text[d] for d in text if d != 'lines'}\n",
    "    metadata.append(d)"
   ]
  },
  {
   "cell_type": "code",
   "execution_count": 7,
   "metadata": {},
   "outputs": [
    {
     "name": "stdout",
     "output_type": "stream",
     "text": [
      "(262, 5000)\n"
     ]
    }
   ],
   "source": [
    "from sklearn.feature_extraction.text import TfidfVectorizer\n",
    "vectorizer = TfidfVectorizer(max_features=5000, token_pattern=r'(?u)\\b\\w+\\b')\n",
    "X = vectorizer.fit_transform(lines).toarray()\n",
    "print(X.shape)"
   ]
  },
  {
   "cell_type": "code",
   "execution_count": 8,
   "metadata": {},
   "outputs": [
    {
     "name": "stdout",
     "output_type": "stream",
     "text": [
      "(262, 2)\n"
     ]
    }
   ],
   "source": [
    "from sklearn.decomposition import PCA\n",
    "pca = PCA(2)\n",
    "X_pca = pca.fit_transform(X)\n",
    "print(X_pca.shape)"
   ]
  },
  {
   "cell_type": "code",
   "execution_count": 9,
   "metadata": {},
   "outputs": [],
   "source": [
    "num_clust = 6\n",
    "from sklearn.cluster import AgglomerativeClustering\n",
    "clust = AgglomerativeClustering(num_clust)\n",
    "labels = clust.fit_predict(X_pca)"
   ]
  },
  {
   "cell_type": "code",
   "execution_count": 10,
   "metadata": {},
   "outputs": [],
   "source": [
    "from bokeh.palettes import Accent\n",
    "colors = [Accent[num_clust][i] for i in labels]"
   ]
  },
  {
   "cell_type": "code",
   "execution_count": 11,
   "metadata": {},
   "outputs": [],
   "source": [
    "data_dict = {'x': X_pca[:, 0],\n",
    "             'y': X_pca[:, 1],\n",
    "             'color': colors,\n",
    "             'Title': [d['title'] for d in metadata],\n",
    "             'Author': [d['author'] for d in metadata],\n",
    "             'Date': [d['date'] for d in metadata],\n",
    "             'Length': [d['size'] for d in metadata],\n",
    "             'loglen': [np.log(d['size']) for d in metadata],\n",
    "}\n",
    "data_df = pd.DataFrame(data_dict)\n",
    "\n",
    "x_label = \"PC 1\"\n",
    "y_label = \"PC 2\"\n",
    "fig_title = \"Cd-rom Middelnederlands (rijm)\""
   ]
  },
  {
   "cell_type": "code",
   "execution_count": 12,
   "metadata": {},
   "outputs": [
    {
     "data": {
      "text/html": [
       "\n",
       "\n",
       "\n",
       "\n",
       "\n",
       "\n",
       "  <div class=\"bk-root\" id=\"3705621a-90b3-4168-bb46-916c64cfab29\" data-root-id=\"1004\"></div>\n"
      ]
     },
     "metadata": {},
     "output_type": "display_data"
    },
    {
     "data": {
      "application/javascript": [
       "(function(root) {\n",
       "  function embed_document(root) {\n",
       "    \n",
       "  var docs_json = {\"8859604a-3776-4913-846f-d46e60e8ffaa\":{\"roots\":{\"references\":[{\"attributes\":{\"below\":[{\"id\":\"1014\",\"type\":\"LinearAxis\"}],\"left\":[{\"id\":\"1019\",\"type\":\"LinearAxis\"}],\"plot_height\":800,\"plot_width\":800,\"renderers\":[{\"id\":\"1014\",\"type\":\"LinearAxis\"},{\"id\":\"1018\",\"type\":\"Grid\"},{\"id\":\"1019\",\"type\":\"LinearAxis\"},{\"id\":\"1023\",\"type\":\"Grid\"},{\"id\":\"1033\",\"type\":\"Label\"},{\"id\":\"1037\",\"type\":\"GlyphRenderer\"}],\"title\":{\"id\":\"1003\",\"type\":\"Title\"},\"toolbar\":{\"id\":\"1028\",\"type\":\"Toolbar\"},\"toolbar_location\":\"above\",\"x_range\":{\"id\":\"1006\",\"type\":\"DataRange1d\"},\"x_scale\":{\"id\":\"1010\",\"type\":\"LinearScale\"},\"y_range\":{\"id\":\"1008\",\"type\":\"DataRange1d\"},\"y_scale\":{\"id\":\"1012\",\"type\":\"LinearScale\"}},\"id\":\"1004\",\"subtype\":\"Figure\",\"type\":\"Plot\"},{\"attributes\":{\"source\":{\"id\":\"1002\",\"type\":\"ColumnDataSource\"}},\"id\":\"1038\",\"type\":\"CDSView\"},{\"attributes\":{\"callback\":null},\"id\":\"1008\",\"type\":\"DataRange1d\"},{\"attributes\":{},\"id\":\"1042\",\"type\":\"BasicTickFormatter\"},{\"attributes\":{},\"id\":\"1025\",\"type\":\"PanTool\"},{\"attributes\":{},\"id\":\"1026\",\"type\":\"WheelZoomTool\"},{\"attributes\":{},\"id\":\"1044\",\"type\":\"BasicTickFormatter\"},{\"attributes\":{\"callback\":null,\"data\":{\"Author\":[\"Onbekend\",\"Onbekend\",\"Onbekend\",\"Onbekend\",\"Lambertus Goetman\",\"Onbekend\",\"Philip Utenbroeke\",\"Lodewijk van Velthem\",\"Onbekend\",\"Jacob van Maerlant\",\"Onbekend\",\"Onbekend\",\"Lodewijk van Velthem\",\"Onbekend\",\"Calfstaf en Noydekin(?)\",\"Onbekend\",\"Onbekend\",\"Onbekend\",\"Lodewijk van Velthem\",\"Loy Latewaert\",\"Onbekend\",\"Onbekend\",\"Jacob van Maerlant\",\"Heinriic\",\"Onbekend\",\"Onbekend\",\"Onbekend\",\"Onbekend\",\"Onbekend\",\"Onbekend\",\"Onbekend\",\"Philip Utenbroeke\",\"Onbekend\",\"Lodewijk van Velthem\",\"Onbekend\",\"Onbekend\",\"Hein van Aken\",\"Lodewijk van Velthem\",\"Onbekend\",\"Heraut Beyeren\",\"Lodewijk van Velthem\",\"Onbekend\",\"Onbekend\",\"Onbekend\",\"Onbekend\",\"Jacob van Maerlant\",\"Onbekend\",\"Onbekend\",\"Clays van Haerlem\",\"Lodewijk van Velthem\",\"Onbekend\",\"Lodewijk van Velthem\",\"Onbekend\",\"Jan van Boendale\",\"Philip Utenbroeke\",\"Lodewijk van Velthem\",\"Lodewijk van Velthem\",\"Onbekend\",\"Onbekend\",\"Onbekend\",\"Onbekend\",\"Onbekend\",\"Onbekend\",\"Diederic van Assenede\",\"Onbekend\",\"Hein van Aken\",\"Onbekend\",\"Onbekend\",\"Onbekend\",\"Jan de Weert\",\"Jacob van Maerlant\",\"Niet van toepassing\",\"Jacob van Maerlant(?)\",\"Onbekend\",\"Onbekend\",\"Onbekend\",\"Onbekend\",\"Onbekend\",\"Onbekend\",\"Onbekend\",\"Jacob van Maerlant\",\"Onbekend\",\"Onbekend\",\"Onbekend\",\"Onbekend\",\"Onbekend\",\"Niet van toepassing\",\"Onbekend\",\"Onbekend\",\"Onbekend\",\"Onbekend\",\"Gielijs van Molhem\",\"Onbekend\",\"Onbekend\",\"Onbekend\",\"Augustijnken\",\"Niet van toepassing\",\"Onbekend\",\"Jacob van Maerlant\",\"Onbekend\",\"Onbekend\",\"Jacob van Maerlant\",\"Onbekend\",\"Onbekend\",\"Onbekend\",\"Hadewijch\",\"Onbekend\",\"Jacob van Maerlant\",\"Jacob van Maerlant\",\"Onbekend\",\"Jacob van Maerlant\",\"Jacob van Maerlant\",\"Niet van toepassing\",\"Onbekend\",\"Onbekend\",\"Onbekend\",\"Onbekend\",\"Onbekend\",\"Onbekend\",\"Onbekend\",\"Onbekend\",\"Onbekend\",\"Lodewijk van Velthem\",\"Onbekend\",\"Onbekend\",\"Onbekend\",\"Onbekend\",\"Onbekend\",\"Niet van toepassing\",\"Philip Utenbroeke\",\"Onbekend\",\"Philip Utenbroeke\",\"Onbekend\",\"Lodewijk van Velthem\",\"Onbekend\",\"Lodewijk van Velthem\",\"Onbekend\",\"Onbekend\",\"Onbekend\",\"Onbekend\",\"Onbekend\",\"Onbekend\",\"Onbekend\",\"Onbekend\",\"Onbekend\",\"Onbekend\",\"Jan van Boendale\",\"Onbekend\",\"Onbekend\",\"Onbekend\",\"Onbekend\",\"Onbekend\",\"Philip Utenbroeke\",\"Jan van Boendale\",\"Onbekend\",\"Onbekend\",\"Onbekend\",\"Hadewijch\",\"Onbekend\",\"Onbekend\",\"Onbekend\",\"Onbekend\",\"Onbekend\",\"Niet van toepassing\",\"Onbekend\",\"Onbekend\",\"Onbekend\",\"Melis Stoke\",\"Lodewijk van Velthem\",\"Onbekend\",\"Jacob van Maerlant?\",\"Philip Utenbroeke\",\"Onbekend\",\"Onbekend\",\"Onbekend\",\"Onbekend\",\"Onbekend\",\"Onbekend\",\"Onbekend\",\"Onbekend\",\"Jan van Boendale\",\"Jacob van Maerlant\",\"Jan de Weert\",\"Augustijnken\",\"Jan van Heelu\",\"Onbekend\",\"Onbekend\",\"Onbekend\",\"Onbekend\",\"Onbekend\",\"Onbekend\",\"Onbekend\",\"Jan Praet\",\"Onbekend\",\"Jacob van Maerlant(?)\",\"Onbekend\",\"Onbekend\",\"Willem van Hildegaersberch\",\"Onbekend\",\"Onbekend\",\"Onbekend\",\"Onbekend\",\"Onbekend\",\"Philip Utenbroeke\",\"Onbekend\",\"Jacob van Maerlant(?)\",\"Jacob van Maerlant\",\"Onbekend\",\"Onbekend\",\"Onbekend\",\"Onbekend\",\"Onbekend\",\"Onbekend\",\"Onbekend\",\"Onbekend\",\"Onbekend\",\"Onbekend\",\"Onbekend\",\"Hein van Aken(?)\",\"Onbekend\",\"Lodewijk van Velthem\",\"Onbekend\",\"Augustijnken\",\"Onbekend\",\"Onbekend\",\"Niet van toepassing\",\"Onbekend\",\"Onbekend\",\"Onbekend\",\"Onbekend\",\"Penninc en Pieter Vostaert\",\"Lodewijk van Velthem\",\"Onbekend\",\"Niet van toepassing\",\"Onbekend\",\"Niet van toepassing\",\"Onbekend\",\"Onbekend\",\"Hendrik van Veldeke\",\"Onbekend\",\"Onbekend\",\"Onbekend\",\"Onbekend\",\"Onbekend\",\"Dirc Potter\",\"Onbekend\",\"Onbekend\",\"Jan van Boendale\",\"Niet van toepassing\",\"Jacob van Maerlant\",\"Onbekend\",\"Onbekend\",\"Onbekend\",\"Jacob van Maerlant\",\"Onbekend\",\"Onbekend\",\"Onbekend\",\"Willem\",\"Onbekend\",\"Jan van Boendale\",\"Onbekend\",\"Onbekend\"],\"Date\":[\"1375-1400\",\"1400-1420\",\"1350-1400\",\"1350-1400\",\"1510-1520\",\"1375-1400\",\"1325-1350\",\"1390-1410\",\"1340-1360\",\"1380-1425\",\"1400-1500\",\"1350-1400\",\"1315-1335\",\"1390-1410\",\"1340-1360\",\"1470-1490\",\"1350-1400\",\"1390-1410\",\"1300-1325\",\"1412-1415\",\"1400-1420\",\"1400-1420\",\"1374-1374\",\"1340-1360\",\"1340-1360\",\"1440-1460\",\"1339-1339\",\"1340-1360\",\"1300-1400\",\"1300-1400\",\"1340-1360\",\"1390-1410\",\"1340-1360\",\"1390-1410\",\"1300-1350\",\"1350-1400\",\"1300-1350\",\"1390-1410\",\"1440-1450\",\"1400-1420\",\"1300-1350\",\"1350-1400\",\"1200-1250\",\"1340-1360\",\"1500-1520\",\"1465-1485\",\"1300-1400\",\"1300-1350\",\"1300-1350\",\"1390-1410\",\"1374-1374\",\"1390-1410\",\"1339-1339\",\"1435-1455\",\"1393-1402\",\"1350-1400\",\"1350-1400\",\"1300-1350\",\"1390-1410\",\"1375-1400\",\"1440-1460\",\"1340-1360\",\"1375-1400\",\"1340-1360\",\"1340-1360\",\"1390-1410\",\"1300-1350\",\"1375-1425\",\"1457-1500\",\"1380-1425\",\"1380-1425\",\"1551-1551\",\"1300-1400\",\"1350-1400\",\"1800-1820\",\"1300-1350\",\"1340-1360\",\"1300-1400\",\"1300-1350\",\"1375-1400\",\"1300-1325\",\"1300-1350\",\"1400-1420\",\"1400-1420\",\"1350-1375\",\"1300-1400\",\"1551-1551\",\"1340-1360\",\"1375-1400\",\"1340-1360\",\"1300-1350\",\"1390-1410\",\"1300-1400\",\"1300-1350\",\"1340-1360\",\"1400-1420\",\"1400-1425\",\"1300-1400\",\"1339-1339\",\"1400-1420\",\"1390-1410\",\"1300-1350\",\"1375-1400\",\"1350-1400\",\"1300-1320\",\"1340-1360\",\"1340-1360\",\"1380-1425\",\"1300-1350\",\"1460-1470\",\"1380-1425\",\"1390-1410\",\"1350-1400\",\"1350-1400\",\"1300-1350\",\"1340-1360\",\"1290-1310\",\"1350-1400\",\"1400-1420\",\"1350-1375\",\"1405-1405\",\"1375-1400\",\"1315-1350\",\"1300-1400\",\"1340-1360\",\"1440-1460\",\"1300-1350\",\"1340-1360\",\"1539-1539\",\"1300-1350\",\"1400-1420\",\"1390-1410\",\"1400-1420\",\"1315-1350\",\"1340-1360\",\"1393-1402\",\"1495-1515\",\"1300-1400\",\"1300-1350\",\"1460-1480\",\"1340-1360\",\"1300-1325\",\"1400-1420\",\"1300-1350\",\"1300-1350\",\"1300-1325\",\"1340-1360\",\"1400-1429\",\"1350-1400\",\"1440-1460\",\"1350-1375\",\"1290-1310\",\"1315-1350\",\"1460-1480\",\"1300-1400\",\"1432-1432\",\"1340-1360\",\"1340-1360\",\"1380-1425\",\"1490-1510\",\"1570-1590\",\"1400-1420\",\"1350-1400\",\"1390-1410\",\"1480-1500\",\"1300-1350\",\"1340-1360\",\"1365-1385\",\"1390-1410\",\"1350-1400\",\"1400-1450\",\"1300-1325\",\"1405-1405\",\"1300-1350\",\"1400-1450\",\"1500-1520\",\"1374-1374\",\"1375-1400\",\"1340-1360\",\"1300-1400\",\"1399-1410\",\"1300-1350\",\"1400-1420\",\"1400-1420\",\"1430-1450\",\"1350-1400\",\"1400-1420\",\"1390-1410\",\"1300-1400\",\"1475-1500\",\"1375-1400\",\"1340-1360\",\"1440-1460\",\"1300-1350\",\"1339-1339\",\"1490-1510\",\"1434-1436\",\"1470-1490\",\"1375-1400\",\"1300-1350\",\"1340-1360\",\"1400-1420\",\"1340-1360\",\"1350-1400\",\"1486-1488\",\"1339-1339\",\"1415-1435\",\"1300-1400\",\"1440-1460\",\"1400-1420\",\"1350-1400\",\"1350-1400\",\"1438-1438\",\"1340-1360\",\"1490-1530\",\"1390-1410\",\"1400-1420\",\"1350-1400\",\"1390-1400\",\"1290-1310\",\"1300-1325\",\"1475-1500\",\"1400-1420\",\"1375-1400\",\"1350-1400\",\"1350-1400\",\"None-None\",\"1350-1400\",\"1300-1350\",\"1380-1400\",\"1350-1350\",\"1340-1360\",\"1400-1420\",\"1350-1400\",\"1300-1400\",\"1508-1508\",\"1340-1360\",\"1300-1350\",\"1450-1500\",\"1300-1400\",\"1300-1350\",\"1390-1410\",\"1400-1420\",\"1440-1460\",\"1470-1490\",\"1300-1350\",\"1600-1700\",\"1390-1410\",\"1544-1544\",\"1339-1339\",\"1300-1400\",\"1390-1410\",\"1351-1351\",\"1390-1400\",\"None-None\",\"1300-1350\",\"1375-1400\",\"1380-1425\",\"1300-1350\",\"1390-1410\",\"1460-1480\",\"1479-1483\"],\"Length\":[153,1853,430,70,496,2389,71,704,305,338,728,116,27482,1351,1563,236,90,112,88,11525,200,274,2156,21848,200,20,302,5603,140,86,139,604,209,1789,4716,124,14410,568,931,1990,1008,4513,117,343,183,40866,285,396,325,564,6721,563,850,2018,33082,205,312,11157,298,3,470,1284,358,4007,4284,290,13025,174,759,1868,975,279,318,169,12187,62,63,346,142,1020,88714,3668,625,208,173,430,296,248,101,150,5595,1450,2029,1890,2006,316,2482,77,247,952,3772,10495,816,145,148,2880,224,599,3855,713,507,14218,1370,10,59,239,92,62,93,235,1785,88,394,155,315,581,5838,69,14065,144,1128,593,6341,185,346,174,176,181,36922,18189,344,34,1143,3413,177,84,22006,1767,60,16920,485,2828,180,16318,117,11988,10775,3568,2285,70,303,57,97,10123,494,48,452,13649,579,276,120,206,287,90,264,160,1039,144,290,78,374,336,2920,1051,9539,226,111,119,30,505,133,1198,4859,847,73,1119,441,21666,11277,1018,400,219,155,127,1364,104,35899,124,196,1019,181,105,4939,308,298,110,244,8362,893,148,588,72,84,109,565,8513,575,1866,345,144,11180,488,405,4164,84,1960,77,92,6228,62,56,2479,14487,627,11140,4015,534,4101,11162,544,118,28,2329,234,189,191,100,3467,247,5870,7809,1692],\"Title\":[\"Onge\\u00efdentificeerd (6)\",\"Theophilus\",\"Madelgijs\",\"Roelantslied\",\"Spiegel der jongers\",\"Borchgrave van Couchi\",\"Spiegel historiael (tweede partie)\",\"Spiegel historiael (vierde partie [aandeel Velthem])\",\"Parthonopeus van Bloys\",\"Tweede Martijn\",\"Sinte Kunera\",\"Madelgijs\",\"Spiegel historiael (vijfde partie)\",\"Van Maskeroen\",\"Esopet\",\"Rijmspreuken\",\"Madelgijs\",\"Noch meer van wiven\",\"Spiegel historiael (vierde partie [aandeel Velthem])\",\"Segheliin van Jerusalem\",\"Lippijn\",\"Van ses vaerwen ende twaelf outheyden\",\"Heymelijchede der heymelijcheit\",\"Roman van Limborch\",\"Gwidekijn van Sassen\",\"Spel van Abraham en Sara\",\"Van der manen zeden\",\"Ferguut\",\"Onge\\u00efdentificeerd (4)\",\"Boudewijn van Seborch\",\"Madelgijs\",\"Spiegel historiael (tweede partie)\",\"Madelgijs\",\"Spiegel historiael (vierde partie [aandeel Velthem])\",\"Roman van Moriaen\",\"Madelgijs\",\"Rose\",\"Spiegel historiael (vierde partie [aandeel Velthem])\",\"Ons heren passie\",\"Korte kroniek van Brabant (lange versie)\",\"Merlijn-continuatie\",\"Van den VII Vroeden van binnen Rome\",\"Onge\\u00efdentificeerd (1)\",\"Onge\\u00efdentificeerd (3)\",\"Historie van Gaver Capeel\",\"Historie van Troyen\",\"Valentijn en Nameloos\",\"Roman van Lancelot\",\"Willem van Oringen\",\"Spiegel historiael (vierde partie [aandeel Velthem])\",\"Dietsche doctrinale\",\"Spiegel historiael (vierde partie [aandeel Velthem])\",\"Boec van den houte (berijmde versie)\",\"Van den derden Eduwaert\",\"Spiegel historiael (tweede partie)\",\"Merlijn-continuatie\",\"Merlijn-continuatie\",\"Queeste van den Grale\",\"Leven van Sint Trudo (berijming)\",\"Onge\\u00efdentificeerd (2)\",\"Collectief lunarium III (berijmd)\",\"Bediedenisse van der missen\",\"Madelgijs\",\"Floris ende Blancefloer\",\"Der ystorien bloeme\",\"Van Saladijn\",\"Arturs doet\",\"Beerte metten breden voeten\",\"O crux lignum triumphale\",\"Wapene Rogier\",\"Eerste Martijn\",\"Tvveeste musyck boexken\",\"Lapidarijs\",\"Loyhier en Malaert\",\"Grimbergse oorlog\",\"Roman van Antiochi\\u00eb\",\"Godevaert metten baerde\",\"Roelantslied\",\"Roman van Perchevael\",\"Florigout\",\"Spiegel historiael (eerste partie / derde partie / vierde partie [aandeel Maerlant])\",\"Walewein ende Keye\",\"Vanden winter ende vanden somer\",\"Buskenblazer\",\"Florent ende Durant\",\"Sint Patricius' vagevuur (berijming)\",\"Ierste musyck boexken\",\"Parthonopeus van Bloys\",\"Madelgijs\",\"Roman van Cassamus (lange versie)\",\"Roman van Perchevael\",\"Rinclus\",\"Van smeinscen lede\",\"Roman van Cassamus (verkorte versie)\",\"Renout van Montalbaen\",\"Schepping\",\"Berlijnse liederenhandschrift\",\"Renout van Montalbaen\",\"Van den lande van over zee\",\"Lanseloet van Denemerken\",\"Melibeus\",\"Sinte Franciscus leven\",\"Borchgrave van Couchi\",\"Slag van Crecy\",\"Collectief lunarium I (berijmd)\",\"Mengeldichten I-XVI\",\"Madelgijs\",\"Disputacie van onser Vrouwen ende van den Heilighen Cruce\",\"Roman van Torec\",\"Van den neghen besten (lange versie)\",\"Derde Martijn\",\"Alexanders geesten\",\"Gruuthuse-handschrift (gebeden en allegorische gedichten)\",\"Loyhier en Malaert\",\"Roman van Antiochi\\u00eb\",\"Madelgijs\",\"Parthonopeus van Bloys\",\"Roelantslied\",\"Truwanten\",\"Roman van den riddere metter mouwen\",\"Der vrouwen heimelijcheit\",\"Barlaam en Josaphat\",\"Spiegel historiael (vierde partie [aandeel Velthem])\",\"Ogier van Denemarken\",\"Fierabras\",\"Cyromanchie van den pape van den Hamme\",\"Lantsloot van der Haghedochte\",\"Madelgijs\",\"Devoot ende profitelyck boecxken\",\"Spiegel historiael (tweede partie)\",\"Borchgravinne van Vergi (1)\",\"Spiegel historiael (tweede partie)\",\"Dietsche Lucidarius\",\"Spiegel historiael (vierde partie [aandeel Velthem])\",\"Aubri de Borgengoen\",\"Spiegel historiael (vierde partie [aandeel Velthem])\",\"Roman van Jonathas ende Rosafiere\",\"Ogier van Denemarken\",\"Roman van Lancelot\",\"Brabantsche yeesten (boek 7)\",\"Valentijn en Nameloos\",\"Chanson d'Aspremont\",\"Gloriant\",\"Wrake van Ragisel (verkorte versie)\",\"Roman van Cassamus (lange versie)\",\"Borchgrave van Couchi\",\"Der leken spieghel\",\"Natuurkunde van het geheelal\",\"Madelgijs\",\"Spiegel der sonden (berijming)\",\"Borchgravinne van Vergi (2)\",\"Vlaamse Rose\",\"Spiegel historiael (tweede partie)\",\"Brabantsche yeesten (boek 1-5)\",\"Ogier van Denemarken\",\"Brabantsche yeesten (boek 6)\",\"Roman der Lorreinen\",\"Strofische gedichten (Hadewijch)\",\"Van sente Brandane\",\"Renout van Montalbaen\",\"Vande Hertogen ende Heeren van Brabant\",\"AB recht ende averecht\",\"Madelgijs\",\"Haagse liederenhandschrift\",\"Baghynken van Parys\",\"Roman van Antiochi\\u00eb\",\"Roman van Iechemas\",\"Rijmkroniek van Holland\",\"Spiegel historiael (vierde partie [aandeel Velthem])\",\"Roelantslied\",\"Van ons heren wonden\",\"Spiegel historiael (tweede partie)\",\"Fysionomie (berijmd)\",\"Barlaam en Josaphat\",\"Spel van de Antichrist\",\"Roman van Jonathas ende Rosafiere\",\"Beatrijs\",\"Roman van Saladin\",\"Roman van Florimont\",\"Ogier van Denemarken\",\"Korte kroniek van Brabant (korte versie 1)\",\"Merlijns boec\",\"Nieuwe doctrinael\",\"Sinte Jans ewangelium alsoe 't Augustijnken gheexponeert heeft\",\"Rijmkroniek van Woeringen\",\"Van der wive wonderlijcheit (lange versie)\",\"Hexe\",\"Van ghevene\",\"Roman van Cassant\",\"Roelantslied\",\"Parthonopeus van Bloys\",\"Aiol (2) (Vlaamse Aiol)\",\"Speghel der wijsheit\",\"Lanceloet en het hert met de witte voet\",\"Van den vijf vrouden\",\"Jonathas ende Rosafiere\",\"Cracht der mane I\",\"Gedichten (Willem van Hildegaersberch)\",\"Commentaar op het Hooglied (berijmd)\",\"Roman van Caesar\",\"Renout van Montalbaen\",\"Expositie vanden viere vingheren ende vanden dume\",\"Gedicht over de hemeltekenen\",\"Spiegel historiael (tweede partie)\",\"Karel ende Elegast\",\"Van den verkeerden Martijn\",\"Historie van den grale\",\"Loyhier en Malaert\",\"Spiegel der sonden (berijming)\",\"Esmoreit\",\"Anatomie van de mens\",\"Spiegel der sonden (berijming)\",\"Vanden levene ons heren\",\"Boudewijn van Seborch\",\"Boec Exemplaer\",\"Noch die tien ghebode\",\"Rubben\",\"Parthonopeus van Bloys\",\"Vierde Martijn\",\"Parthonopeus van Bloys\",\"Spiegel historiael (vierde partie [aandeel Velthem])\",\"Van den neghen besten (korte versie)\",\"Vander rijcheit ende vander doot\",\"Florigout\",\"Huge van Bordeeus\",\"Gruuthuse-handschrift (allegorische gedichten)\",\"Borchgrave van Couchi\",\"Flandrijs\",\"Huge van Bordeeus\",\"Onge\\u00efdentificeerd fragment\",\"Roman van Walewein\",\"Spiegel historiael (vierde partie [aandeel Velthem])\",\"Drie daghe here\",\"Gruuthuse-handschrift (liederen)\",\"Loyhier en Malaert\",\"Suverlijc boecxken\",\"Wrake van Ragisel\",\"Frenesie\",\"Sint Servaes legende\",\"Spiegel der sonden (berijming)\",\"Godevaerts kintshede\",\"Tien plaghen ende die tien ghebode\",\"Spieghel der menscheliker behoudenesse\",\"Flovent\",\"Der minnen loep\",\"Roman van den riddere metter mouwen (verkorte versie)\",\"Beginsel der oorlogen van Luyck\",\"Jans teesteye\",\"Antwerps liedboek\",\"Clausule vander bible\",\"Minnedichten 2\",\"Noch van Salladine\",\"Der mannen ende vrouwen heimelijcheit\",\"Der kerken claghe\",\"Jan Splinters testament\",\"Geraert van Viane\",\"Lion van Bourges\",\"Van den vos Reynaerde\",\"Minnedichten 1\",\"Boec vander wraken\",\"Reinaerts historie\",\"Dystorie van Saladine\"],\"color\":[\"#fdc086\",\"#beaed4\",\"#fdc086\",\"#fdc086\",\"#7fc97f\",\"#f0027f\",\"#f0027f\",\"#beaed4\",\"#beaed4\",\"#386cb0\",\"#fdc086\",\"#fdc086\",\"#beaed4\",\"#beaed4\",\"#beaed4\",\"#7fc97f\",\"#7fc97f\",\"#386cb0\",\"#fdc086\",\"#fdc086\",\"#7fc97f\",\"#386cb0\",\"#beaed4\",\"#beaed4\",\"#fdc086\",\"#7fc97f\",\"#7fc97f\",\"#beaed4\",\"#f0027f\",\"#fdc086\",\"#fdc086\",\"#f0027f\",\"#386cb0\",\"#beaed4\",\"#beaed4\",\"#fdc086\",\"#beaed4\",\"#f0027f\",\"#7fc97f\",\"#f0027f\",\"#f0027f\",\"#beaed4\",\"#ffff99\",\"#fdc086\",\"#fdc086\",\"#7fc97f\",\"#386cb0\",\"#beaed4\",\"#386cb0\",\"#f0027f\",\"#beaed4\",\"#f0027f\",\"#fdc086\",\"#fdc086\",\"#beaed4\",\"#beaed4\",\"#f0027f\",\"#beaed4\",\"#386cb0\",\"#ffff99\",\"#386cb0\",\"#beaed4\",\"#fdc086\",\"#beaed4\",\"#beaed4\",\"#386cb0\",\"#beaed4\",\"#386cb0\",\"#beaed4\",\"#386cb0\",\"#beaed4\",\"#ffff99\",\"#fdc086\",\"#386cb0\",\"#fdc086\",\"#fdc086\",\"#fdc086\",\"#386cb0\",\"#fdc086\",\"#f0027f\",\"#f0027f\",\"#beaed4\",\"#386cb0\",\"#7fc97f\",\"#fdc086\",\"#beaed4\",\"#ffff99\",\"#f0027f\",\"#7fc97f\",\"#386cb0\",\"#beaed4\",\"#beaed4\",\"#fdc086\",\"#beaed4\",\"#fdc086\",\"#386cb0\",\"#ffff99\",\"#fdc086\",\"#fdc086\",\"#7fc97f\",\"#beaed4\",\"#f0027f\",\"#f0027f\",\"#fdc086\",\"#386cb0\",\"#386cb0\",\"#fdc086\",\"#beaed4\",\"#beaed4\",\"#f0027f\",\"#386cb0\",\"#beaed4\",\"#7fc97f\",\"#7fc97f\",\"#fdc086\",\"#fdc086\",\"#fdc086\",\"#fdc086\",\"#7fc97f\",\"#f0027f\",\"#386cb0\",\"#fdc086\",\"#f0027f\",\"#fdc086\",\"#f0027f\",\"#fdc086\",\"#f0027f\",\"#fdc086\",\"#7fc97f\",\"#f0027f\",\"#386cb0\",\"#f0027f\",\"#beaed4\",\"#f0027f\",\"#386cb0\",\"#f0027f\",\"#386cb0\",\"#fdc086\",\"#beaed4\",\"#fdc086\",\"#386cb0\",\"#fdc086\",\"#7fc97f\",\"#beaed4\",\"#386cb0\",\"#386cb0\",\"#beaed4\",\"#386cb0\",\"#fdc086\",\"#fdc086\",\"#386cb0\",\"#beaed4\",\"#f0027f\",\"#beaed4\",\"#fdc086\",\"#f0027f\",\"#beaed4\",\"#386cb0\",\"#fdc086\",\"#fdc086\",\"#ffff99\",\"#7fc97f\",\"#f0027f\",\"#ffff99\",\"#7fc97f\",\"#fdc086\",\"#beaed4\",\"#f0027f\",\"#f0027f\",\"#fdc086\",\"#fdc086\",\"#fdc086\",\"#386cb0\",\"#fdc086\",\"#7fc97f\",\"#7fc97f\",\"#386cb0\",\"#fdc086\",\"#beaed4\",\"#fdc086\",\"#f0027f\",\"#386cb0\",\"#beaed4\",\"#386cb0\",\"#f0027f\",\"#386cb0\",\"#7fc97f\",\"#7fc97f\",\"#fdc086\",\"#fdc086\",\"#f0027f\",\"#beaed4\",\"#386cb0\",\"#beaed4\",\"#7fc97f\",\"#7fc97f\",\"#7fc97f\",\"#386cb0\",\"#fdc086\",\"#beaed4\",\"#fdc086\",\"#386cb0\",\"#386cb0\",\"#386cb0\",\"#386cb0\",\"#7fc97f\",\"#fdc086\",\"#fdc086\",\"#ffff99\",\"#7fc97f\",\"#386cb0\",\"#fdc086\",\"#386cb0\",\"#fdc086\",\"#ffff99\",\"#7fc97f\",\"#7fc97f\",\"#beaed4\",\"#beaed4\",\"#386cb0\",\"#f0027f\",\"#ffff99\",\"#7fc97f\",\"#386cb0\",\"#f0027f\",\"#386cb0\",\"#beaed4\",\"#fdc086\",\"#beaed4\",\"#beaed4\",\"#beaed4\",\"#f0027f\",\"#7fc97f\",\"#7fc97f\",\"#fdc086\",\"#7fc97f\",\"#386cb0\",\"#7fc97f\",\"#ffff99\",\"#fdc086\",\"#fdc086\",\"#beaed4\",\"#fdc086\",\"#f0027f\",\"#fdc086\",\"#beaed4\",\"#fdc086\",\"#beaed4\",\"#7fc97f\",\"#386cb0\",\"#7fc97f\",\"#fdc086\",\"#beaed4\",\"#386cb0\",\"#fdc086\",\"#386cb0\",\"#fdc086\",\"#fdc086\",\"#7fc97f\",\"#beaed4\",\"#fdc086\",\"#ffff99\"],\"loglen\":[5.030437921392435,7.52456122628536,6.063785208687608,4.248495242049359,6.206575926724928,7.77863014732581,4.2626798770413155,6.556778356158042,5.720311776607412,5.823045895483019,6.590301048196686,4.7535901911063645,10.22128652389172,7.208600337960199,7.354362330421477,5.4638318050256105,4.499809670330265,4.718498871295094,4.477336814478207,9.352273867864849,5.298317366548036,5.6131281063880705,7.6760099320288875,9.99186466315354,5.298317366548036,2.995732273553991,5.71042701737487,8.631057447565285,4.941642422609304,4.454347296253507,4.9344739331306915,6.403574197934815,5.342334251964811,7.489412083508719,8.458716261657262,4.820281565605037,9.575677688993569,6.342121418721152,6.836259277277067,7.595889917718538,6.915723448631314,8.414717399827001,4.762173934797756,5.8377304471659395,5.209486152841421,10.618053700469373,5.652489180268651,5.981414211254481,5.783825182329737,6.335054251498059,8.812992231969966,6.333279628139691,6.745236349484363,7.609862200913554,10.406744606802166,5.3230099791384085,5.7430031878094825,9.31982238259318,5.697093486505405,1.0986122886681098,6.152732694704104,7.157735484249907,5.8805329864007,8.295798110636145,8.36264243156764,5.66988092298052,9.474625866621567,5.159055299214529,6.63200177739563,7.532623618788788,6.882437470997847,5.631211781821365,5.762051382780177,5.1298987149230735,9.408125088823502,4.127134385045092,4.143134726391533,5.846438775057725,4.955827057601261,6.927557906278317,11.3931729912432,8.207401833376355,6.437751649736401,5.337538079701318,5.153291594497779,6.063785208687608,5.69035945432406,5.5134287461649825,4.61512051684126,5.0106352940962555,8.629628620746026,7.27931883541462,7.615298339825815,7.5443321080536885,7.603897968521881,5.755742213586912,7.8168199657645525,4.343805421853684,5.5093883366279774,6.858565034791365,8.235360643753348,9.258654232254733,6.704414354964107,4.976733742420574,4.997212273764115,7.965545573129992,5.4116460518550396,6.395261598115449,8.25712628599743,6.569481420414296,6.2285110035911835,9.562264046489428,7.222566018822171,2.302585092994046,4.07753744390572,5.476463551931511,4.5217885770490405,4.127134385045092,4.532599493153256,5.459585514144159,7.487173694213739,4.477336814478207,5.976350909297934,5.043425116919247,5.752572638825633,6.364750756851911,8.67214355141406,4.23410650459726,9.551444720923957,4.969813299576001,7.028201432058005,6.385194398997726,8.754791763700032,5.220355825078324,5.846438775057725,5.159055299214529,5.170483995038151,5.198497031265826,10.516562858330515,9.808572294739841,5.840641657373398,3.5263605246161616,7.04141166379481,8.135346948906706,5.176149732573829,4.430816798843313,9.999070422429858,7.4770384723196965,4.0943445622221,9.736251633160215,6.184148890937483,7.947325027016463,5.19295685089021,9.700024071988745,4.762173934797756,9.391661428436555,9.28498391497195,8.1797604936999,7.734121303328305,4.248495242049359,5.713732805509369,4.04305126783455,4.574710978503383,9.222565341598752,6.202535517187923,3.871201010907891,6.113682179832232,9.521421537856195,6.361302477572996,5.62040086571715,4.787491742782046,5.327876168789581,5.659482215759621,4.499809670330265,5.575949103146316,5.075173815233827,6.946013991099227,4.969813299576001,5.66988092298052,4.356708826689592,5.924255797414532,5.817111159963204,7.979338895262328,6.957497370876951,9.163143937145207,5.420534999272286,4.709530201312334,4.77912349311153,3.4011973816621555,6.22455842927536,4.890349128221754,7.088408778675395,8.488587934405903,6.741700694652055,4.290459441148391,7.020190708311925,6.089044875446846,9.983499490505512,9.330520532232288,6.925595197110468,5.991464547107982,5.389071729816501,5.043425116919247,4.844187086458591,7.218176838403408,4.6443908991413725,10.488464718935205,4.820281565605037,5.278114659230517,6.926577033222725,5.198497031265826,4.653960350157523,8.504918160540624,5.730099782973574,5.697093486505405,4.700480365792417,5.497168225293202,9.03145291191651,6.794586580876499,4.997212273764115,6.376726947898627,4.276666119016055,4.430816798843313,4.6913478822291435,6.336825731146441,9.049349685884057,6.354370040797351,7.531552381407289,5.84354441703136,4.969813299576001,9.32188174670909,6.1903154058531475,6.003887067106539,8.33423142973486,4.430816798843313,7.580699752224563,4.343805421853684,4.5217885770490405,8.73681053295389,4.127134385045092,4.02535169073515,7.8156105320351905,9.581006974541651,6.440946540632921,9.318297513481275,8.297792626380861,6.280395838960195,8.31898612539206,9.320270431348378,6.298949246855942,4.770684624465665,3.332204510175204,7.753194269884341,5.455321115357702,5.241747015059643,5.25227342804663,4.605170185988092,8.151044945685024,5.5093883366279774,8.677609912822142,8.963032193662675,7.433666540166168],\"x\":{\"__ndarray__\":\"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\",\"dtype\":\"float64\",\"shape\":[262]},\"y\":{\"__ndarray__\":\"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\",\"dtype\":\"float64\",\"shape\":[262]}},\"selected\":{\"id\":\"1046\",\"type\":\"Selection\"},\"selection_policy\":{\"id\":\"1045\",\"type\":\"UnionRenderers\"}},\"id\":\"1002\",\"type\":\"ColumnDataSource\"},{\"attributes\":{},\"id\":\"1027\",\"type\":\"SaveTool\"},{\"attributes\":{},\"id\":\"1010\",\"type\":\"LinearScale\"},{\"attributes\":{},\"id\":\"1012\",\"type\":\"LinearScale\"},{\"attributes\":{},\"id\":\"1045\",\"type\":\"UnionRenderers\"},{\"attributes\":{\"active_drag\":\"auto\",\"active_inspect\":\"auto\",\"active_multi\":null,\"active_scroll\":\"auto\",\"active_tap\":\"auto\",\"tools\":[{\"id\":\"1024\",\"type\":\"HoverTool\"},{\"id\":\"1025\",\"type\":\"PanTool\"},{\"id\":\"1026\",\"type\":\"WheelZoomTool\"},{\"id\":\"1027\",\"type\":\"SaveTool\"}]},\"id\":\"1028\",\"type\":\"Toolbar\"},{\"attributes\":{\"axis_label\":\"PC 1\",\"formatter\":{\"id\":\"1044\",\"type\":\"BasicTickFormatter\"},\"plot\":{\"id\":\"1004\",\"subtype\":\"Figure\",\"type\":\"Plot\"},\"ticker\":{\"id\":\"1015\",\"type\":\"BasicTicker\"}},\"id\":\"1014\",\"type\":\"LinearAxis\"},{\"attributes\":{\"plot\":{\"id\":\"1004\",\"subtype\":\"Figure\",\"type\":\"Plot\"},\"ticker\":{\"id\":\"1015\",\"type\":\"BasicTicker\"}},\"id\":\"1018\",\"type\":\"Grid\"},{\"attributes\":{},\"id\":\"1046\",\"type\":\"Selection\"},{\"attributes\":{},\"id\":\"1015\",\"type\":\"BasicTicker\"},{\"attributes\":{\"fill_alpha\":{\"value\":0.1},\"fill_color\":{\"value\":\"#1f77b4\"},\"line_alpha\":{\"value\":0.1},\"line_color\":{\"value\":\"#1f77b4\"},\"size\":{\"field\":\"loglen\",\"units\":\"screen\"},\"x\":{\"field\":\"x\"},\"y\":{\"field\":\"y\"}},\"id\":\"1036\",\"type\":\"Circle\"},{\"attributes\":{\"axis_label\":\"PC 2\",\"formatter\":{\"id\":\"1042\",\"type\":\"BasicTickFormatter\"},\"plot\":{\"id\":\"1004\",\"subtype\":\"Figure\",\"type\":\"Plot\"},\"ticker\":{\"id\":\"1020\",\"type\":\"BasicTicker\"}},\"id\":\"1019\",\"type\":\"LinearAxis\"},{\"attributes\":{\"fill_color\":{\"field\":\"color\"},\"line_color\":{\"value\":null},\"size\":{\"field\":\"loglen\",\"units\":\"screen\"},\"x\":{\"field\":\"x\"},\"y\":{\"field\":\"y\"}},\"id\":\"1035\",\"type\":\"Circle\"},{\"attributes\":{\"plot\":null,\"text\":\"Cd-rom Middelnederlands (rijm)\"},\"id\":\"1003\",\"type\":\"Title\"},{\"attributes\":{},\"id\":\"1020\",\"type\":\"BasicTicker\"},{\"attributes\":{\"dimension\":1,\"plot\":{\"id\":\"1004\",\"subtype\":\"Figure\",\"type\":\"Plot\"},\"ticker\":{\"id\":\"1020\",\"type\":\"BasicTicker\"}},\"id\":\"1023\",\"type\":\"Grid\"},{\"attributes\":{\"callback\":null,\"tooltips\":[[\"Title\",\"@Title\"],[\"Author\",\"@Author\"],[\"Date\",\"@Date\"]]},\"id\":\"1024\",\"type\":\"HoverTool\"},{\"attributes\":{\"callback\":null},\"id\":\"1006\",\"type\":\"DataRange1d\"},{\"attributes\":{\"plot\":{\"id\":\"1004\",\"subtype\":\"Figure\",\"type\":\"Plot\"},\"text\":\"Van den vos Reynaerde\",\"text_align\":\"center\",\"text_font_size\":{\"value\":\"10pt\"},\"x\":-0.04476848696669926,\"y\":-0.01966690457292966},\"id\":\"1033\",\"type\":\"Label\"},{\"attributes\":{\"data_source\":{\"id\":\"1002\",\"type\":\"ColumnDataSource\"},\"glyph\":{\"id\":\"1035\",\"type\":\"Circle\"},\"hover_glyph\":null,\"muted_glyph\":null,\"nonselection_glyph\":{\"id\":\"1036\",\"type\":\"Circle\"},\"selection_glyph\":null,\"view\":{\"id\":\"1038\",\"type\":\"CDSView\"}},\"id\":\"1037\",\"type\":\"GlyphRenderer\"}],\"root_ids\":[\"1004\"]},\"title\":\"Bokeh Application\",\"version\":\"1.0.4\"}};\n",
       "  var render_items = [{\"docid\":\"8859604a-3776-4913-846f-d46e60e8ffaa\",\"roots\":{\"1004\":\"3705621a-90b3-4168-bb46-916c64cfab29\"}}];\n",
       "  root.Bokeh.embed.embed_items_notebook(docs_json, render_items);\n",
       "\n",
       "  }\n",
       "  if (root.Bokeh !== undefined) {\n",
       "    embed_document(root);\n",
       "  } else {\n",
       "    var attempts = 0;\n",
       "    var timer = setInterval(function(root) {\n",
       "      if (root.Bokeh !== undefined) {\n",
       "        embed_document(root);\n",
       "        clearInterval(timer);\n",
       "      }\n",
       "      attempts++;\n",
       "      if (attempts > 100) {\n",
       "        console.log(\"Bokeh: ERROR: Unable to run BokehJS code because BokehJS library is missing\");\n",
       "        clearInterval(timer);\n",
       "      }\n",
       "    }, 10, root)\n",
       "  }\n",
       "})(window);"
      ],
      "application/vnd.bokehjs_exec.v0+json": ""
     },
     "metadata": {
      "application/vnd.bokehjs_exec.v0+json": {
       "id": "1004"
      }
     },
     "output_type": "display_data"
    }
   ],
   "source": [
    "source = ColumnDataSource(data_dict)\n",
    "\n",
    "p = figure(\n",
    "    tools=\"hover,pan,wheel_zoom,save\",\n",
    "    toolbar_location=\"above\",\n",
    "    title=fig_title,\n",
    "    plot_width=800, plot_height=800,\n",
    ")\n",
    "\n",
    "from bokeh.models import Label\n",
    "for x, y, title in zip(data_dict['x'], data_dict['y'], data_dict['Title']):\n",
    "    if 'reynaerde' in title.lower():\n",
    "        p.add_layout(Label(x=x, y=y, text=title,\n",
    "                           text_align=\"center\", text_font_size=\"10pt\"))\n",
    "\n",
    "p.circle('x', 'y', source=source,\n",
    "          fill_color='color', fill_alpha=1,\n",
    "          line_color=None, size='loglen')\n",
    "\n",
    "\n",
    "p.xaxis.axis_label = x_label\n",
    "p.yaxis.axis_label = y_label\n",
    "\n",
    "p.hover.tooltips = [(\"Title\", \"@Title\"),\n",
    "                    (\"Author\", \"@Author\"),\n",
    "                    (\"Date\", \"@Date\")]\n",
    "\n",
    "show(p)"
   ]
  },
  {
   "cell_type": "markdown",
   "metadata": {},
   "source": [
    "We krijgen mooi de driehoek van Petersen: lyriek vs epiek vs dramatiek."
   ]
  },
  {
   "cell_type": "markdown",
   "metadata": {},
   "source": [
    "## TSNE (on top of PCA)"
   ]
  },
  {
   "cell_type": "code",
   "execution_count": 13,
   "metadata": {},
   "outputs": [
    {
     "name": "stdout",
     "output_type": "stream",
     "text": [
      "(262, 30)\n"
     ]
    }
   ],
   "source": [
    "pca = PCA(30)\n",
    "X_pca = pca.fit_transform(X)\n",
    "print(X_pca.shape)"
   ]
  },
  {
   "cell_type": "code",
   "execution_count": 14,
   "metadata": {},
   "outputs": [
    {
     "name": "stdout",
     "output_type": "stream",
     "text": [
      "(262, 2)\n"
     ]
    }
   ],
   "source": [
    "from sklearn.manifold import TSNE\n",
    "tsne = TSNE(2)\n",
    "X_tsne = tsne.fit_transform(X_pca)\n",
    "print(X_tsne.shape)"
   ]
  },
  {
   "cell_type": "code",
   "execution_count": 15,
   "metadata": {},
   "outputs": [],
   "source": [
    "clust = AgglomerativeClustering(num_clust)\n",
    "labels = clust.fit_predict(X_tsne)"
   ]
  },
  {
   "cell_type": "code",
   "execution_count": 16,
   "metadata": {},
   "outputs": [],
   "source": [
    "colors = [Accent[num_clust][i] for i in labels]"
   ]
  },
  {
   "cell_type": "code",
   "execution_count": 17,
   "metadata": {},
   "outputs": [],
   "source": [
    "data_dict = {'x': X_tsne[:, 0],\n",
    "             'y': X_tsne[:, 1],\n",
    "             'color': colors,\n",
    "             'Title': [d['title'] for d in metadata],\n",
    "             'Author': [d['author'] for d in metadata],\n",
    "             'Date': [d['date'] for d in metadata],\n",
    "             'Length': [d['size'] for d in metadata],\n",
    "             'loglen': [np.log(d['size']) for d in metadata],\n",
    "}\n",
    "data_df = pd.DataFrame(data_dict)\n",
    "\n",
    "x_label = \"Dim. 1\"\n",
    "y_label = \"Dim. 2\"\n",
    "fig_title = \"Cd-rom Middelnederlands (rijm)\""
   ]
  },
  {
   "cell_type": "code",
   "execution_count": 18,
   "metadata": {},
   "outputs": [
    {
     "data": {
      "text/html": [
       "\n",
       "\n",
       "\n",
       "\n",
       "\n",
       "\n",
       "  <div class=\"bk-root\" id=\"cca672aa-5c55-48e4-928f-ae04d508eb3d\" data-root-id=\"1091\"></div>\n"
      ]
     },
     "metadata": {},
     "output_type": "display_data"
    },
    {
     "data": {
      "application/javascript": [
       "(function(root) {\n",
       "  function embed_document(root) {\n",
       "    \n",
       "  var docs_json = {\"1f8a069a-b163-404d-b27e-b4c1bf37c9bb\":{\"roots\":{\"references\":[{\"attributes\":{\"below\":[{\"id\":\"1101\",\"type\":\"LinearAxis\"}],\"left\":[{\"id\":\"1106\",\"type\":\"LinearAxis\"}],\"plot_height\":800,\"plot_width\":800,\"renderers\":[{\"id\":\"1101\",\"type\":\"LinearAxis\"},{\"id\":\"1105\",\"type\":\"Grid\"},{\"id\":\"1106\",\"type\":\"LinearAxis\"},{\"id\":\"1110\",\"type\":\"Grid\"},{\"id\":\"1120\",\"type\":\"Label\"},{\"id\":\"1124\",\"type\":\"GlyphRenderer\"}],\"title\":{\"id\":\"1090\",\"type\":\"Title\"},\"toolbar\":{\"id\":\"1115\",\"type\":\"Toolbar\"},\"toolbar_location\":\"above\",\"x_range\":{\"id\":\"1093\",\"type\":\"DataRange1d\"},\"x_scale\":{\"id\":\"1097\",\"type\":\"LinearScale\"},\"y_range\":{\"id\":\"1095\",\"type\":\"DataRange1d\"},\"y_scale\":{\"id\":\"1099\",\"type\":\"LinearScale\"}},\"id\":\"1091\",\"subtype\":\"Figure\",\"type\":\"Plot\"},{\"attributes\":{\"plot\":null,\"text\":\"Cd-rom Middelnederlands (rijm)\"},\"id\":\"1090\",\"type\":\"Title\"},{\"attributes\":{},\"id\":\"1107\",\"type\":\"BasicTicker\"},{\"attributes\":{\"dimension\":1,\"plot\":{\"id\":\"1091\",\"subtype\":\"Figure\",\"type\":\"Plot\"},\"ticker\":{\"id\":\"1107\",\"type\":\"BasicTicker\"}},\"id\":\"1110\",\"type\":\"Grid\"},{\"attributes\":{\"plot\":{\"id\":\"1091\",\"subtype\":\"Figure\",\"type\":\"Plot\"},\"text\":\"Van den vos Reynaerde\",\"text_align\":\"center\",\"text_font_size\":{\"value\":\"10pt\"},\"x\":-1.1197121143341064,\"y\":6.058351516723633},\"id\":\"1120\",\"type\":\"Label\"},{\"attributes\":{\"callback\":null},\"id\":\"1093\",\"type\":\"DataRange1d\"},{\"attributes\":{\"fill_color\":{\"field\":\"color\"},\"line_color\":{\"value\":null},\"size\":{\"field\":\"loglen\",\"units\":\"screen\"},\"x\":{\"field\":\"x\"},\"y\":{\"field\":\"y\"}},\"id\":\"1122\",\"type\":\"Circle\"},{\"attributes\":{},\"id\":\"1140\",\"type\":\"Selection\"},{\"attributes\":{\"callback\":null},\"id\":\"1095\",\"type\":\"DataRange1d\"},{\"attributes\":{\"callback\":null,\"tooltips\":[[\"Title\",\"@Title\"],[\"Author\",\"@Author\"],[\"Date\",\"@Date\"]]},\"id\":\"1111\",\"type\":\"HoverTool\"},{\"attributes\":{},\"id\":\"1097\",\"type\":\"LinearScale\"},{\"attributes\":{},\"id\":\"1099\",\"type\":\"LinearScale\"},{\"attributes\":{},\"id\":\"1112\",\"type\":\"PanTool\"},{\"attributes\":{\"callback\":null,\"data\":{\"Author\":[\"Onbekend\",\"Onbekend\",\"Onbekend\",\"Onbekend\",\"Lambertus Goetman\",\"Onbekend\",\"Philip Utenbroeke\",\"Lodewijk van Velthem\",\"Onbekend\",\"Jacob van Maerlant\",\"Onbekend\",\"Onbekend\",\"Lodewijk van Velthem\",\"Onbekend\",\"Calfstaf en Noydekin(?)\",\"Onbekend\",\"Onbekend\",\"Onbekend\",\"Lodewijk van Velthem\",\"Loy Latewaert\",\"Onbekend\",\"Onbekend\",\"Jacob van Maerlant\",\"Heinriic\",\"Onbekend\",\"Onbekend\",\"Onbekend\",\"Onbekend\",\"Onbekend\",\"Onbekend\",\"Onbekend\",\"Philip Utenbroeke\",\"Onbekend\",\"Lodewijk van Velthem\",\"Onbekend\",\"Onbekend\",\"Hein van Aken\",\"Lodewijk van Velthem\",\"Onbekend\",\"Heraut Beyeren\",\"Lodewijk van Velthem\",\"Onbekend\",\"Onbekend\",\"Onbekend\",\"Onbekend\",\"Jacob van Maerlant\",\"Onbekend\",\"Onbekend\",\"Clays van Haerlem\",\"Lodewijk van Velthem\",\"Onbekend\",\"Lodewijk van Velthem\",\"Onbekend\",\"Jan van Boendale\",\"Philip Utenbroeke\",\"Lodewijk van Velthem\",\"Lodewijk van Velthem\",\"Onbekend\",\"Onbekend\",\"Onbekend\",\"Onbekend\",\"Onbekend\",\"Onbekend\",\"Diederic van Assenede\",\"Onbekend\",\"Hein van Aken\",\"Onbekend\",\"Onbekend\",\"Onbekend\",\"Jan de Weert\",\"Jacob van Maerlant\",\"Niet van toepassing\",\"Jacob van Maerlant(?)\",\"Onbekend\",\"Onbekend\",\"Onbekend\",\"Onbekend\",\"Onbekend\",\"Onbekend\",\"Onbekend\",\"Jacob van Maerlant\",\"Onbekend\",\"Onbekend\",\"Onbekend\",\"Onbekend\",\"Onbekend\",\"Niet van toepassing\",\"Onbekend\",\"Onbekend\",\"Onbekend\",\"Onbekend\",\"Gielijs van Molhem\",\"Onbekend\",\"Onbekend\",\"Onbekend\",\"Augustijnken\",\"Niet van toepassing\",\"Onbekend\",\"Jacob van Maerlant\",\"Onbekend\",\"Onbekend\",\"Jacob van Maerlant\",\"Onbekend\",\"Onbekend\",\"Onbekend\",\"Hadewijch\",\"Onbekend\",\"Jacob van Maerlant\",\"Jacob van Maerlant\",\"Onbekend\",\"Jacob van Maerlant\",\"Jacob van Maerlant\",\"Niet van toepassing\",\"Onbekend\",\"Onbekend\",\"Onbekend\",\"Onbekend\",\"Onbekend\",\"Onbekend\",\"Onbekend\",\"Onbekend\",\"Onbekend\",\"Lodewijk van Velthem\",\"Onbekend\",\"Onbekend\",\"Onbekend\",\"Onbekend\",\"Onbekend\",\"Niet van toepassing\",\"Philip Utenbroeke\",\"Onbekend\",\"Philip Utenbroeke\",\"Onbekend\",\"Lodewijk van Velthem\",\"Onbekend\",\"Lodewijk van Velthem\",\"Onbekend\",\"Onbekend\",\"Onbekend\",\"Onbekend\",\"Onbekend\",\"Onbekend\",\"Onbekend\",\"Onbekend\",\"Onbekend\",\"Onbekend\",\"Jan van Boendale\",\"Onbekend\",\"Onbekend\",\"Onbekend\",\"Onbekend\",\"Onbekend\",\"Philip Utenbroeke\",\"Jan van Boendale\",\"Onbekend\",\"Onbekend\",\"Onbekend\",\"Hadewijch\",\"Onbekend\",\"Onbekend\",\"Onbekend\",\"Onbekend\",\"Onbekend\",\"Niet van toepassing\",\"Onbekend\",\"Onbekend\",\"Onbekend\",\"Melis Stoke\",\"Lodewijk van Velthem\",\"Onbekend\",\"Jacob van Maerlant?\",\"Philip Utenbroeke\",\"Onbekend\",\"Onbekend\",\"Onbekend\",\"Onbekend\",\"Onbekend\",\"Onbekend\",\"Onbekend\",\"Onbekend\",\"Jan van Boendale\",\"Jacob van Maerlant\",\"Jan de Weert\",\"Augustijnken\",\"Jan van Heelu\",\"Onbekend\",\"Onbekend\",\"Onbekend\",\"Onbekend\",\"Onbekend\",\"Onbekend\",\"Onbekend\",\"Jan Praet\",\"Onbekend\",\"Jacob van Maerlant(?)\",\"Onbekend\",\"Onbekend\",\"Willem van Hildegaersberch\",\"Onbekend\",\"Onbekend\",\"Onbekend\",\"Onbekend\",\"Onbekend\",\"Philip Utenbroeke\",\"Onbekend\",\"Jacob van Maerlant(?)\",\"Jacob van Maerlant\",\"Onbekend\",\"Onbekend\",\"Onbekend\",\"Onbekend\",\"Onbekend\",\"Onbekend\",\"Onbekend\",\"Onbekend\",\"Onbekend\",\"Onbekend\",\"Onbekend\",\"Hein van Aken(?)\",\"Onbekend\",\"Lodewijk van Velthem\",\"Onbekend\",\"Augustijnken\",\"Onbekend\",\"Onbekend\",\"Niet van toepassing\",\"Onbekend\",\"Onbekend\",\"Onbekend\",\"Onbekend\",\"Penninc en Pieter Vostaert\",\"Lodewijk van Velthem\",\"Onbekend\",\"Niet van toepassing\",\"Onbekend\",\"Niet van toepassing\",\"Onbekend\",\"Onbekend\",\"Hendrik van Veldeke\",\"Onbekend\",\"Onbekend\",\"Onbekend\",\"Onbekend\",\"Onbekend\",\"Dirc Potter\",\"Onbekend\",\"Onbekend\",\"Jan van Boendale\",\"Niet van toepassing\",\"Jacob van Maerlant\",\"Onbekend\",\"Onbekend\",\"Onbekend\",\"Jacob van Maerlant\",\"Onbekend\",\"Onbekend\",\"Onbekend\",\"Willem\",\"Onbekend\",\"Jan van Boendale\",\"Onbekend\",\"Onbekend\"],\"Date\":[\"1375-1400\",\"1400-1420\",\"1350-1400\",\"1350-1400\",\"1510-1520\",\"1375-1400\",\"1325-1350\",\"1390-1410\",\"1340-1360\",\"1380-1425\",\"1400-1500\",\"1350-1400\",\"1315-1335\",\"1390-1410\",\"1340-1360\",\"1470-1490\",\"1350-1400\",\"1390-1410\",\"1300-1325\",\"1412-1415\",\"1400-1420\",\"1400-1420\",\"1374-1374\",\"1340-1360\",\"1340-1360\",\"1440-1460\",\"1339-1339\",\"1340-1360\",\"1300-1400\",\"1300-1400\",\"1340-1360\",\"1390-1410\",\"1340-1360\",\"1390-1410\",\"1300-1350\",\"1350-1400\",\"1300-1350\",\"1390-1410\",\"1440-1450\",\"1400-1420\",\"1300-1350\",\"1350-1400\",\"1200-1250\",\"1340-1360\",\"1500-1520\",\"1465-1485\",\"1300-1400\",\"1300-1350\",\"1300-1350\",\"1390-1410\",\"1374-1374\",\"1390-1410\",\"1339-1339\",\"1435-1455\",\"1393-1402\",\"1350-1400\",\"1350-1400\",\"1300-1350\",\"1390-1410\",\"1375-1400\",\"1440-1460\",\"1340-1360\",\"1375-1400\",\"1340-1360\",\"1340-1360\",\"1390-1410\",\"1300-1350\",\"1375-1425\",\"1457-1500\",\"1380-1425\",\"1380-1425\",\"1551-1551\",\"1300-1400\",\"1350-1400\",\"1800-1820\",\"1300-1350\",\"1340-1360\",\"1300-1400\",\"1300-1350\",\"1375-1400\",\"1300-1325\",\"1300-1350\",\"1400-1420\",\"1400-1420\",\"1350-1375\",\"1300-1400\",\"1551-1551\",\"1340-1360\",\"1375-1400\",\"1340-1360\",\"1300-1350\",\"1390-1410\",\"1300-1400\",\"1300-1350\",\"1340-1360\",\"1400-1420\",\"1400-1425\",\"1300-1400\",\"1339-1339\",\"1400-1420\",\"1390-1410\",\"1300-1350\",\"1375-1400\",\"1350-1400\",\"1300-1320\",\"1340-1360\",\"1340-1360\",\"1380-1425\",\"1300-1350\",\"1460-1470\",\"1380-1425\",\"1390-1410\",\"1350-1400\",\"1350-1400\",\"1300-1350\",\"1340-1360\",\"1290-1310\",\"1350-1400\",\"1400-1420\",\"1350-1375\",\"1405-1405\",\"1375-1400\",\"1315-1350\",\"1300-1400\",\"1340-1360\",\"1440-1460\",\"1300-1350\",\"1340-1360\",\"1539-1539\",\"1300-1350\",\"1400-1420\",\"1390-1410\",\"1400-1420\",\"1315-1350\",\"1340-1360\",\"1393-1402\",\"1495-1515\",\"1300-1400\",\"1300-1350\",\"1460-1480\",\"1340-1360\",\"1300-1325\",\"1400-1420\",\"1300-1350\",\"1300-1350\",\"1300-1325\",\"1340-1360\",\"1400-1429\",\"1350-1400\",\"1440-1460\",\"1350-1375\",\"1290-1310\",\"1315-1350\",\"1460-1480\",\"1300-1400\",\"1432-1432\",\"1340-1360\",\"1340-1360\",\"1380-1425\",\"1490-1510\",\"1570-1590\",\"1400-1420\",\"1350-1400\",\"1390-1410\",\"1480-1500\",\"1300-1350\",\"1340-1360\",\"1365-1385\",\"1390-1410\",\"1350-1400\",\"1400-1450\",\"1300-1325\",\"1405-1405\",\"1300-1350\",\"1400-1450\",\"1500-1520\",\"1374-1374\",\"1375-1400\",\"1340-1360\",\"1300-1400\",\"1399-1410\",\"1300-1350\",\"1400-1420\",\"1400-1420\",\"1430-1450\",\"1350-1400\",\"1400-1420\",\"1390-1410\",\"1300-1400\",\"1475-1500\",\"1375-1400\",\"1340-1360\",\"1440-1460\",\"1300-1350\",\"1339-1339\",\"1490-1510\",\"1434-1436\",\"1470-1490\",\"1375-1400\",\"1300-1350\",\"1340-1360\",\"1400-1420\",\"1340-1360\",\"1350-1400\",\"1486-1488\",\"1339-1339\",\"1415-1435\",\"1300-1400\",\"1440-1460\",\"1400-1420\",\"1350-1400\",\"1350-1400\",\"1438-1438\",\"1340-1360\",\"1490-1530\",\"1390-1410\",\"1400-1420\",\"1350-1400\",\"1390-1400\",\"1290-1310\",\"1300-1325\",\"1475-1500\",\"1400-1420\",\"1375-1400\",\"1350-1400\",\"1350-1400\",\"None-None\",\"1350-1400\",\"1300-1350\",\"1380-1400\",\"1350-1350\",\"1340-1360\",\"1400-1420\",\"1350-1400\",\"1300-1400\",\"1508-1508\",\"1340-1360\",\"1300-1350\",\"1450-1500\",\"1300-1400\",\"1300-1350\",\"1390-1410\",\"1400-1420\",\"1440-1460\",\"1470-1490\",\"1300-1350\",\"1600-1700\",\"1390-1410\",\"1544-1544\",\"1339-1339\",\"1300-1400\",\"1390-1410\",\"1351-1351\",\"1390-1400\",\"None-None\",\"1300-1350\",\"1375-1400\",\"1380-1425\",\"1300-1350\",\"1390-1410\",\"1460-1480\",\"1479-1483\"],\"Length\":[153,1853,430,70,496,2389,71,704,305,338,728,116,27482,1351,1563,236,90,112,88,11525,200,274,2156,21848,200,20,302,5603,140,86,139,604,209,1789,4716,124,14410,568,931,1990,1008,4513,117,343,183,40866,285,396,325,564,6721,563,850,2018,33082,205,312,11157,298,3,470,1284,358,4007,4284,290,13025,174,759,1868,975,279,318,169,12187,62,63,346,142,1020,88714,3668,625,208,173,430,296,248,101,150,5595,1450,2029,1890,2006,316,2482,77,247,952,3772,10495,816,145,148,2880,224,599,3855,713,507,14218,1370,10,59,239,92,62,93,235,1785,88,394,155,315,581,5838,69,14065,144,1128,593,6341,185,346,174,176,181,36922,18189,344,34,1143,3413,177,84,22006,1767,60,16920,485,2828,180,16318,117,11988,10775,3568,2285,70,303,57,97,10123,494,48,452,13649,579,276,120,206,287,90,264,160,1039,144,290,78,374,336,2920,1051,9539,226,111,119,30,505,133,1198,4859,847,73,1119,441,21666,11277,1018,400,219,155,127,1364,104,35899,124,196,1019,181,105,4939,308,298,110,244,8362,893,148,588,72,84,109,565,8513,575,1866,345,144,11180,488,405,4164,84,1960,77,92,6228,62,56,2479,14487,627,11140,4015,534,4101,11162,544,118,28,2329,234,189,191,100,3467,247,5870,7809,1692],\"Title\":[\"Onge\\u00efdentificeerd (6)\",\"Theophilus\",\"Madelgijs\",\"Roelantslied\",\"Spiegel der jongers\",\"Borchgrave van Couchi\",\"Spiegel historiael (tweede partie)\",\"Spiegel historiael (vierde partie [aandeel Velthem])\",\"Parthonopeus van Bloys\",\"Tweede Martijn\",\"Sinte Kunera\",\"Madelgijs\",\"Spiegel historiael (vijfde partie)\",\"Van Maskeroen\",\"Esopet\",\"Rijmspreuken\",\"Madelgijs\",\"Noch meer van wiven\",\"Spiegel historiael (vierde partie [aandeel Velthem])\",\"Segheliin van Jerusalem\",\"Lippijn\",\"Van ses vaerwen ende twaelf outheyden\",\"Heymelijchede der heymelijcheit\",\"Roman van Limborch\",\"Gwidekijn van Sassen\",\"Spel van Abraham en Sara\",\"Van der manen zeden\",\"Ferguut\",\"Onge\\u00efdentificeerd (4)\",\"Boudewijn van Seborch\",\"Madelgijs\",\"Spiegel historiael (tweede partie)\",\"Madelgijs\",\"Spiegel historiael (vierde partie [aandeel Velthem])\",\"Roman van Moriaen\",\"Madelgijs\",\"Rose\",\"Spiegel historiael (vierde partie [aandeel Velthem])\",\"Ons heren passie\",\"Korte kroniek van Brabant (lange versie)\",\"Merlijn-continuatie\",\"Van den VII Vroeden van binnen Rome\",\"Onge\\u00efdentificeerd (1)\",\"Onge\\u00efdentificeerd (3)\",\"Historie van Gaver Capeel\",\"Historie van Troyen\",\"Valentijn en Nameloos\",\"Roman van Lancelot\",\"Willem van Oringen\",\"Spiegel historiael (vierde partie [aandeel Velthem])\",\"Dietsche doctrinale\",\"Spiegel historiael (vierde partie [aandeel Velthem])\",\"Boec van den houte (berijmde versie)\",\"Van den derden Eduwaert\",\"Spiegel historiael (tweede partie)\",\"Merlijn-continuatie\",\"Merlijn-continuatie\",\"Queeste van den Grale\",\"Leven van Sint Trudo (berijming)\",\"Onge\\u00efdentificeerd (2)\",\"Collectief lunarium III (berijmd)\",\"Bediedenisse van der missen\",\"Madelgijs\",\"Floris ende Blancefloer\",\"Der ystorien bloeme\",\"Van Saladijn\",\"Arturs doet\",\"Beerte metten breden voeten\",\"O crux lignum triumphale\",\"Wapene Rogier\",\"Eerste Martijn\",\"Tvveeste musyck boexken\",\"Lapidarijs\",\"Loyhier en Malaert\",\"Grimbergse oorlog\",\"Roman van Antiochi\\u00eb\",\"Godevaert metten baerde\",\"Roelantslied\",\"Roman van Perchevael\",\"Florigout\",\"Spiegel historiael (eerste partie / derde partie / vierde partie [aandeel Maerlant])\",\"Walewein ende Keye\",\"Vanden winter ende vanden somer\",\"Buskenblazer\",\"Florent ende Durant\",\"Sint Patricius' vagevuur (berijming)\",\"Ierste musyck boexken\",\"Parthonopeus van Bloys\",\"Madelgijs\",\"Roman van Cassamus (lange versie)\",\"Roman van Perchevael\",\"Rinclus\",\"Van smeinscen lede\",\"Roman van Cassamus (verkorte versie)\",\"Renout van Montalbaen\",\"Schepping\",\"Berlijnse liederenhandschrift\",\"Renout van Montalbaen\",\"Van den lande van over zee\",\"Lanseloet van Denemerken\",\"Melibeus\",\"Sinte Franciscus leven\",\"Borchgrave van Couchi\",\"Slag van Crecy\",\"Collectief lunarium I (berijmd)\",\"Mengeldichten I-XVI\",\"Madelgijs\",\"Disputacie van onser Vrouwen ende van den Heilighen Cruce\",\"Roman van Torec\",\"Van den neghen besten (lange versie)\",\"Derde Martijn\",\"Alexanders geesten\",\"Gruuthuse-handschrift (gebeden en allegorische gedichten)\",\"Loyhier en Malaert\",\"Roman van Antiochi\\u00eb\",\"Madelgijs\",\"Parthonopeus van Bloys\",\"Roelantslied\",\"Truwanten\",\"Roman van den riddere metter mouwen\",\"Der vrouwen heimelijcheit\",\"Barlaam en Josaphat\",\"Spiegel historiael (vierde partie [aandeel Velthem])\",\"Ogier van Denemarken\",\"Fierabras\",\"Cyromanchie van den pape van den Hamme\",\"Lantsloot van der Haghedochte\",\"Madelgijs\",\"Devoot ende profitelyck boecxken\",\"Spiegel historiael (tweede partie)\",\"Borchgravinne van Vergi (1)\",\"Spiegel historiael (tweede partie)\",\"Dietsche Lucidarius\",\"Spiegel historiael (vierde partie [aandeel Velthem])\",\"Aubri de Borgengoen\",\"Spiegel historiael (vierde partie [aandeel Velthem])\",\"Roman van Jonathas ende Rosafiere\",\"Ogier van Denemarken\",\"Roman van Lancelot\",\"Brabantsche yeesten (boek 7)\",\"Valentijn en Nameloos\",\"Chanson d'Aspremont\",\"Gloriant\",\"Wrake van Ragisel (verkorte versie)\",\"Roman van Cassamus (lange versie)\",\"Borchgrave van Couchi\",\"Der leken spieghel\",\"Natuurkunde van het geheelal\",\"Madelgijs\",\"Spiegel der sonden (berijming)\",\"Borchgravinne van Vergi (2)\",\"Vlaamse Rose\",\"Spiegel historiael (tweede partie)\",\"Brabantsche yeesten (boek 1-5)\",\"Ogier van Denemarken\",\"Brabantsche yeesten (boek 6)\",\"Roman der Lorreinen\",\"Strofische gedichten (Hadewijch)\",\"Van sente Brandane\",\"Renout van Montalbaen\",\"Vande Hertogen ende Heeren van Brabant\",\"AB recht ende averecht\",\"Madelgijs\",\"Haagse liederenhandschrift\",\"Baghynken van Parys\",\"Roman van Antiochi\\u00eb\",\"Roman van Iechemas\",\"Rijmkroniek van Holland\",\"Spiegel historiael (vierde partie [aandeel Velthem])\",\"Roelantslied\",\"Van ons heren wonden\",\"Spiegel historiael (tweede partie)\",\"Fysionomie (berijmd)\",\"Barlaam en Josaphat\",\"Spel van de Antichrist\",\"Roman van Jonathas ende Rosafiere\",\"Beatrijs\",\"Roman van Saladin\",\"Roman van Florimont\",\"Ogier van Denemarken\",\"Korte kroniek van Brabant (korte versie 1)\",\"Merlijns boec\",\"Nieuwe doctrinael\",\"Sinte Jans ewangelium alsoe 't Augustijnken gheexponeert heeft\",\"Rijmkroniek van Woeringen\",\"Van der wive wonderlijcheit (lange versie)\",\"Hexe\",\"Van ghevene\",\"Roman van Cassant\",\"Roelantslied\",\"Parthonopeus van Bloys\",\"Aiol (2) (Vlaamse Aiol)\",\"Speghel der wijsheit\",\"Lanceloet en het hert met de witte voet\",\"Van den vijf vrouden\",\"Jonathas ende Rosafiere\",\"Cracht der mane I\",\"Gedichten (Willem van Hildegaersberch)\",\"Commentaar op het Hooglied (berijmd)\",\"Roman van Caesar\",\"Renout van Montalbaen\",\"Expositie vanden viere vingheren ende vanden dume\",\"Gedicht over de hemeltekenen\",\"Spiegel historiael (tweede partie)\",\"Karel ende Elegast\",\"Van den verkeerden Martijn\",\"Historie van den grale\",\"Loyhier en Malaert\",\"Spiegel der sonden (berijming)\",\"Esmoreit\",\"Anatomie van de mens\",\"Spiegel der sonden (berijming)\",\"Vanden levene ons heren\",\"Boudewijn van Seborch\",\"Boec Exemplaer\",\"Noch die tien ghebode\",\"Rubben\",\"Parthonopeus van Bloys\",\"Vierde Martijn\",\"Parthonopeus van Bloys\",\"Spiegel historiael (vierde partie [aandeel Velthem])\",\"Van den neghen besten (korte versie)\",\"Vander rijcheit ende vander doot\",\"Florigout\",\"Huge van Bordeeus\",\"Gruuthuse-handschrift (allegorische gedichten)\",\"Borchgrave van Couchi\",\"Flandrijs\",\"Huge van Bordeeus\",\"Onge\\u00efdentificeerd fragment\",\"Roman van Walewein\",\"Spiegel historiael (vierde partie [aandeel Velthem])\",\"Drie daghe here\",\"Gruuthuse-handschrift (liederen)\",\"Loyhier en Malaert\",\"Suverlijc boecxken\",\"Wrake van Ragisel\",\"Frenesie\",\"Sint Servaes legende\",\"Spiegel der sonden (berijming)\",\"Godevaerts kintshede\",\"Tien plaghen ende die tien ghebode\",\"Spieghel der menscheliker behoudenesse\",\"Flovent\",\"Der minnen loep\",\"Roman van den riddere metter mouwen (verkorte versie)\",\"Beginsel der oorlogen van Luyck\",\"Jans teesteye\",\"Antwerps liedboek\",\"Clausule vander bible\",\"Minnedichten 2\",\"Noch van Salladine\",\"Der mannen ende vrouwen heimelijcheit\",\"Der kerken claghe\",\"Jan Splinters testament\",\"Geraert van Viane\",\"Lion van Bourges\",\"Van den vos Reynaerde\",\"Minnedichten 1\",\"Boec vander wraken\",\"Reinaerts historie\",\"Dystorie van Saladine\"],\"color\":[\"#beaed4\",\"#fdc086\",\"#f0027f\",\"#7fc97f\",\"#beaed4\",\"#386cb0\",\"#7fc97f\",\"#ffff99\",\"#fdc086\",\"#386cb0\",\"#beaed4\",\"#f0027f\",\"#fdc086\",\"#fdc086\",\"#beaed4\",\"#beaed4\",\"#beaed4\",\"#ffff99\",\"#beaed4\",\"#7fc97f\",\"#386cb0\",\"#ffff99\",\"#ffff99\",\"#fdc086\",\"#7fc97f\",\"#beaed4\",\"#ffff99\",\"#beaed4\",\"#7fc97f\",\"#7fc97f\",\"#7fc97f\",\"#7fc97f\",\"#beaed4\",\"#ffff99\",\"#fdc086\",\"#beaed4\",\"#fdc086\",\"#fdc086\",\"#beaed4\",\"#7fc97f\",\"#fdc086\",\"#f0027f\",\"#7fc97f\",\"#7fc97f\",\"#7fc97f\",\"#beaed4\",\"#7fc97f\",\"#fdc086\",\"#fdc086\",\"#fdc086\",\"#ffff99\",\"#fdc086\",\"#386cb0\",\"#f0027f\",\"#7fc97f\",\"#fdc086\",\"#fdc086\",\"#fdc086\",\"#fdc086\",\"#7fc97f\",\"#ffff99\",\"#ffff99\",\"#f0027f\",\"#fdc086\",\"#fdc086\",\"#ffff99\",\"#fdc086\",\"#beaed4\",\"#fdc086\",\"#386cb0\",\"#386cb0\",\"#beaed4\",\"#386cb0\",\"#beaed4\",\"#fdc086\",\"#7fc97f\",\"#7fc97f\",\"#7fc97f\",\"#7fc97f\",\"#7fc97f\",\"#7fc97f\",\"#fdc086\",\"#386cb0\",\"#386cb0\",\"#7fc97f\",\"#ffff99\",\"#beaed4\",\"#7fc97f\",\"#beaed4\",\"#fdc086\",\"#fdc086\",\"#ffff99\",\"#386cb0\",\"#fdc086\",\"#7fc97f\",\"#ffff99\",\"#386cb0\",\"#7fc97f\",\"#7fc97f\",\"#386cb0\",\"#ffff99\",\"#f0027f\",\"#386cb0\",\"#7fc97f\",\"#ffff99\",\"#386cb0\",\"#f0027f\",\"#386cb0\",\"#fdc086\",\"#f0027f\",\"#386cb0\",\"#7fc97f\",\"#386cb0\",\"#ffff99\",\"#7fc97f\",\"#beaed4\",\"#7fc97f\",\"#7fc97f\",\"#386cb0\",\"#7fc97f\",\"#ffff99\",\"#7fc97f\",\"#fdc086\",\"#7fc97f\",\"#7fc97f\",\"#ffff99\",\"#fdc086\",\"#7fc97f\",\"#beaed4\",\"#7fc97f\",\"#fdc086\",\"#7fc97f\",\"#ffff99\",\"#7fc97f\",\"#7fc97f\",\"#fdc086\",\"#fdc086\",\"#7fc97f\",\"#fdc086\",\"#fdc086\",\"#7fc97f\",\"#7fc97f\",\"#386cb0\",\"#fdc086\",\"#fdc086\",\"#beaed4\",\"#ffff99\",\"#ffff99\",\"#7fc97f\",\"#ffff99\",\"#7fc97f\",\"#7fc97f\",\"#7fc97f\",\"#fdc086\",\"#f0027f\",\"#fdc086\",\"#fdc086\",\"#386cb0\",\"#fdc086\",\"#f0027f\",\"#f0027f\",\"#ffff99\",\"#7fc97f\",\"#386cb0\",\"#beaed4\",\"#7fc97f\",\"#fdc086\",\"#f0027f\",\"#fdc086\",\"#7fc97f\",\"#ffff99\",\"#7fc97f\",\"#ffff99\",\"#f0027f\",\"#ffff99\",\"#beaed4\",\"#fdc086\",\"#7fc97f\",\"#fdc086\",\"#f0027f\",\"#fdc086\",\"#fdc086\",\"#ffff99\",\"#ffff99\",\"#fdc086\",\"#386cb0\",\"#386cb0\",\"#7fc97f\",\"#f0027f\",\"#f0027f\",\"#fdc086\",\"#f0027f\",\"#386cb0\",\"#fdc086\",\"#ffff99\",\"#f0027f\",\"#ffff99\",\"#beaed4\",\"#386cb0\",\"#fdc086\",\"#beaed4\",\"#ffff99\",\"#ffff99\",\"#fdc086\",\"#beaed4\",\"#ffff99\",\"#fdc086\",\"#7fc97f\",\"#f0027f\",\"#386cb0\",\"#ffff99\",\"#ffff99\",\"#fdc086\",\"#f0027f\",\"#f0027f\",\"#ffff99\",\"#386cb0\",\"#fdc086\",\"#ffff99\",\"#7fc97f\",\"#fdc086\",\"#f0027f\",\"#ffff99\",\"#7fc97f\",\"#386cb0\",\"#386cb0\",\"#fdc086\",\"#7fc97f\",\"#7fc97f\",\"#ffff99\",\"#fdc086\",\"#fdc086\",\"#386cb0\",\"#386cb0\",\"#7fc97f\",\"#beaed4\",\"#fdc086\",\"#beaed4\",\"#f0027f\",\"#ffff99\",\"#7fc97f\",\"#ffff99\",\"#386cb0\",\"#7fc97f\",\"#beaed4\",\"#fdc086\",\"#fdc086\",\"#ffff99\",\"#beaed4\",\"#7fc97f\",\"#386cb0\",\"#7fc97f\",\"#ffff99\",\"#ffff99\",\"#7fc97f\",\"#7fc97f\",\"#7fc97f\",\"#fdc086\",\"#386cb0\",\"#ffff99\",\"#beaed4\",\"#f0027f\"],\"loglen\":[5.030437921392435,7.52456122628536,6.063785208687608,4.248495242049359,6.206575926724928,7.77863014732581,4.2626798770413155,6.556778356158042,5.720311776607412,5.823045895483019,6.590301048196686,4.7535901911063645,10.22128652389172,7.208600337960199,7.354362330421477,5.4638318050256105,4.499809670330265,4.718498871295094,4.477336814478207,9.352273867864849,5.298317366548036,5.6131281063880705,7.6760099320288875,9.99186466315354,5.298317366548036,2.995732273553991,5.71042701737487,8.631057447565285,4.941642422609304,4.454347296253507,4.9344739331306915,6.403574197934815,5.342334251964811,7.489412083508719,8.458716261657262,4.820281565605037,9.575677688993569,6.342121418721152,6.836259277277067,7.595889917718538,6.915723448631314,8.414717399827001,4.762173934797756,5.8377304471659395,5.209486152841421,10.618053700469373,5.652489180268651,5.981414211254481,5.783825182329737,6.335054251498059,8.812992231969966,6.333279628139691,6.745236349484363,7.609862200913554,10.406744606802166,5.3230099791384085,5.7430031878094825,9.31982238259318,5.697093486505405,1.0986122886681098,6.152732694704104,7.157735484249907,5.8805329864007,8.295798110636145,8.36264243156764,5.66988092298052,9.474625866621567,5.159055299214529,6.63200177739563,7.532623618788788,6.882437470997847,5.631211781821365,5.762051382780177,5.1298987149230735,9.408125088823502,4.127134385045092,4.143134726391533,5.846438775057725,4.955827057601261,6.927557906278317,11.3931729912432,8.207401833376355,6.437751649736401,5.337538079701318,5.153291594497779,6.063785208687608,5.69035945432406,5.5134287461649825,4.61512051684126,5.0106352940962555,8.629628620746026,7.27931883541462,7.615298339825815,7.5443321080536885,7.603897968521881,5.755742213586912,7.8168199657645525,4.343805421853684,5.5093883366279774,6.858565034791365,8.235360643753348,9.258654232254733,6.704414354964107,4.976733742420574,4.997212273764115,7.965545573129992,5.4116460518550396,6.395261598115449,8.25712628599743,6.569481420414296,6.2285110035911835,9.562264046489428,7.222566018822171,2.302585092994046,4.07753744390572,5.476463551931511,4.5217885770490405,4.127134385045092,4.532599493153256,5.459585514144159,7.487173694213739,4.477336814478207,5.976350909297934,5.043425116919247,5.752572638825633,6.364750756851911,8.67214355141406,4.23410650459726,9.551444720923957,4.969813299576001,7.028201432058005,6.385194398997726,8.754791763700032,5.220355825078324,5.846438775057725,5.159055299214529,5.170483995038151,5.198497031265826,10.516562858330515,9.808572294739841,5.840641657373398,3.5263605246161616,7.04141166379481,8.135346948906706,5.176149732573829,4.430816798843313,9.999070422429858,7.4770384723196965,4.0943445622221,9.736251633160215,6.184148890937483,7.947325027016463,5.19295685089021,9.700024071988745,4.762173934797756,9.391661428436555,9.28498391497195,8.1797604936999,7.734121303328305,4.248495242049359,5.713732805509369,4.04305126783455,4.574710978503383,9.222565341598752,6.202535517187923,3.871201010907891,6.113682179832232,9.521421537856195,6.361302477572996,5.62040086571715,4.787491742782046,5.327876168789581,5.659482215759621,4.499809670330265,5.575949103146316,5.075173815233827,6.946013991099227,4.969813299576001,5.66988092298052,4.356708826689592,5.924255797414532,5.817111159963204,7.979338895262328,6.957497370876951,9.163143937145207,5.420534999272286,4.709530201312334,4.77912349311153,3.4011973816621555,6.22455842927536,4.890349128221754,7.088408778675395,8.488587934405903,6.741700694652055,4.290459441148391,7.020190708311925,6.089044875446846,9.983499490505512,9.330520532232288,6.925595197110468,5.991464547107982,5.389071729816501,5.043425116919247,4.844187086458591,7.218176838403408,4.6443908991413725,10.488464718935205,4.820281565605037,5.278114659230517,6.926577033222725,5.198497031265826,4.653960350157523,8.504918160540624,5.730099782973574,5.697093486505405,4.700480365792417,5.497168225293202,9.03145291191651,6.794586580876499,4.997212273764115,6.376726947898627,4.276666119016055,4.430816798843313,4.6913478822291435,6.336825731146441,9.049349685884057,6.354370040797351,7.531552381407289,5.84354441703136,4.969813299576001,9.32188174670909,6.1903154058531475,6.003887067106539,8.33423142973486,4.430816798843313,7.580699752224563,4.343805421853684,4.5217885770490405,8.73681053295389,4.127134385045092,4.02535169073515,7.8156105320351905,9.581006974541651,6.440946540632921,9.318297513481275,8.297792626380861,6.280395838960195,8.31898612539206,9.320270431348378,6.298949246855942,4.770684624465665,3.332204510175204,7.753194269884341,5.455321115357702,5.241747015059643,5.25227342804663,4.605170185988092,8.151044945685024,5.5093883366279774,8.677609912822142,8.963032193662675,7.433666540166168],\"x\":{\"__ndarray__\":\"6d8bQV85n8CyHhtByQ8TQATebEGEaFjBAhzKPy/5HMGeRE7AWUgGwVzzfkFrlB5BT2UMQN5uwsDNLe5APPB+QWpLKkHAcRHBl1VIQUw40j/nPL3Ax1VMwdVHQsEcCZ7AaU6cv8BnZUH1HH3Bu04FQRuRtEAa01tAr04kQN9RjD0aQB5B6hgXwbFtj8CF5whBpIaPwPThdEAUs2pBszpkP+AY5r/DpQ9BIYLWQM6vsL/VYbxApheOQRLbtz4s1TnA5Vx+wP/1akAX+xPBkKSTQGpOa8GCMINBbzm3P+xoH8Apk12/fK5vwBAZ9r+nhgZBQFmFwQnHMsFjoRhBfvnuv+WCpD5DVQHB4uWMwLkDKUHBI4o+iA4ewQM/DsHMQpdBuYg2wEhQBEEScd4/wG/dQBZfUj8vBGVALRSBQG+xWUAYJ/8/eXB3wL09scB/pZnAcRqQQAxfLME4CJdBPdGeQL+EJkGM46nAVq+LwIJfC8FGqW7BS4WDwEVuWUAL6lfBphcvwZZa4D9fqYvAiPSvwJf3/cCkdvdAhAJeweMdcT8eJoPBnePOwB4vGEHnxBDBGEgfwF3KBkHPEBLBSmmQP5B3F8EG0DfBe4XXQE7gCEEY9oDAucFrQF2ztsAFhJNADENMwWQkIUBvJUNAbZHAQL9p/r8yT1vB4+GQvjyh9EBaNH1BPwG6Pwgzt8Dp34Y9/9M4wd9xaEDOMsE+ZpWOQPOu4cCqMM1A09aCwEvHPkCM1QW/owuvQEedr8CwvJXA2miWwP5tG0H4hwfBq9YywabduECj1TjB0jbUQCG3gcAlI0xAoh7xP6pSP0H+6SpAKqd1v5jD3cDzeWq/oYeLQQ4FcUFp2XPBk6aOQA4XL8E3h4NBoknnQCvTgL+0SRVBD5CTQN91akDrYj3BtjsYQGAaT8EtrtVAGoHWwO/6X0HbMszAqb6CQCLeHsB1Aj5BkNI9QGVYMcBWLSXBfbBIwY22EkAE7bjA6/vDwD/Htz5C3ydBrseHQbebWj+giBhB7JsfwXfhncBPkwvByyiOQclqi8Hg435B7902wO+uSb87bfBAM89UwfWOaMFvW5DAhw8kQQMHgMGMQL9AyYqHQBWyT0HZq5zAAoYjwQ8eXsGlIDjAhAonQbGhbUH/5TrBEBPHwMeTL8BnWwLB2BI1wClmSUC3BHFBUY9awXaQdr9KQ0zBcIAbwWQNfcAch4c/nogrQIGyAcGnCaTAzjggQJRzqsBKUhbBrM2JQAOVa0Ggqr/ADSYqQTqdhkG8I0XB6LmmQOt9McGEKmvBYa0bQL+XgUHAunTAymZLQMTFB8FNiIRBdv95wE+Q0cCfP4BAXe9dwZe0/sA6sL5AcCbvPefSgEC6Uo+/XobRwOvnCcHgv4xBjXFiQQ==\",\"dtype\":\"float32\",\"shape\":[262]},\"y\":{\"__ndarray__\":\"1PXVv28djz8hUBFB8bYHwT6J08AhJyHBKSx8v0gDyb9bJ6BA8jO1wNiGjj+usgFB+S2fQJZ2ID+vAkfAa5REvx9coMAHsClAMRkxwTy0ysDFKFrBTsE0vv4mDMD9ZzJA5BFRwMGrh8BWFrrANVFjwOpQusDGa4vAO3VQwFFLnb/yv6/ArZvvv33NKUH1ILnAxguYQMNlvUBy/Ku+TU9ZwBYO2T+HXAtApQBAwe+iQMDhYpI/IwzdPg54u8ATfjNBgeXSQPuz0EDIgF8/7ce0QF2QHMHISf9AL+AyQLZuIEEumhhBetkeQfVoy72tFDvBwlsQwOwSnr/OUxpBpH1IQNi0SEArwJtAXZodQbsPz8C6N4ZA+ujPwOy/lcAlGKvA9OUEwTpsSMDtzBFBuhwSwRe00z4n2XPBkv63v3oi0sCXeV9AuEY8Qen3McFUx1zBgUnlwPCHWj75kavAOxcmwDWk4cDb8o1AHp45QW+PAcAC3vTA0VmuQLb0XcGEth4/fTZgwWPJDMH+RxfAopxIwadlRL9me4JAX4ggwRouoMDz4w3AZsGLwM9PHEHR3ZzAN4spQUzug0CWbInAX6wWQCqNDsGgrxhBxs8bwR24vcAyy5/Asq16wXTCbsGK7A7AkaZqwISw3MAUaK1AKSnpwPxTGMA7nlnAIKXRP1YHB8Fre8rAZJnAP2IQGUBYyJ2/Oj9qvFKkV0AEWx/B7fSRQFRCbUCwZL/Aa48TQV9QHUEU29zA/wtKwDsVPsGypUJBH25mQLl7asCpsDk/C3YvwNHB8sAh173AyTSdv4ZsmcAf3R5AUM3hQNFZjUB0bhNBAp9UP1w7mMAsXLhAUvv6QB8QEEGzxFs/2CM9Pnb7X8EJhb/AqqAtwT87OEDRZV5AZ3WtQLHFeMEr6o9A8EPPv8c8asBomF5Ai3R6v6/kpMCZryJAXs2jwNCqikATo5FA7dEGQa2H/UB6Hpq+wSQYP9byAUGnl7TAooJqwb4FQcFytuS96bwIQeyjqUAHGi5ATu7swElLLUEyTLpAQm73QJa8CsAcaWs9P3gIwaKpTz8md6zAizFhPwa/ksCxv2m9lrBhwD2VMUCowt5AZhgpwXsXhUCqUErBZIc4wAV9s8C6r7I9vJBlP/wY7ECWZU9A0FVQwQVEQ0AZqjjAA5OawFz/kkB9LxBBccgFQIsl2cCU1CHBu53/wIk49z/msirBL2Nrvk4Tsz+kVglB/oG0QK6YW8EwrB3BA54owUUcyMDVIxtBhb0BwYuU/0BY7rvA0IIIwTUSIECaYgnBtQxFP/72DT/16ChBtjkjQTJ88L4vqMnA10kLwA4a/8CG47Y/WOn+v7nSJ8AUT2s/eCQSwZ76zz4E3sFAPb38wIW2fzuMp8s+5aXVQA==\",\"dtype\":\"float32\",\"shape\":[262]}},\"selected\":{\"id\":\"1140\",\"type\":\"Selection\"},\"selection_policy\":{\"id\":\"1139\",\"type\":\"UnionRenderers\"}},\"id\":\"1089\",\"type\":\"ColumnDataSource\"},{\"attributes\":{},\"id\":\"1113\",\"type\":\"WheelZoomTool\"},{\"attributes\":{\"axis_label\":\"Dim. 1\",\"formatter\":{\"id\":\"1138\",\"type\":\"BasicTickFormatter\"},\"plot\":{\"id\":\"1091\",\"subtype\":\"Figure\",\"type\":\"Plot\"},\"ticker\":{\"id\":\"1102\",\"type\":\"BasicTicker\"}},\"id\":\"1101\",\"type\":\"LinearAxis\"},{\"attributes\":{},\"id\":\"1114\",\"type\":\"SaveTool\"},{\"attributes\":{},\"id\":\"1139\",\"type\":\"UnionRenderers\"},{\"attributes\":{\"active_drag\":\"auto\",\"active_inspect\":\"auto\",\"active_multi\":null,\"active_scroll\":\"auto\",\"active_tap\":\"auto\",\"tools\":[{\"id\":\"1111\",\"type\":\"HoverTool\"},{\"id\":\"1112\",\"type\":\"PanTool\"},{\"id\":\"1113\",\"type\":\"WheelZoomTool\"},{\"id\":\"1114\",\"type\":\"SaveTool\"}]},\"id\":\"1115\",\"type\":\"Toolbar\"},{\"attributes\":{},\"id\":\"1136\",\"type\":\"BasicTickFormatter\"},{\"attributes\":{},\"id\":\"1102\",\"type\":\"BasicTicker\"},{\"attributes\":{\"plot\":{\"id\":\"1091\",\"subtype\":\"Figure\",\"type\":\"Plot\"},\"ticker\":{\"id\":\"1102\",\"type\":\"BasicTicker\"}},\"id\":\"1105\",\"type\":\"Grid\"},{\"attributes\":{\"fill_alpha\":{\"value\":0.1},\"fill_color\":{\"value\":\"#1f77b4\"},\"line_alpha\":{\"value\":0.1},\"line_color\":{\"value\":\"#1f77b4\"},\"size\":{\"field\":\"loglen\",\"units\":\"screen\"},\"x\":{\"field\":\"x\"},\"y\":{\"field\":\"y\"}},\"id\":\"1123\",\"type\":\"Circle\"},{\"attributes\":{},\"id\":\"1138\",\"type\":\"BasicTickFormatter\"},{\"attributes\":{\"source\":{\"id\":\"1089\",\"type\":\"ColumnDataSource\"}},\"id\":\"1125\",\"type\":\"CDSView\"},{\"attributes\":{\"axis_label\":\"Dim. 2\",\"formatter\":{\"id\":\"1136\",\"type\":\"BasicTickFormatter\"},\"plot\":{\"id\":\"1091\",\"subtype\":\"Figure\",\"type\":\"Plot\"},\"ticker\":{\"id\":\"1107\",\"type\":\"BasicTicker\"}},\"id\":\"1106\",\"type\":\"LinearAxis\"},{\"attributes\":{\"data_source\":{\"id\":\"1089\",\"type\":\"ColumnDataSource\"},\"glyph\":{\"id\":\"1122\",\"type\":\"Circle\"},\"hover_glyph\":null,\"muted_glyph\":null,\"nonselection_glyph\":{\"id\":\"1123\",\"type\":\"Circle\"},\"selection_glyph\":null,\"view\":{\"id\":\"1125\",\"type\":\"CDSView\"}},\"id\":\"1124\",\"type\":\"GlyphRenderer\"}],\"root_ids\":[\"1091\"]},\"title\":\"Bokeh Application\",\"version\":\"1.0.4\"}};\n",
       "  var render_items = [{\"docid\":\"1f8a069a-b163-404d-b27e-b4c1bf37c9bb\",\"roots\":{\"1091\":\"cca672aa-5c55-48e4-928f-ae04d508eb3d\"}}];\n",
       "  root.Bokeh.embed.embed_items_notebook(docs_json, render_items);\n",
       "\n",
       "  }\n",
       "  if (root.Bokeh !== undefined) {\n",
       "    embed_document(root);\n",
       "  } else {\n",
       "    var attempts = 0;\n",
       "    var timer = setInterval(function(root) {\n",
       "      if (root.Bokeh !== undefined) {\n",
       "        embed_document(root);\n",
       "        clearInterval(timer);\n",
       "      }\n",
       "      attempts++;\n",
       "      if (attempts > 100) {\n",
       "        console.log(\"Bokeh: ERROR: Unable to run BokehJS code because BokehJS library is missing\");\n",
       "        clearInterval(timer);\n",
       "      }\n",
       "    }, 10, root)\n",
       "  }\n",
       "})(window);"
      ],
      "application/vnd.bokehjs_exec.v0+json": ""
     },
     "metadata": {
      "application/vnd.bokehjs_exec.v0+json": {
       "id": "1091"
      }
     },
     "output_type": "display_data"
    }
   ],
   "source": [
    "source = ColumnDataSource(data_dict)\n",
    "\n",
    "p = figure(\n",
    "    tools=\"hover,pan,wheel_zoom,save\",\n",
    "    toolbar_location=\"above\",\n",
    "    title=fig_title,\n",
    "    plot_width=800, plot_height=800,\n",
    ")\n",
    "\n",
    "from bokeh.models import Label\n",
    "for x, y, title in zip(data_dict['x'], data_dict['y'], data_dict['Title']):\n",
    "    if 'reynaerde' in title.lower():\n",
    "        p.add_layout(Label(x=x, y=y, text=title,\n",
    "                           text_align=\"center\", text_font_size=\"10pt\"))\n",
    "\n",
    "p.circle('x', 'y', source=source,\n",
    "          fill_color='color', fill_alpha=1,\n",
    "          line_color=None, size='loglen')\n",
    "\n",
    "\n",
    "p.xaxis.axis_label = x_label\n",
    "p.yaxis.axis_label = y_label\n",
    "\n",
    "p.hover.tooltips = [(\"Title\", \"@Title\"),\n",
    "                    (\"Author\", \"@Author\"),\n",
    "                    (\"Date\", \"@Date\")]\n",
    "\n",
    "show(p)"
   ]
  },
  {
   "cell_type": "code",
   "execution_count": null,
   "metadata": {},
   "outputs": [],
   "source": []
  }
 ],
 "metadata": {
  "kernelspec": {
   "display_name": "Python (py36)",
   "language": "python",
   "name": "py36"
  },
  "language_info": {
   "codemirror_mode": {
    "name": "ipython",
    "version": 3
   },
   "file_extension": ".py",
   "mimetype": "text/x-python",
   "name": "python",
   "nbconvert_exporter": "python",
   "pygments_lexer": "ipython3",
   "version": "3.6.8"
  }
 },
 "nbformat": 4,
 "nbformat_minor": 2
}
