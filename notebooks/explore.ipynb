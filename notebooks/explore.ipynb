{
 "cells": [
  {
   "cell_type": "markdown",
   "metadata": {},
   "source": [
    "## Inladen"
   ]
  },
  {
   "cell_type": "code",
   "execution_count": 12,
   "metadata": {},
   "outputs": [
    {
     "data": {
      "text/html": [
       "\n",
       "    <div class=\"bk-root\">\n",
       "        <a href=\"https://bokeh.org\" target=\"_blank\" class=\"bk-logo bk-logo-small bk-logo-notebook\"></a>\n",
       "        <span id=\"1087\">Loading BokehJS ...</span>\n",
       "    </div>"
      ]
     },
     "metadata": {},
     "output_type": "display_data"
    },
    {
     "data": {
      "application/javascript": [
       "\n",
       "(function(root) {\n",
       "  function now() {\n",
       "    return new Date();\n",
       "  }\n",
       "\n",
       "  var force = true;\n",
       "\n",
       "  if (typeof root._bokeh_onload_callbacks === \"undefined\" || force === true) {\n",
       "    root._bokeh_onload_callbacks = [];\n",
       "    root._bokeh_is_loading = undefined;\n",
       "  }\n",
       "\n",
       "  var JS_MIME_TYPE = 'application/javascript';\n",
       "  var HTML_MIME_TYPE = 'text/html';\n",
       "  var EXEC_MIME_TYPE = 'application/vnd.bokehjs_exec.v0+json';\n",
       "  var CLASS_NAME = 'output_bokeh rendered_html';\n",
       "\n",
       "  /**\n",
       "   * Render data to the DOM node\n",
       "   */\n",
       "  function render(props, node) {\n",
       "    var script = document.createElement(\"script\");\n",
       "    node.appendChild(script);\n",
       "  }\n",
       "\n",
       "  /**\n",
       "   * Handle when an output is cleared or removed\n",
       "   */\n",
       "  function handleClearOutput(event, handle) {\n",
       "    var cell = handle.cell;\n",
       "\n",
       "    var id = cell.output_area._bokeh_element_id;\n",
       "    var server_id = cell.output_area._bokeh_server_id;\n",
       "    // Clean up Bokeh references\n",
       "    if (id != null && id in Bokeh.index) {\n",
       "      Bokeh.index[id].model.document.clear();\n",
       "      delete Bokeh.index[id];\n",
       "    }\n",
       "\n",
       "    if (server_id !== undefined) {\n",
       "      // Clean up Bokeh references\n",
       "      var cmd = \"from bokeh.io.state import curstate; print(curstate().uuid_to_server['\" + server_id + \"'].get_sessions()[0].document.roots[0]._id)\";\n",
       "      cell.notebook.kernel.execute(cmd, {\n",
       "        iopub: {\n",
       "          output: function(msg) {\n",
       "            var id = msg.content.text.trim();\n",
       "            if (id in Bokeh.index) {\n",
       "              Bokeh.index[id].model.document.clear();\n",
       "              delete Bokeh.index[id];\n",
       "            }\n",
       "          }\n",
       "        }\n",
       "      });\n",
       "      // Destroy server and session\n",
       "      var cmd = \"import bokeh.io.notebook as ion; ion.destroy_server('\" + server_id + \"')\";\n",
       "      cell.notebook.kernel.execute(cmd);\n",
       "    }\n",
       "  }\n",
       "\n",
       "  /**\n",
       "   * Handle when a new output is added\n",
       "   */\n",
       "  function handleAddOutput(event, handle) {\n",
       "    var output_area = handle.output_area;\n",
       "    var output = handle.output;\n",
       "\n",
       "    // limit handleAddOutput to display_data with EXEC_MIME_TYPE content only\n",
       "    if ((output.output_type != \"display_data\") || (!output.data.hasOwnProperty(EXEC_MIME_TYPE))) {\n",
       "      return\n",
       "    }\n",
       "\n",
       "    var toinsert = output_area.element.find(\".\" + CLASS_NAME.split(' ')[0]);\n",
       "\n",
       "    if (output.metadata[EXEC_MIME_TYPE][\"id\"] !== undefined) {\n",
       "      toinsert[toinsert.length - 1].firstChild.textContent = output.data[JS_MIME_TYPE];\n",
       "      // store reference to embed id on output_area\n",
       "      output_area._bokeh_element_id = output.metadata[EXEC_MIME_TYPE][\"id\"];\n",
       "    }\n",
       "    if (output.metadata[EXEC_MIME_TYPE][\"server_id\"] !== undefined) {\n",
       "      var bk_div = document.createElement(\"div\");\n",
       "      bk_div.innerHTML = output.data[HTML_MIME_TYPE];\n",
       "      var script_attrs = bk_div.children[0].attributes;\n",
       "      for (var i = 0; i < script_attrs.length; i++) {\n",
       "        toinsert[toinsert.length - 1].firstChild.setAttribute(script_attrs[i].name, script_attrs[i].value);\n",
       "        toinsert[toinsert.length - 1].firstChild.textContent = bk_div.children[0].textContent\n",
       "      }\n",
       "      // store reference to server id on output_area\n",
       "      output_area._bokeh_server_id = output.metadata[EXEC_MIME_TYPE][\"server_id\"];\n",
       "    }\n",
       "  }\n",
       "\n",
       "  function register_renderer(events, OutputArea) {\n",
       "\n",
       "    function append_mime(data, metadata, element) {\n",
       "      // create a DOM node to render to\n",
       "      var toinsert = this.create_output_subarea(\n",
       "        metadata,\n",
       "        CLASS_NAME,\n",
       "        EXEC_MIME_TYPE\n",
       "      );\n",
       "      this.keyboard_manager.register_events(toinsert);\n",
       "      // Render to node\n",
       "      var props = {data: data, metadata: metadata[EXEC_MIME_TYPE]};\n",
       "      render(props, toinsert[toinsert.length - 1]);\n",
       "      element.append(toinsert);\n",
       "      return toinsert\n",
       "    }\n",
       "\n",
       "    /* Handle when an output is cleared or removed */\n",
       "    events.on('clear_output.CodeCell', handleClearOutput);\n",
       "    events.on('delete.Cell', handleClearOutput);\n",
       "\n",
       "    /* Handle when a new output is added */\n",
       "    events.on('output_added.OutputArea', handleAddOutput);\n",
       "\n",
       "    /**\n",
       "     * Register the mime type and append_mime function with output_area\n",
       "     */\n",
       "    OutputArea.prototype.register_mime_type(EXEC_MIME_TYPE, append_mime, {\n",
       "      /* Is output safe? */\n",
       "      safe: true,\n",
       "      /* Index of renderer in `output_area.display_order` */\n",
       "      index: 0\n",
       "    });\n",
       "  }\n",
       "\n",
       "  // register the mime type if in Jupyter Notebook environment and previously unregistered\n",
       "  if (root.Jupyter !== undefined) {\n",
       "    var events = require('base/js/events');\n",
       "    var OutputArea = require('notebook/js/outputarea').OutputArea;\n",
       "\n",
       "    if (OutputArea.prototype.mime_types().indexOf(EXEC_MIME_TYPE) == -1) {\n",
       "      register_renderer(events, OutputArea);\n",
       "    }\n",
       "  }\n",
       "\n",
       "  \n",
       "  if (typeof (root._bokeh_timeout) === \"undefined\" || force === true) {\n",
       "    root._bokeh_timeout = Date.now() + 5000;\n",
       "    root._bokeh_failed_load = false;\n",
       "  }\n",
       "\n",
       "  var NB_LOAD_WARNING = {'data': {'text/html':\n",
       "     \"<div style='background-color: #fdd'>\\n\"+\n",
       "     \"<p>\\n\"+\n",
       "     \"BokehJS does not appear to have successfully loaded. If loading BokehJS from CDN, this \\n\"+\n",
       "     \"may be due to a slow or bad network connection. Possible fixes:\\n\"+\n",
       "     \"</p>\\n\"+\n",
       "     \"<ul>\\n\"+\n",
       "     \"<li>re-rerun `output_notebook()` to attempt to load from CDN again, or</li>\\n\"+\n",
       "     \"<li>use INLINE resources instead, as so:</li>\\n\"+\n",
       "     \"</ul>\\n\"+\n",
       "     \"<code>\\n\"+\n",
       "     \"from bokeh.resources import INLINE\\n\"+\n",
       "     \"output_notebook(resources=INLINE)\\n\"+\n",
       "     \"</code>\\n\"+\n",
       "     \"</div>\"}};\n",
       "\n",
       "  function display_loaded() {\n",
       "    var el = document.getElementById(\"1087\");\n",
       "    if (el != null) {\n",
       "      el.textContent = \"BokehJS is loading...\";\n",
       "    }\n",
       "    if (root.Bokeh !== undefined) {\n",
       "      if (el != null) {\n",
       "        el.textContent = \"BokehJS \" + root.Bokeh.version + \" successfully loaded.\";\n",
       "      }\n",
       "    } else if (Date.now() < root._bokeh_timeout) {\n",
       "      setTimeout(display_loaded, 100)\n",
       "    }\n",
       "  }\n",
       "\n",
       "\n",
       "  function run_callbacks() {\n",
       "    try {\n",
       "      root._bokeh_onload_callbacks.forEach(function(callback) {\n",
       "        if (callback != null)\n",
       "          callback();\n",
       "      });\n",
       "    } finally {\n",
       "      delete root._bokeh_onload_callbacks\n",
       "    }\n",
       "    console.debug(\"Bokeh: all callbacks have finished\");\n",
       "  }\n",
       "\n",
       "  function load_libs(css_urls, js_urls, callback) {\n",
       "    if (css_urls == null) css_urls = [];\n",
       "    if (js_urls == null) js_urls = [];\n",
       "\n",
       "    root._bokeh_onload_callbacks.push(callback);\n",
       "    if (root._bokeh_is_loading > 0) {\n",
       "      console.debug(\"Bokeh: BokehJS is being loaded, scheduling callback at\", now());\n",
       "      return null;\n",
       "    }\n",
       "    if (js_urls == null || js_urls.length === 0) {\n",
       "      run_callbacks();\n",
       "      return null;\n",
       "    }\n",
       "    console.debug(\"Bokeh: BokehJS not loaded, scheduling load and callback at\", now());\n",
       "    root._bokeh_is_loading = css_urls.length + js_urls.length;\n",
       "\n",
       "    function on_load() {\n",
       "      root._bokeh_is_loading--;\n",
       "      if (root._bokeh_is_loading === 0) {\n",
       "        console.debug(\"Bokeh: all BokehJS libraries/stylesheets loaded\");\n",
       "        run_callbacks()\n",
       "      }\n",
       "    }\n",
       "\n",
       "    function on_error() {\n",
       "      console.error(\"failed to load \" + url);\n",
       "    }\n",
       "\n",
       "    for (var i = 0; i < css_urls.length; i++) {\n",
       "      var url = css_urls[i];\n",
       "      const element = document.createElement(\"link\");\n",
       "      element.onload = on_load;\n",
       "      element.onerror = on_error;\n",
       "      element.rel = \"stylesheet\";\n",
       "      element.type = \"text/css\";\n",
       "      element.href = url;\n",
       "      console.debug(\"Bokeh: injecting link tag for BokehJS stylesheet: \", url);\n",
       "      document.body.appendChild(element);\n",
       "    }\n",
       "\n",
       "    const hashes = {\"https://cdn.bokeh.org/bokeh/release/bokeh-2.0.1.min.js\": \"JpP8FXbgAZLkfur7LiK3j9AGBhHNIvF742meBJrjO2ShJDhCG2I1uVvW+0DUtrmc\", \"https://cdn.bokeh.org/bokeh/release/bokeh-widgets-2.0.1.min.js\": \"xZlADit0Q04ISQEdKg2k3L4W9AwQBAuDs9nJL9fM/WwzL1tEU9VPNezOFX0nLEAz\", \"https://cdn.bokeh.org/bokeh/release/bokeh-tables-2.0.1.min.js\": \"4BuPRZkdMKSnj3zoxiNrQ86XgNw0rYmBOxe7nshquXwwcauupgBF2DHLVG1WuZlV\", \"https://cdn.bokeh.org/bokeh/release/bokeh-gl-2.0.1.min.js\": \"Dv1SQ87hmDqK6S5OhBf0bCuwAEvL5QYL0PuR/F1SPVhCS/r/abjkbpKDYL2zeM19\"};\n",
       "\n",
       "    for (var i = 0; i < js_urls.length; i++) {\n",
       "      var url = js_urls[i];\n",
       "      var element = document.createElement('script');\n",
       "      element.onload = on_load;\n",
       "      element.onerror = on_error;\n",
       "      element.async = false;\n",
       "      element.src = url;\n",
       "      if (url in hashes) {\n",
       "        element.crossOrigin = \"anonymous\";\n",
       "        element.integrity = \"sha384-\" + hashes[url];\n",
       "      }\n",
       "      console.debug(\"Bokeh: injecting script tag for BokehJS library: \", url);\n",
       "      document.head.appendChild(element);\n",
       "    }\n",
       "  };var element = document.getElementById(\"1087\");\n",
       "  if (element == null) {\n",
       "    console.error(\"Bokeh: ERROR: autoload.js configured with elementid '1087' but no matching script tag was found. \")\n",
       "    return false;\n",
       "  }\n",
       "\n",
       "  function inject_raw_css(css) {\n",
       "    const element = document.createElement(\"style\");\n",
       "    element.appendChild(document.createTextNode(css));\n",
       "    document.body.appendChild(element);\n",
       "  }\n",
       "\n",
       "  \n",
       "  var js_urls = [\"https://cdn.bokeh.org/bokeh/release/bokeh-2.0.1.min.js\", \"https://cdn.bokeh.org/bokeh/release/bokeh-widgets-2.0.1.min.js\", \"https://cdn.bokeh.org/bokeh/release/bokeh-tables-2.0.1.min.js\", \"https://cdn.bokeh.org/bokeh/release/bokeh-gl-2.0.1.min.js\"];\n",
       "  var css_urls = [];\n",
       "  \n",
       "\n",
       "  var inline_js = [\n",
       "    function(Bokeh) {\n",
       "      Bokeh.set_log_level(\"info\");\n",
       "    },\n",
       "    function(Bokeh) {\n",
       "    \n",
       "    \n",
       "    }\n",
       "  ];\n",
       "\n",
       "  function run_inline_js() {\n",
       "    \n",
       "    if (root.Bokeh !== undefined || force === true) {\n",
       "      \n",
       "    for (var i = 0; i < inline_js.length; i++) {\n",
       "      inline_js[i].call(root, root.Bokeh);\n",
       "    }\n",
       "    if (force === true) {\n",
       "        display_loaded();\n",
       "      }} else if (Date.now() < root._bokeh_timeout) {\n",
       "      setTimeout(run_inline_js, 100);\n",
       "    } else if (!root._bokeh_failed_load) {\n",
       "      console.log(\"Bokeh: BokehJS failed to load within specified timeout.\");\n",
       "      root._bokeh_failed_load = true;\n",
       "    } else if (force !== true) {\n",
       "      var cell = $(document.getElementById(\"1087\")).parents('.cell').data().cell;\n",
       "      cell.output_area.append_execute_result(NB_LOAD_WARNING)\n",
       "    }\n",
       "\n",
       "  }\n",
       "\n",
       "  if (root._bokeh_is_loading === 0) {\n",
       "    console.debug(\"Bokeh: BokehJS loaded, going straight to plotting\");\n",
       "    run_inline_js();\n",
       "  } else {\n",
       "    load_libs(css_urls, js_urls, function() {\n",
       "      console.debug(\"Bokeh: BokehJS plotting callback run at\", now());\n",
       "      run_inline_js();\n",
       "    });\n",
       "  }\n",
       "}(window));"
      ],
      "application/vnd.bokehjs_load.v0+json": "\n(function(root) {\n  function now() {\n    return new Date();\n  }\n\n  var force = true;\n\n  if (typeof root._bokeh_onload_callbacks === \"undefined\" || force === true) {\n    root._bokeh_onload_callbacks = [];\n    root._bokeh_is_loading = undefined;\n  }\n\n  \n\n  \n  if (typeof (root._bokeh_timeout) === \"undefined\" || force === true) {\n    root._bokeh_timeout = Date.now() + 5000;\n    root._bokeh_failed_load = false;\n  }\n\n  var NB_LOAD_WARNING = {'data': {'text/html':\n     \"<div style='background-color: #fdd'>\\n\"+\n     \"<p>\\n\"+\n     \"BokehJS does not appear to have successfully loaded. If loading BokehJS from CDN, this \\n\"+\n     \"may be due to a slow or bad network connection. Possible fixes:\\n\"+\n     \"</p>\\n\"+\n     \"<ul>\\n\"+\n     \"<li>re-rerun `output_notebook()` to attempt to load from CDN again, or</li>\\n\"+\n     \"<li>use INLINE resources instead, as so:</li>\\n\"+\n     \"</ul>\\n\"+\n     \"<code>\\n\"+\n     \"from bokeh.resources import INLINE\\n\"+\n     \"output_notebook(resources=INLINE)\\n\"+\n     \"</code>\\n\"+\n     \"</div>\"}};\n\n  function display_loaded() {\n    var el = document.getElementById(\"1087\");\n    if (el != null) {\n      el.textContent = \"BokehJS is loading...\";\n    }\n    if (root.Bokeh !== undefined) {\n      if (el != null) {\n        el.textContent = \"BokehJS \" + root.Bokeh.version + \" successfully loaded.\";\n      }\n    } else if (Date.now() < root._bokeh_timeout) {\n      setTimeout(display_loaded, 100)\n    }\n  }\n\n\n  function run_callbacks() {\n    try {\n      root._bokeh_onload_callbacks.forEach(function(callback) {\n        if (callback != null)\n          callback();\n      });\n    } finally {\n      delete root._bokeh_onload_callbacks\n    }\n    console.debug(\"Bokeh: all callbacks have finished\");\n  }\n\n  function load_libs(css_urls, js_urls, callback) {\n    if (css_urls == null) css_urls = [];\n    if (js_urls == null) js_urls = [];\n\n    root._bokeh_onload_callbacks.push(callback);\n    if (root._bokeh_is_loading > 0) {\n      console.debug(\"Bokeh: BokehJS is being loaded, scheduling callback at\", now());\n      return null;\n    }\n    if (js_urls == null || js_urls.length === 0) {\n      run_callbacks();\n      return null;\n    }\n    console.debug(\"Bokeh: BokehJS not loaded, scheduling load and callback at\", now());\n    root._bokeh_is_loading = css_urls.length + js_urls.length;\n\n    function on_load() {\n      root._bokeh_is_loading--;\n      if (root._bokeh_is_loading === 0) {\n        console.debug(\"Bokeh: all BokehJS libraries/stylesheets loaded\");\n        run_callbacks()\n      }\n    }\n\n    function on_error() {\n      console.error(\"failed to load \" + url);\n    }\n\n    for (var i = 0; i < css_urls.length; i++) {\n      var url = css_urls[i];\n      const element = document.createElement(\"link\");\n      element.onload = on_load;\n      element.onerror = on_error;\n      element.rel = \"stylesheet\";\n      element.type = \"text/css\";\n      element.href = url;\n      console.debug(\"Bokeh: injecting link tag for BokehJS stylesheet: \", url);\n      document.body.appendChild(element);\n    }\n\n    const hashes = {\"https://cdn.bokeh.org/bokeh/release/bokeh-2.0.1.min.js\": \"JpP8FXbgAZLkfur7LiK3j9AGBhHNIvF742meBJrjO2ShJDhCG2I1uVvW+0DUtrmc\", \"https://cdn.bokeh.org/bokeh/release/bokeh-widgets-2.0.1.min.js\": \"xZlADit0Q04ISQEdKg2k3L4W9AwQBAuDs9nJL9fM/WwzL1tEU9VPNezOFX0nLEAz\", \"https://cdn.bokeh.org/bokeh/release/bokeh-tables-2.0.1.min.js\": \"4BuPRZkdMKSnj3zoxiNrQ86XgNw0rYmBOxe7nshquXwwcauupgBF2DHLVG1WuZlV\", \"https://cdn.bokeh.org/bokeh/release/bokeh-gl-2.0.1.min.js\": \"Dv1SQ87hmDqK6S5OhBf0bCuwAEvL5QYL0PuR/F1SPVhCS/r/abjkbpKDYL2zeM19\"};\n\n    for (var i = 0; i < js_urls.length; i++) {\n      var url = js_urls[i];\n      var element = document.createElement('script');\n      element.onload = on_load;\n      element.onerror = on_error;\n      element.async = false;\n      element.src = url;\n      if (url in hashes) {\n        element.crossOrigin = \"anonymous\";\n        element.integrity = \"sha384-\" + hashes[url];\n      }\n      console.debug(\"Bokeh: injecting script tag for BokehJS library: \", url);\n      document.head.appendChild(element);\n    }\n  };var element = document.getElementById(\"1087\");\n  if (element == null) {\n    console.error(\"Bokeh: ERROR: autoload.js configured with elementid '1087' but no matching script tag was found. \")\n    return false;\n  }\n\n  function inject_raw_css(css) {\n    const element = document.createElement(\"style\");\n    element.appendChild(document.createTextNode(css));\n    document.body.appendChild(element);\n  }\n\n  \n  var js_urls = [\"https://cdn.bokeh.org/bokeh/release/bokeh-2.0.1.min.js\", \"https://cdn.bokeh.org/bokeh/release/bokeh-widgets-2.0.1.min.js\", \"https://cdn.bokeh.org/bokeh/release/bokeh-tables-2.0.1.min.js\", \"https://cdn.bokeh.org/bokeh/release/bokeh-gl-2.0.1.min.js\"];\n  var css_urls = [];\n  \n\n  var inline_js = [\n    function(Bokeh) {\n      Bokeh.set_log_level(\"info\");\n    },\n    function(Bokeh) {\n    \n    \n    }\n  ];\n\n  function run_inline_js() {\n    \n    if (root.Bokeh !== undefined || force === true) {\n      \n    for (var i = 0; i < inline_js.length; i++) {\n      inline_js[i].call(root, root.Bokeh);\n    }\n    if (force === true) {\n        display_loaded();\n      }} else if (Date.now() < root._bokeh_timeout) {\n      setTimeout(run_inline_js, 100);\n    } else if (!root._bokeh_failed_load) {\n      console.log(\"Bokeh: BokehJS failed to load within specified timeout.\");\n      root._bokeh_failed_load = true;\n    } else if (force !== true) {\n      var cell = $(document.getElementById(\"1087\")).parents('.cell').data().cell;\n      cell.output_area.append_execute_result(NB_LOAD_WARNING)\n    }\n\n  }\n\n  if (root._bokeh_is_loading === 0) {\n    console.debug(\"Bokeh: BokehJS loaded, going straight to plotting\");\n    run_inline_js();\n  } else {\n    load_libs(css_urls, js_urls, function() {\n      console.debug(\"Bokeh: BokehJS plotting callback run at\", now());\n      run_inline_js();\n    });\n  }\n}(window));"
     },
     "metadata": {},
     "output_type": "display_data"
    }
   ],
   "source": [
    "import re\n",
    "import os\n",
    "import glob\n",
    "import html\n",
    "import shutil\n",
    "\n",
    "import numpy as np\n",
    "import matplotlib.pyplot as plt\n",
    "import pandas as pd\n",
    "from bs4 import BeautifulSoup\n",
    "from tqdm import tqdm\n",
    "\n",
    "from sklearn.feature_extraction.text import TfidfVectorizer\n",
    "from sklearn.decomposition import PCA\n",
    "from sklearn.manifold import TSNE\n",
    "from sklearn.cluster import AgglomerativeClustering\n",
    "\n",
    "import seaborn as sb\n",
    "from bokeh.models import ColumnDataSource\n",
    "from bokeh.plotting import figure, show\n",
    "from bokeh.io import output_notebook, push_notebook, show\n",
    "from bokeh.plotting import output_file\n",
    "from bokeh.palettes import Accent\n",
    "output_notebook()"
   ]
  },
  {
   "cell_type": "code",
   "execution_count": 2,
   "metadata": {},
   "outputs": [],
   "source": [
    "LACUNA = re.compile(r'\\.\\.+')\n",
    "\n",
    "def load_file(path):\n",
    "    with open(path) as f:\n",
    "        xml_text = f.read()\n",
    "    \n",
    "    xml_text = xml_text.replace('&oudpond;', '')\n",
    "    xml_text = xml_text.replace('&supm;', 'm')\n",
    "    xml_text = xml_text.replace('&supM;', 'm')\n",
    "    xml_text = xml_text.replace('&supc;', 'c')\n",
    "    xml_text = xml_text.replace('&supt;', 't')\n",
    "    xml_text = xml_text.replace('&supn;', 'n')\n",
    "    xml_text = xml_text.replace('&sups;', 's')\n",
    "    xml_text = xml_text.replace('&supd;', 'd')\n",
    "    xml_text = xml_text.replace('&supc;', 'c')\n",
    "    xml_text = xml_text.replace('&uring;', 'u')\n",
    "    xml_text = xml_text.replace('&lt;', '')\n",
    "    xml_text = xml_text.replace('&gt;', '')\n",
    "    xml_text = html.unescape(xml_text)\n",
    "\n",
    "    soup = BeautifulSoup(xml_text)\n",
    "    \n",
    "    data = {}\n",
    "\n",
    "    # extract metadata:\n",
    "    data['id'] = os.path.basename(path).replace('.xml', '')\n",
    "    data['title'] = soup.find('title').text\n",
    "    data['author'] = soup.find('author').text\n",
    "    \n",
    "    postquem = '<UNK>'\n",
    "    try:\n",
    "        postquem = soup.find('interpgrp', {'type': 'witnessYear_from'})\n",
    "        postquem = postquem.find('interp')['value']\n",
    "    except AttributeError:\n",
    "        pass\n",
    "    \n",
    "    antequem = '<UNK>'\n",
    "    try:\n",
    "        antequem = soup.find('interpgrp', {'type': 'witnessYear_to'})\n",
    "        antequem = antequem.find('interp')['value']\n",
    "    except AttributeError:\n",
    "        pass\n",
    "    \n",
    "    data['date'] = f'{postquem}-{antequem}'\n",
    "    \n",
    "    provenance = '<UNK>'\n",
    "    try:\n",
    "        provenance = soup.find('interpgrp', {'type': 'corpusProvenance'})\n",
    "        provenance = provenance.find('interp')['value']\n",
    "    except AttributeError:\n",
    "        pass\n",
    "    data['provenance'] = provenance\n",
    "    \n",
    "    # extract and clean lines:\n",
    "    lines = []\n",
    "    for line in soup.find_all('l'):\n",
    "        text = line.get_text().strip()\n",
    "        if text and not re.search(LACUNA, text):\n",
    "            line = ''.join([c for c in text if c.isalpha() or c.isspace()]).strip()\n",
    "            if line:\n",
    "                lines.append(line)\n",
    "    \n",
    "    data['size'] = len(lines)\n",
    "    data['lines'] = '\\n'.join(lines)\n",
    "    \n",
    "    return data"
   ]
  },
  {
   "cell_type": "code",
   "execution_count": 3,
   "metadata": {},
   "outputs": [
    {
     "name": "stderr",
     "output_type": "stream",
     "text": [
      "100%|██████████| 262/262 [00:34<00:00,  7.49it/s]\n"
     ]
    }
   ],
   "source": [
    "texts = []\n",
    "for fn in tqdm(glob.glob('../data/texts/rijm/*.xml')):\n",
    "    texts.append(load_file(fn))"
   ]
  },
  {
   "cell_type": "markdown",
   "metadata": {},
   "source": [
    "Add Gysseling-texts (enkel berijmde literaire teksten):"
   ]
  },
  {
   "cell_type": "code",
   "execution_count": 4,
   "metadata": {},
   "outputs": [
    {
     "name": "stderr",
     "output_type": "stream",
     "text": [
      "100%|██████████| 21/21 [00:01<00:00, 19.78it/s]\n"
     ]
    }
   ],
   "source": [
    "for fn in tqdm(glob.glob('../data/texts/gysseling_lit/*.xml')):\n",
    "    with open(fn) as f:\n",
    "        text = f.read()\n",
    "    \n",
    "    # metadata\n",
    "    data = {}\n",
    "    data['id'] = os.path.basename(fn).replace('.xml', '')\n",
    "    data['title'] = re.findall(r'\\<bron_oms\\>(.*)\\<\\/bron_oms\\>', text)[0]\n",
    "    postquem = re.findall(r\"jaar\\_tot\\=\\'([0-9]+)'\", text)[0]\n",
    "    antequem = re.findall(r\"jaar\\_van\\=\\'([0-9]+)'\", text)[0]\n",
    "    data['date'] = f'{postquem}-{antequem}'\n",
    "    \n",
    "    data['provenance'] = 'Gyss.'\n",
    "    data['author'] = '<UNK>'\n",
    "    \n",
    "    lines = []\n",
    "    for line in text.split('\\n'):\n",
    "        line = line.strip()\n",
    "        if not line:\n",
    "            continue\n",
    "        line = line.replace('<A >', '').replace('</A>', '')\n",
    "        if not line or re.search(LACUNA, line):\n",
    "            continue\n",
    "        \n",
    "        clean = ''\n",
    "        for word in re.findall(r'<C ([0-9#\\*@\\+]+)_([^>]+)>\\s*([^ \\n\\t\\r<]+)', line):\n",
    "            word = word[-1]\n",
    "            word = ''.join([c for c in word if c.isalpha() or c.isspace()]).strip()\n",
    "            if word:\n",
    "                clean += word + ' '\n",
    "        clean = clean.strip()\n",
    "        if clean:\n",
    "            lines.append(clean)\n",
    "    \n",
    "    data['size'] = len(lines)\n",
    "    data['lines'] = '\\n'.join(lines)\n",
    "    \n",
    "    texts.append(data)"
   ]
  },
  {
   "cell_type": "markdown",
   "metadata": {},
   "source": [
    "## Rauwe aanpak"
   ]
  },
  {
   "cell_type": "code",
   "execution_count": 5,
   "metadata": {},
   "outputs": [],
   "source": [
    "metadata, lines = [], []\n",
    "for text in texts:\n",
    "    lines.append(text['lines'])\n",
    "    d = {d:text[d] for d in text if d != 'lines'}\n",
    "    metadata.append(d)"
   ]
  },
  {
   "cell_type": "code",
   "execution_count": 6,
   "metadata": {},
   "outputs": [
    {
     "name": "stdout",
     "output_type": "stream",
     "text": [
      "(283, 10000)\n"
     ]
    }
   ],
   "source": [
    "vectorizer = TfidfVectorizer(max_features=10000, token_pattern=r'(?u)\\b\\w+\\b')\n",
    "X = vectorizer.fit_transform(lines).toarray()\n",
    "print(X.shape)"
   ]
  },
  {
   "cell_type": "code",
   "execution_count": 7,
   "metadata": {},
   "outputs": [
    {
     "name": "stdout",
     "output_type": "stream",
     "text": [
      "(283, 2)\n"
     ]
    }
   ],
   "source": [
    "pca = PCA(2)\n",
    "X_pca = pca.fit_transform(X)\n",
    "print(X_pca.shape)"
   ]
  },
  {
   "cell_type": "code",
   "execution_count": 8,
   "metadata": {},
   "outputs": [],
   "source": [
    "num_clust = 6\n",
    "\n",
    "clust = AgglomerativeClustering(num_clust)\n",
    "labels = clust.fit_predict(X_pca)"
   ]
  },
  {
   "cell_type": "code",
   "execution_count": 9,
   "metadata": {},
   "outputs": [],
   "source": [
    "colors = [Accent[num_clust][i] for i in labels]"
   ]
  },
  {
   "cell_type": "code",
   "execution_count": 10,
   "metadata": {},
   "outputs": [],
   "source": [
    "data_dict = {'x': X_pca[:, 0],\n",
    "             'y': X_pca[:, 1],\n",
    "             'color': colors,\n",
    "             'Title': [d['title'] for d in metadata],\n",
    "             'Author': [d['author'] for d in metadata],\n",
    "             'Date': [d['date'] for d in metadata],\n",
    "             'Length': [d['size'] for d in metadata],\n",
    "             'loglen': [np.log(d['size']) for d in metadata],\n",
    "}\n",
    "data_df = pd.DataFrame(data_dict)\n",
    "\n",
    "x_label = \"PC 1\"\n",
    "y_label = \"PC 2\"\n",
    "fig_title = \"Cd-rom Middelnederlands (rijm)\""
   ]
  },
  {
   "cell_type": "code",
   "execution_count": 22,
   "metadata": {},
   "outputs": [
    {
     "data": {
      "text/html": [
       "\n",
       "\n",
       "\n",
       "\n",
       "\n",
       "\n",
       "  <div class=\"bk-root\" id=\"12e150d2-c860-4356-89e4-5f22aae5f1ff\" data-root-id=\"1927\"></div>\n"
      ]
     },
     "metadata": {},
     "output_type": "display_data"
    },
    {
     "data": {
      "application/javascript": [
       "(function(root) {\n",
       "  function embed_document(root) {\n",
       "    \n",
       "  var docs_json = {\"957160a8-1748-4039-a1a5-bdf37d589af5\":{\"roots\":{\"references\":[{\"attributes\":{\"below\":[{\"id\":\"1938\"}],\"center\":[{\"id\":\"1941\"},{\"id\":\"1945\"},{\"id\":\"1955\"}],\"left\":[{\"id\":\"1942\"}],\"plot_height\":800,\"plot_width\":800,\"renderers\":[{\"id\":\"1959\"}],\"title\":{\"id\":\"1928\"},\"toolbar\":{\"id\":\"1950\"},\"toolbar_location\":\"above\",\"x_range\":{\"id\":\"1930\"},\"x_scale\":{\"id\":\"1934\"},\"y_range\":{\"id\":\"1932\"},\"y_scale\":{\"id\":\"1936\"}},\"id\":\"1927\",\"subtype\":\"Figure\",\"type\":\"Plot\"},{\"attributes\":{\"data_source\":{\"id\":\"1926\"},\"glyph\":{\"id\":\"1957\"},\"hover_glyph\":null,\"muted_glyph\":null,\"nonselection_glyph\":{\"id\":\"1958\"},\"selection_glyph\":null,\"view\":{\"id\":\"1960\"}},\"id\":\"1959\",\"type\":\"GlyphRenderer\"},{\"attributes\":{\"text\":\"Cd-rom Middelnederlands (rijm)\"},\"id\":\"1928\",\"type\":\"Title\"},{\"attributes\":{},\"id\":\"1934\",\"type\":\"LinearScale\"},{\"attributes\":{},\"id\":\"2002\",\"type\":\"UnionRenderers\"},{\"attributes\":{},\"id\":\"1936\",\"type\":\"LinearScale\"},{\"attributes\":{},\"id\":\"1932\",\"type\":\"DataRange1d\"},{\"attributes\":{},\"id\":\"2003\",\"type\":\"Selection\"},{\"attributes\":{\"axis_label\":\"Dim. 1\",\"formatter\":{\"id\":\"2000\"},\"ticker\":{\"id\":\"1939\"}},\"id\":\"1938\",\"type\":\"LinearAxis\"},{\"attributes\":{\"fill_color\":{\"field\":\"color\"},\"line_color\":{\"value\":\"grey\"},\"size\":{\"field\":\"loglen\",\"units\":\"screen\"},\"x\":{\"field\":\"x\"},\"y\":{\"field\":\"y\"}},\"id\":\"1957\",\"type\":\"Circle\"},{\"attributes\":{},\"id\":\"1998\",\"type\":\"BasicTickFormatter\"},{\"attributes\":{\"text\":\"Van den vos Reynaerde\",\"text_align\":\"center\",\"text_font_size\":\"10pt\",\"x\":-8.203181266784668,\"y\":1.9174870252609253},\"id\":\"1955\",\"type\":\"Label\"},{\"attributes\":{},\"id\":\"1939\",\"type\":\"BasicTicker\"},{\"attributes\":{\"callback\":null,\"tooltips\":[[\"Title\",\"@Title\"],[\"Author\",\"@Author\"],[\"Date\",\"@Date\"]]},\"id\":\"1946\",\"type\":\"HoverTool\"},{\"attributes\":{\"axis\":{\"id\":\"1938\"},\"ticker\":null},\"id\":\"1941\",\"type\":\"Grid\"},{\"attributes\":{\"fill_alpha\":{\"value\":0.1},\"fill_color\":{\"field\":\"color\"},\"line_alpha\":{\"value\":0.1},\"line_color\":{\"value\":\"grey\"},\"size\":{\"field\":\"loglen\",\"units\":\"screen\"},\"x\":{\"field\":\"x\"},\"y\":{\"field\":\"y\"}},\"id\":\"1958\",\"type\":\"Circle\"},{\"attributes\":{},\"id\":\"1930\",\"type\":\"DataRange1d\"},{\"attributes\":{\"data\":{\"Author\":[\"Onbekend\",\"Onbekend\",\"Onbekend\",\"Onbekend\",\"Lambertus Goetman\",\"Onbekend\",\"Philip Utenbroeke\",\"Lodewijk van Velthem\",\"Onbekend\",\"Jacob van Maerlant\",\"Onbekend\",\"Onbekend\",\"Lodewijk van Velthem\",\"Onbekend\",\"Calfstaf en Noydekin(?)\",\"Onbekend\",\"Onbekend\",\"Onbekend\",\"Lodewijk van Velthem\",\"Loy Latewaert\",\"Onbekend\",\"Onbekend\",\"Jacob van Maerlant\",\"Heinriic\",\"Onbekend\",\"Onbekend\",\"Onbekend\",\"Onbekend\",\"Onbekend\",\"Onbekend\",\"Onbekend\",\"Philip Utenbroeke\",\"Onbekend\",\"Lodewijk van Velthem\",\"Onbekend\",\"Onbekend\",\"Hein van Aken\",\"Lodewijk van Velthem\",\"Onbekend\",\"Heraut Beyeren\",\"Lodewijk van Velthem\",\"Onbekend\",\"Onbekend\",\"Onbekend\",\"Onbekend\",\"Jacob van Maerlant\",\"Onbekend\",\"Onbekend\",\"Clays van Haerlem\",\"Lodewijk van Velthem\",\"Onbekend\",\"Lodewijk van Velthem\",\"Onbekend\",\"Jan van Boendale\",\"Philip Utenbroeke\",\"Lodewijk van Velthem\",\"Lodewijk van Velthem\",\"Onbekend\",\"Onbekend\",\"Onbekend\",\"Onbekend\",\"Onbekend\",\"Onbekend\",\"Diederic van Assenede\",\"Onbekend\",\"Hein van Aken\",\"Onbekend\",\"Onbekend\",\"Onbekend\",\"Jan de Weert\",\"Jacob van Maerlant\",\"Niet van toepassing\",\"Jacob van Maerlant(?)\",\"Onbekend\",\"Onbekend\",\"Onbekend\",\"Onbekend\",\"Onbekend\",\"Onbekend\",\"Onbekend\",\"Jacob van Maerlant\",\"Onbekend\",\"Onbekend\",\"Onbekend\",\"Onbekend\",\"Onbekend\",\"Niet van toepassing\",\"Onbekend\",\"Onbekend\",\"Onbekend\",\"Onbekend\",\"Gielijs van Molhem\",\"Onbekend\",\"Onbekend\",\"Onbekend\",\"Augustijnken\",\"Niet van toepassing\",\"Onbekend\",\"Jacob van Maerlant\",\"Onbekend\",\"Onbekend\",\"Jacob van Maerlant\",\"Onbekend\",\"Onbekend\",\"Onbekend\",\"Hadewijch\",\"Onbekend\",\"Jacob van Maerlant\",\"Jacob van Maerlant\",\"Onbekend\",\"Jacob van Maerlant\",\"Jacob van Maerlant\",\"Niet van toepassing\",\"Onbekend\",\"Onbekend\",\"Onbekend\",\"Onbekend\",\"Onbekend\",\"Onbekend\",\"Onbekend\",\"Onbekend\",\"Onbekend\",\"Lodewijk van Velthem\",\"Onbekend\",\"Onbekend\",\"Onbekend\",\"Onbekend\",\"Onbekend\",\"Niet van toepassing\",\"Philip Utenbroeke\",\"Onbekend\",\"Philip Utenbroeke\",\"Onbekend\",\"Lodewijk van Velthem\",\"Onbekend\",\"Lodewijk van Velthem\",\"Onbekend\",\"Onbekend\",\"Onbekend\",\"Onbekend\",\"Onbekend\",\"Onbekend\",\"Onbekend\",\"Onbekend\",\"Onbekend\",\"Onbekend\",\"Jan van Boendale\",\"Onbekend\",\"Onbekend\",\"Onbekend\",\"Onbekend\",\"Onbekend\",\"Philip Utenbroeke\",\"Jan van Boendale\",\"Onbekend\",\"Onbekend\",\"Onbekend\",\"Hadewijch\",\"Onbekend\",\"Onbekend\",\"Onbekend\",\"Onbekend\",\"Onbekend\",\"Niet van toepassing\",\"Onbekend\",\"Onbekend\",\"Onbekend\",\"Melis Stoke\",\"Lodewijk van Velthem\",\"Onbekend\",\"Jacob van Maerlant?\",\"Philip Utenbroeke\",\"Onbekend\",\"Onbekend\",\"Onbekend\",\"Onbekend\",\"Onbekend\",\"Onbekend\",\"Onbekend\",\"Onbekend\",\"Jan van Boendale\",\"Jacob van Maerlant\",\"Jan de Weert\",\"Augustijnken\",\"Jan van Heelu\",\"Onbekend\",\"Onbekend\",\"Onbekend\",\"Onbekend\",\"Onbekend\",\"Onbekend\",\"Onbekend\",\"Jan Praet\",\"Onbekend\",\"Jacob van Maerlant(?)\",\"Onbekend\",\"Onbekend\",\"Willem van Hildegaersberch\",\"Onbekend\",\"Onbekend\",\"Onbekend\",\"Onbekend\",\"Onbekend\",\"Philip Utenbroeke\",\"Onbekend\",\"Jacob van Maerlant(?)\",\"Jacob van Maerlant\",\"Onbekend\",\"Onbekend\",\"Onbekend\",\"Onbekend\",\"Onbekend\",\"Onbekend\",\"Onbekend\",\"Onbekend\",\"Onbekend\",\"Onbekend\",\"Onbekend\",\"Hein van Aken(?)\",\"Onbekend\",\"Lodewijk van Velthem\",\"Onbekend\",\"Augustijnken\",\"Onbekend\",\"Onbekend\",\"Niet van toepassing\",\"Onbekend\",\"Onbekend\",\"Onbekend\",\"Onbekend\",\"Penninc en Pieter Vostaert\",\"Lodewijk van Velthem\",\"Onbekend\",\"Niet van toepassing\",\"Onbekend\",\"Niet van toepassing\",\"Onbekend\",\"Onbekend\",\"Hendrik van Veldeke\",\"Onbekend\",\"Onbekend\",\"Onbekend\",\"Onbekend\",\"Onbekend\",\"Dirc Potter\",\"Onbekend\",\"Onbekend\",\"Jan van Boendale\",\"Niet van toepassing\",\"Jacob van Maerlant\",\"Onbekend\",\"Onbekend\",\"Onbekend\",\"Jacob van Maerlant\",\"Onbekend\",\"Onbekend\",\"Onbekend\",\"Willem\",\"Onbekend\",\"Jan van Boendale\",\"Onbekend\",\"Onbekend\",\"<UNK>\",\"<UNK>\",\"<UNK>\",\"<UNK>\",\"<UNK>\",\"<UNK>\",\"<UNK>\",\"<UNK>\",\"<UNK>\",\"<UNK>\",\"<UNK>\",\"<UNK>\",\"<UNK>\",\"<UNK>\",\"<UNK>\",\"<UNK>\",\"<UNK>\",\"<UNK>\",\"<UNK>\",\"<UNK>\",\"<UNK>\"],\"Date\":[\"1375-1400\",\"1400-1420\",\"1350-1400\",\"1350-1400\",\"1510-1520\",\"1375-1400\",\"1325-1350\",\"1390-1410\",\"1340-1360\",\"1380-1425\",\"1400-1500\",\"1350-1400\",\"1315-1335\",\"1390-1410\",\"1340-1360\",\"1470-1490\",\"1350-1400\",\"1390-1410\",\"1300-1325\",\"1412-1415\",\"1400-1420\",\"1400-1420\",\"1374-1374\",\"1340-1360\",\"1340-1360\",\"1440-1460\",\"1339-1339\",\"1340-1360\",\"1300-1400\",\"1300-1400\",\"1340-1360\",\"1390-1410\",\"1340-1360\",\"1390-1410\",\"1300-1350\",\"1350-1400\",\"1300-1350\",\"1390-1410\",\"1440-1450\",\"1400-1420\",\"1300-1350\",\"1350-1400\",\"1200-1250\",\"1340-1360\",\"1500-1520\",\"1465-1485\",\"1300-1400\",\"1300-1350\",\"1300-1350\",\"1390-1410\",\"1374-1374\",\"1390-1410\",\"1339-1339\",\"1435-1455\",\"1393-1402\",\"1350-1400\",\"1350-1400\",\"1300-1350\",\"1390-1410\",\"1375-1400\",\"1440-1460\",\"1340-1360\",\"1375-1400\",\"1340-1360\",\"1340-1360\",\"1390-1410\",\"1300-1350\",\"1375-1425\",\"1457-1500\",\"1380-1425\",\"1380-1425\",\"1551-1551\",\"1300-1400\",\"1350-1400\",\"1800-1820\",\"1300-1350\",\"1340-1360\",\"1300-1400\",\"1300-1350\",\"1375-1400\",\"1300-1325\",\"1300-1350\",\"1400-1420\",\"1400-1420\",\"1350-1375\",\"1300-1400\",\"1551-1551\",\"1340-1360\",\"1375-1400\",\"1340-1360\",\"1300-1350\",\"1390-1410\",\"1300-1400\",\"1300-1350\",\"1340-1360\",\"1400-1420\",\"1400-1425\",\"1300-1400\",\"1339-1339\",\"1400-1420\",\"1390-1410\",\"1300-1350\",\"1375-1400\",\"1350-1400\",\"1300-1320\",\"1340-1360\",\"1340-1360\",\"1380-1425\",\"1300-1350\",\"1460-1470\",\"1380-1425\",\"1390-1410\",\"1350-1400\",\"1350-1400\",\"1300-1350\",\"1340-1360\",\"1290-1310\",\"1350-1400\",\"1400-1420\",\"1350-1375\",\"1405-1405\",\"1375-1400\",\"1315-1350\",\"1300-1400\",\"1340-1360\",\"1440-1460\",\"1300-1350\",\"1340-1360\",\"1539-1539\",\"1300-1350\",\"1400-1420\",\"1390-1410\",\"1400-1420\",\"1315-1350\",\"1340-1360\",\"1393-1402\",\"1495-1515\",\"1300-1400\",\"1300-1350\",\"1460-1480\",\"1340-1360\",\"1300-1325\",\"1400-1420\",\"1300-1350\",\"1300-1350\",\"1300-1325\",\"1340-1360\",\"1400-1429\",\"1350-1400\",\"1440-1460\",\"1350-1375\",\"1290-1310\",\"1315-1350\",\"1460-1480\",\"1300-1400\",\"1432-1432\",\"1340-1360\",\"1340-1360\",\"1380-1425\",\"1490-1510\",\"1570-1590\",\"1400-1420\",\"1350-1400\",\"1390-1410\",\"1480-1500\",\"1300-1350\",\"1340-1360\",\"1365-1385\",\"1390-1410\",\"1350-1400\",\"1400-1450\",\"1300-1325\",\"1405-1405\",\"1300-1350\",\"1400-1450\",\"1500-1520\",\"1374-1374\",\"1375-1400\",\"1340-1360\",\"1300-1400\",\"1399-1410\",\"1300-1350\",\"1400-1420\",\"1400-1420\",\"1430-1450\",\"1350-1400\",\"1400-1420\",\"1390-1410\",\"1300-1400\",\"1475-1500\",\"1375-1400\",\"1340-1360\",\"1440-1460\",\"1300-1350\",\"1339-1339\",\"1490-1510\",\"1434-1436\",\"1470-1490\",\"1375-1400\",\"1300-1350\",\"1340-1360\",\"1400-1420\",\"1340-1360\",\"1350-1400\",\"1486-1488\",\"1339-1339\",\"1415-1435\",\"1300-1400\",\"1440-1460\",\"1400-1420\",\"1350-1400\",\"1350-1400\",\"1438-1438\",\"1340-1360\",\"1490-1530\",\"1390-1410\",\"1400-1420\",\"1350-1400\",\"1390-1400\",\"1290-1310\",\"1300-1325\",\"1475-1500\",\"1400-1420\",\"1375-1400\",\"1350-1400\",\"1350-1400\",\"None-None\",\"1350-1400\",\"1300-1350\",\"1380-1400\",\"1350-1350\",\"1340-1360\",\"1400-1420\",\"1350-1400\",\"1300-1400\",\"1508-1508\",\"1340-1360\",\"1300-1350\",\"1450-1500\",\"1300-1400\",\"1300-1350\",\"1390-1410\",\"1400-1420\",\"1440-1460\",\"1470-1490\",\"1300-1350\",\"1600-1700\",\"1390-1410\",\"1544-1544\",\"1339-1339\",\"1300-1400\",\"1390-1410\",\"1351-1351\",\"1390-1400\",\"None-None\",\"1300-1350\",\"1375-1400\",\"1380-1425\",\"1300-1350\",\"1390-1410\",\"1460-1480\",\"1479-1483\",\"1280-1260\",\"1300-1276\",\"1250-1250\",\"1285-1285\",\"1300-1276\",\"1300-1291\",\"1300-1276\",\"1280-1260\",\"1287-1287\",\"1300-1291\",\"1225-1201\",\"1300-1276\",\"1270-1260\",\"1300-1291\",\"1300-1291\",\"1280-1260\",\"1300-1276\",\"1240-1220\",\"1290-1290\",\"1270-1265\",\"1300-1276\"],\"Length\":[153,1853,430,70,496,2389,71,704,305,338,728,116,27482,1351,1563,236,90,112,88,11525,200,274,2156,21848,200,20,302,5603,140,86,139,604,209,1789,4716,124,14410,568,931,1990,1008,4513,117,343,183,40866,285,396,325,564,6721,563,850,2018,33082,205,312,11157,298,3,470,1284,358,4007,4284,290,13025,174,759,1868,975,279,318,169,12187,62,63,346,142,1020,88714,3668,625,208,173,430,296,248,101,150,5595,1450,2029,1890,2006,316,2482,77,247,952,3772,10495,816,145,148,2880,224,599,3855,713,507,14218,1370,10,59,239,92,62,93,235,1785,88,394,155,315,581,5838,69,14065,144,1128,593,6341,185,346,174,176,181,36922,18189,344,34,1143,3413,177,84,22006,1767,60,16920,485,2828,180,16318,117,11988,10775,3568,2285,70,303,57,97,10123,494,48,452,13649,579,276,120,206,287,90,264,160,1039,144,290,78,374,336,2920,1051,9539,226,111,119,30,505,133,1198,4859,847,73,1119,441,21666,11277,1018,400,219,155,127,1364,104,35899,124,196,1019,181,105,4939,308,298,110,244,8362,893,148,588,72,84,109,565,8513,575,1866,345,144,11180,488,405,4164,84,1960,77,92,6228,62,56,2479,14487,627,11140,4015,534,4101,11162,544,118,28,2329,234,189,191,100,3467,247,5870,7809,1692,142,743,152,35982,1981,6736,86,73,17138,54,314,287,114,537,38,803,657,540,3719,20996,3659],\"Title\":[\"Onge\\u00efdentificeerd (6)\",\"Theophilus\",\"Madelgijs\",\"Roelantslied\",\"Spiegel der jongers\",\"Borchgrave van Couchi\",\"Spiegel historiael (tweede partie)\",\"Spiegel historiael (vierde partie [aandeel Velthem])\",\"Parthonopeus van Bloys\",\"Tweede Martijn\",\"Sinte Kunera\",\"Madelgijs\",\"Spiegel historiael (vijfde partie)\",\"Van Maskeroen\",\"Esopet\",\"Rijmspreuken\",\"Madelgijs\",\"Noch meer van wiven\",\"Spiegel historiael (vierde partie [aandeel Velthem])\",\"Segheliin van Jerusalem\",\"Lippijn\",\"Van ses vaerwen ende twaelf outheyden\",\"Heymelijchede der heymelijcheit\",\"Roman van Limborch\",\"Gwidekijn van Sassen\",\"Spel van Abraham en Sara\",\"Van der manen zeden\",\"Ferguut\",\"Onge\\u00efdentificeerd (4)\",\"Boudewijn van Seborch\",\"Madelgijs\",\"Spiegel historiael (tweede partie)\",\"Madelgijs\",\"Spiegel historiael (vierde partie [aandeel Velthem])\",\"Roman van Moriaen\",\"Madelgijs\",\"Rose\",\"Spiegel historiael (vierde partie [aandeel Velthem])\",\"Ons heren passie\",\"Korte kroniek van Brabant (lange versie)\",\"Merlijn-continuatie\",\"Van den VII Vroeden van binnen Rome\",\"Onge\\u00efdentificeerd (1)\",\"Onge\\u00efdentificeerd (3)\",\"Historie van Gaver Capeel\",\"Historie van Troyen\",\"Valentijn en Nameloos\",\"Roman van Lancelot\",\"Willem van Oringen\",\"Spiegel historiael (vierde partie [aandeel Velthem])\",\"Dietsche doctrinale\",\"Spiegel historiael (vierde partie [aandeel Velthem])\",\"Boec van den houte (berijmde versie)\",\"Van den derden Eduwaert\",\"Spiegel historiael (tweede partie)\",\"Merlijn-continuatie\",\"Merlijn-continuatie\",\"Queeste van den Grale\",\"Leven van Sint Trudo (berijming)\",\"Onge\\u00efdentificeerd (2)\",\"Collectief lunarium III (berijmd)\",\"Bediedenisse van der missen\",\"Madelgijs\",\"Floris ende Blancefloer\",\"Der ystorien bloeme\",\"Van Saladijn\",\"Arturs doet\",\"Beerte metten breden voeten\",\"O crux lignum triumphale\",\"Wapene Rogier\",\"Eerste Martijn\",\"Tvveeste musyck boexken\",\"Lapidarijs\",\"Loyhier en Malaert\",\"Grimbergse oorlog\",\"Roman van Antiochi\\u00eb\",\"Godevaert metten baerde\",\"Roelantslied\",\"Roman van Perchevael\",\"Florigout\",\"Spiegel historiael (eerste partie / derde partie / vierde partie [aandeel Maerlant])\",\"Walewein ende Keye\",\"Vanden winter ende vanden somer\",\"Buskenblazer\",\"Florent ende Durant\",\"Sint Patricius' vagevuur (berijming)\",\"Ierste musyck boexken\",\"Parthonopeus van Bloys\",\"Madelgijs\",\"Roman van Cassamus (lange versie)\",\"Roman van Perchevael\",\"Rinclus\",\"Van smeinscen lede\",\"Roman van Cassamus (verkorte versie)\",\"Renout van Montalbaen\",\"Schepping\",\"Berlijnse liederenhandschrift\",\"Renout van Montalbaen\",\"Van den lande van over zee\",\"Lanseloet van Denemerken\",\"Melibeus\",\"Sinte Franciscus leven\",\"Borchgrave van Couchi\",\"Slag van Crecy\",\"Collectief lunarium I (berijmd)\",\"Mengeldichten I-XVI\",\"Madelgijs\",\"Disputacie van onser Vrouwen ende van den Heilighen Cruce\",\"Roman van Torec\",\"Van den neghen besten (lange versie)\",\"Derde Martijn\",\"Alexanders geesten\",\"Gruuthuse-handschrift (gebeden en allegorische gedichten)\",\"Loyhier en Malaert\",\"Roman van Antiochi\\u00eb\",\"Madelgijs\",\"Parthonopeus van Bloys\",\"Roelantslied\",\"Truwanten\",\"Roman van den riddere metter mouwen\",\"Der vrouwen heimelijcheit\",\"Barlaam en Josaphat\",\"Spiegel historiael (vierde partie [aandeel Velthem])\",\"Ogier van Denemarken\",\"Fierabras\",\"Cyromanchie van den pape van den Hamme\",\"Lantsloot van der Haghedochte\",\"Madelgijs\",\"Devoot ende profitelyck boecxken\",\"Spiegel historiael (tweede partie)\",\"Borchgravinne van Vergi (1)\",\"Spiegel historiael (tweede partie)\",\"Dietsche Lucidarius\",\"Spiegel historiael (vierde partie [aandeel Velthem])\",\"Aubri de Borgengoen\",\"Spiegel historiael (vierde partie [aandeel Velthem])\",\"Roman van Jonathas ende Rosafiere\",\"Ogier van Denemarken\",\"Roman van Lancelot\",\"Brabantsche yeesten (boek 7)\",\"Valentijn en Nameloos\",\"Chanson d'Aspremont\",\"Gloriant\",\"Wrake van Ragisel (verkorte versie)\",\"Roman van Cassamus (lange versie)\",\"Borchgrave van Couchi\",\"Der leken spieghel\",\"Natuurkunde van het geheelal\",\"Madelgijs\",\"Spiegel der sonden (berijming)\",\"Borchgravinne van Vergi (2)\",\"Vlaamse Rose\",\"Spiegel historiael (tweede partie)\",\"Brabantsche yeesten (boek 1-5)\",\"Ogier van Denemarken\",\"Brabantsche yeesten (boek 6)\",\"Roman der Lorreinen\",\"Strofische gedichten (Hadewijch)\",\"Van sente Brandane\",\"Renout van Montalbaen\",\"Vande Hertogen ende Heeren van Brabant\",\"AB recht ende averecht\",\"Madelgijs\",\"Haagse liederenhandschrift\",\"Baghynken van Parys\",\"Roman van Antiochi\\u00eb\",\"Roman van Iechemas\",\"Rijmkroniek van Holland\",\"Spiegel historiael (vierde partie [aandeel Velthem])\",\"Roelantslied\",\"Van ons heren wonden\",\"Spiegel historiael (tweede partie)\",\"Fysionomie (berijmd)\",\"Barlaam en Josaphat\",\"Spel van de Antichrist\",\"Roman van Jonathas ende Rosafiere\",\"Beatrijs\",\"Roman van Saladin\",\"Roman van Florimont\",\"Ogier van Denemarken\",\"Korte kroniek van Brabant (korte versie 1)\",\"Merlijns boec\",\"Nieuwe doctrinael\",\"Sinte Jans ewangelium alsoe 't Augustijnken gheexponeert heeft\",\"Rijmkroniek van Woeringen\",\"Van der wive wonderlijcheit (lange versie)\",\"Hexe\",\"Van ghevene\",\"Roman van Cassant\",\"Roelantslied\",\"Parthonopeus van Bloys\",\"Aiol (2) (Vlaamse Aiol)\",\"Speghel der wijsheit\",\"Lanceloet en het hert met de witte voet\",\"Van den vijf vrouden\",\"Jonathas ende Rosafiere\",\"Cracht der mane I\",\"Gedichten (Willem van Hildegaersberch)\",\"Commentaar op het Hooglied (berijmd)\",\"Roman van Caesar\",\"Renout van Montalbaen\",\"Expositie vanden viere vingheren ende vanden dume\",\"Gedicht over de hemeltekenen\",\"Spiegel historiael (tweede partie)\",\"Karel ende Elegast\",\"Van den verkeerden Martijn\",\"Historie van den grale\",\"Loyhier en Malaert\",\"Spiegel der sonden (berijming)\",\"Esmoreit\",\"Anatomie van de mens\",\"Spiegel der sonden (berijming)\",\"Vanden levene ons heren\",\"Boudewijn van Seborch\",\"Boec Exemplaer\",\"Noch die tien ghebode\",\"Rubben\",\"Parthonopeus van Bloys\",\"Vierde Martijn\",\"Parthonopeus van Bloys\",\"Spiegel historiael (vierde partie [aandeel Velthem])\",\"Van den neghen besten (korte versie)\",\"Vander rijcheit ende vander doot\",\"Florigout\",\"Huge van Bordeeus\",\"Gruuthuse-handschrift (allegorische gedichten)\",\"Borchgrave van Couchi\",\"Flandrijs\",\"Huge van Bordeeus\",\"Onge\\u00efdentificeerd fragment\",\"Roman van Walewein\",\"Spiegel historiael (vierde partie [aandeel Velthem])\",\"Drie daghe here\",\"Gruuthuse-handschrift (liederen)\",\"Loyhier en Malaert\",\"Suverlijc boecxken\",\"Wrake van Ragisel\",\"Frenesie\",\"Sint Servaes legende\",\"Spiegel der sonden (berijming)\",\"Godevaerts kintshede\",\"Tien plaghen ende die tien ghebode\",\"Spieghel der menscheliker behoudenesse\",\"Flovent\",\"Der minnen loep\",\"Roman van den riddere metter mouwen (verkorte versie)\",\"Beginsel der oorlogen van Luyck\",\"Jans teesteye\",\"Antwerps liedboek\",\"Clausule vander bible\",\"Minnedichten 2\",\"Noch van Salladine\",\"Der mannen ende vrouwen heimelijcheit\",\"Der kerken claghe\",\"Jan Splinters testament\",\"Geraert van Viane\",\"Lion van Bourges\",\"Van den vos Reynaerde\",\"Minnedichten 1\",\"Boec vander wraken\",\"Reinaerts historie\",\"Dystorie van Saladine\",\"Brabantse vertaling van het Nibelungenlied\",\"Perchevael\",\"Tristant\",\"Corpus II-3 Rijmbijbel\",\"Sinte Kerstine\",\"Luiks Diatessaron\",\"Reinout van Montalbaen\",\"Reinaert G\",\"Der naturen bloeme, handschrift D\",\"Alexiuslegende\",\"Floyris ende Blantseflur\",\"Reinaert E\",\"Boeve van Hamtone\",\"Wisselau\",\"Minnedichten uit Ter Doest\",\"Wrake van Ragisel\",\"Der naturen bloeme, handschrift M\",\"Aiol\",\"Enaamse Codex\",\"Corpus II-5 Lutgard K\",\"Sinte Lutgart, handschrift A\"],\"color\":[\"#386cb0\",\"#f0027f\",\"#386cb0\",\"#386cb0\",\"#fdc086\",\"#7fc97f\",\"#ffff99\",\"#beaed4\",\"#f0027f\",\"#beaed4\",\"#ffff99\",\"#386cb0\",\"#ffff99\",\"#f0027f\",\"#f0027f\",\"#ffff99\",\"#386cb0\",\"#7fc97f\",\"#f0027f\",\"#7fc97f\",\"#fdc086\",\"#beaed4\",\"#beaed4\",\"#f0027f\",\"#7fc97f\",\"#fdc086\",\"#beaed4\",\"#f0027f\",\"#386cb0\",\"#7fc97f\",\"#7fc97f\",\"#ffff99\",\"#386cb0\",\"#beaed4\",\"#fdc086\",\"#386cb0\",\"#f0027f\",\"#ffff99\",\"#ffff99\",\"#ffff99\",\"#f0027f\",\"#7fc97f\",\"#ffff99\",\"#7fc97f\",\"#ffff99\",\"#ffff99\",\"#7fc97f\",\"#fdc086\",\"#f0027f\",\"#ffff99\",\"#beaed4\",\"#ffff99\",\"#7fc97f\",\"#7fc97f\",\"#f0027f\",\"#fdc086\",\"#f0027f\",\"#fdc086\",\"#ffff99\",\"#386cb0\",\"#beaed4\",\"#beaed4\",\"#386cb0\",\"#f0027f\",\"#f0027f\",\"#fdc086\",\"#fdc086\",\"#fdc086\",\"#7fc97f\",\"#beaed4\",\"#beaed4\",\"#fdc086\",\"#ffff99\",\"#f0027f\",\"#ffff99\",\"#386cb0\",\"#f0027f\",\"#7fc97f\",\"#f0027f\",\"#7fc97f\",\"#ffff99\",\"#fdc086\",\"#fdc086\",\"#fdc086\",\"#7fc97f\",\"#beaed4\",\"#fdc086\",\"#f0027f\",\"#fdc086\",\"#f0027f\",\"#fdc086\",\"#beaed4\",\"#beaed4\",\"#f0027f\",\"#386cb0\",\"#beaed4\",\"#fdc086\",\"#386cb0\",\"#ffff99\",\"#fdc086\",\"#beaed4\",\"#7fc97f\",\"#7fc97f\",\"#7fc97f\",\"#beaed4\",\"#beaed4\",\"#386cb0\",\"#beaed4\",\"#fdc086\",\"#7fc97f\",\"#beaed4\",\"#f0027f\",\"#beaed4\",\"#fdc086\",\"#386cb0\",\"#386cb0\",\"#f0027f\",\"#7fc97f\",\"#fdc086\",\"#f0027f\",\"#beaed4\",\"#7fc97f\",\"#ffff99\",\"#386cb0\",\"#7fc97f\",\"#beaed4\",\"#f0027f\",\"#386cb0\",\"#fdc086\",\"#f0027f\",\"#fdc086\",\"#ffff99\",\"#beaed4\",\"#ffff99\",\"#386cb0\",\"#ffff99\",\"#fdc086\",\"#386cb0\",\"#fdc086\",\"#ffff99\",\"#386cb0\",\"#7fc97f\",\"#fdc086\",\"#fdc086\",\"#f0027f\",\"#f0027f\",\"#beaed4\",\"#beaed4\",\"#386cb0\",\"#ffff99\",\"#386cb0\",\"#f0027f\",\"#ffff99\",\"#ffff99\",\"#7fc97f\",\"#ffff99\",\"#f0027f\",\"#beaed4\",\"#ffff99\",\"#7fc97f\",\"#7fc97f\",\"#beaed4\",\"#ffff99\",\"#fdc086\",\"#fdc086\",\"#386cb0\",\"#f0027f\",\"#7fc97f\",\"#ffff99\",\"#7fc97f\",\"#beaed4\",\"#f0027f\",\"#beaed4\",\"#7fc97f\",\"#beaed4\",\"#fdc086\",\"#fdc086\",\"#7fc97f\",\"#f0027f\",\"#7fc97f\",\"#ffff99\",\"#fdc086\",\"#beaed4\",\"#beaed4\",\"#ffff99\",\"#7fc97f\",\"#fdc086\",\"#ffff99\",\"#386cb0\",\"#7fc97f\",\"#7fc97f\",\"#7fc97f\",\"#beaed4\",\"#fdc086\",\"#fdc086\",\"#7fc97f\",\"#beaed4\",\"#ffff99\",\"#ffff99\",\"#f0027f\",\"#386cb0\",\"#beaed4\",\"#beaed4\",\"#f0027f\",\"#f0027f\",\"#beaed4\",\"#f0027f\",\"#7fc97f\",\"#7fc97f\",\"#fdc086\",\"#beaed4\",\"#beaed4\",\"#f0027f\",\"#7fc97f\",\"#7fc97f\",\"#beaed4\",\"#fdc086\",\"#f0027f\",\"#beaed4\",\"#beaed4\",\"#f0027f\",\"#7fc97f\",\"#beaed4\",\"#7fc97f\",\"#7fc97f\",\"#beaed4\",\"#f0027f\",\"#386cb0\",\"#f0027f\",\"#beaed4\",\"#fdc086\",\"#ffff99\",\"#fdc086\",\"#beaed4\",\"#7fc97f\",\"#fdc086\",\"#fdc086\",\"#fdc086\",\"#7fc97f\",\"#beaed4\",\"#386cb0\",\"#beaed4\",\"#7fc97f\",\"#f0027f\",\"#ffff99\",\"#fdc086\",\"#ffff99\",\"#beaed4\",\"#fdc086\",\"#ffff99\",\"#beaed4\",\"#386cb0\",\"#beaed4\",\"#beaed4\",\"#ffff99\",\"#386cb0\",\"#ffff99\",\"#f0027f\",\"#beaed4\",\"#beaed4\",\"#ffff99\",\"#7fc97f\",\"#7fc97f\",\"#ffff99\",\"#7fc97f\",\"#f0027f\",\"#fdc086\",\"#ffff99\",\"#386cb0\",\"#fdc086\",\"#beaed4\",\"#386cb0\",\"#ffff99\",\"#ffff99\",\"#7fc97f\",\"#7fc97f\",\"#386cb0\",\"#ffff99\",\"#beaed4\",\"#fdc086\",\"#f0027f\",\"#ffff99\",\"#fdc086\"],\"loglen\":[5.030437921392435,7.52456122628536,6.063785208687608,4.248495242049359,6.206575926724928,7.77863014732581,4.2626798770413155,6.556778356158042,5.720311776607412,5.823045895483019,6.590301048196686,4.7535901911063645,10.22128652389172,7.208600337960199,7.354362330421477,5.4638318050256105,4.499809670330265,4.718498871295094,4.477336814478207,9.352273867864849,5.298317366548036,5.6131281063880705,7.6760099320288875,9.99186466315354,5.298317366548036,2.995732273553991,5.71042701737487,8.631057447565285,4.941642422609304,4.454347296253507,4.9344739331306915,6.403574197934815,5.342334251964811,7.489412083508719,8.458716261657262,4.820281565605037,9.575677688993569,6.342121418721152,6.836259277277067,7.595889917718538,6.915723448631314,8.414717399827001,4.762173934797756,5.8377304471659395,5.209486152841421,10.618053700469373,5.652489180268651,5.981414211254481,5.783825182329737,6.335054251498059,8.812992231969966,6.333279628139691,6.745236349484363,7.609862200913554,10.406744606802166,5.3230099791384085,5.7430031878094825,9.31982238259318,5.697093486505405,1.0986122886681098,6.152732694704104,7.157735484249907,5.8805329864007,8.295798110636145,8.36264243156764,5.66988092298052,9.474625866621567,5.159055299214529,6.63200177739563,7.532623618788788,6.882437470997847,5.631211781821365,5.762051382780177,5.1298987149230735,9.408125088823502,4.127134385045092,4.143134726391533,5.846438775057725,4.955827057601261,6.927557906278317,11.3931729912432,8.207401833376355,6.437751649736401,5.337538079701318,5.153291594497779,6.063785208687608,5.69035945432406,5.5134287461649825,4.61512051684126,5.0106352940962555,8.629628620746026,7.27931883541462,7.615298339825815,7.5443321080536885,7.603897968521881,5.755742213586912,7.8168199657645525,4.343805421853684,5.5093883366279774,6.858565034791365,8.235360643753348,9.258654232254733,6.704414354964107,4.976733742420574,4.997212273764115,7.965545573129992,5.4116460518550396,6.395261598115449,8.25712628599743,6.569481420414296,6.2285110035911835,9.562264046489428,7.222566018822171,2.302585092994046,4.07753744390572,5.476463551931511,4.5217885770490405,4.127134385045092,4.532599493153256,5.459585514144159,7.487173694213739,4.477336814478207,5.976350909297934,5.043425116919247,5.752572638825633,6.364750756851911,8.67214355141406,4.23410650459726,9.551444720923957,4.969813299576001,7.028201432058005,6.385194398997726,8.754791763700032,5.220355825078324,5.846438775057725,5.159055299214529,5.170483995038151,5.198497031265826,10.516562858330515,9.808572294739841,5.840641657373398,3.5263605246161616,7.04141166379481,8.135346948906706,5.176149732573829,4.430816798843313,9.999070422429858,7.4770384723196965,4.0943445622221,9.736251633160215,6.184148890937483,7.947325027016463,5.19295685089021,9.700024071988745,4.762173934797756,9.391661428436555,9.28498391497195,8.1797604936999,7.734121303328305,4.248495242049359,5.713732805509369,4.04305126783455,4.574710978503383,9.222565341598752,6.202535517187923,3.871201010907891,6.113682179832232,9.521421537856195,6.361302477572996,5.62040086571715,4.787491742782046,5.327876168789581,5.659482215759621,4.499809670330265,5.575949103146316,5.075173815233827,6.946013991099227,4.969813299576001,5.66988092298052,4.356708826689592,5.924255797414532,5.817111159963204,7.979338895262328,6.957497370876951,9.163143937145207,5.420534999272286,4.709530201312334,4.77912349311153,3.4011973816621555,6.22455842927536,4.890349128221754,7.088408778675395,8.488587934405903,6.741700694652055,4.290459441148391,7.020190708311925,6.089044875446846,9.983499490505512,9.330520532232288,6.925595197110468,5.991464547107982,5.389071729816501,5.043425116919247,4.844187086458591,7.218176838403408,4.6443908991413725,10.488464718935205,4.820281565605037,5.278114659230517,6.926577033222725,5.198497031265826,4.653960350157523,8.504918160540624,5.730099782973574,5.697093486505405,4.700480365792417,5.497168225293202,9.03145291191651,6.794586580876499,4.997212273764115,6.376726947898627,4.276666119016055,4.430816798843313,4.6913478822291435,6.336825731146441,9.049349685884057,6.354370040797351,7.531552381407289,5.84354441703136,4.969813299576001,9.32188174670909,6.1903154058531475,6.003887067106539,8.33423142973486,4.430816798843313,7.580699752224563,4.343805421853684,4.5217885770490405,8.73681053295389,4.127134385045092,4.02535169073515,7.8156105320351905,9.581006974541651,6.440946540632921,9.318297513481275,8.297792626380861,6.280395838960195,8.31898612539206,9.320270431348378,6.298949246855942,4.770684624465665,3.332204510175204,7.753194269884341,5.455321115357702,5.241747015059643,5.25227342804663,4.605170185988092,8.151044945685024,5.5093883366279774,8.677609912822142,8.963032193662675,7.433666540166168,4.955827057601261,6.610696044717759,5.0238805208462765,10.490774092396565,7.591357046698551,8.815221555922163,4.454347296253507,4.290459441148391,9.749053499229063,3.9889840465642745,5.749392985908253,5.659482215759621,4.736198448394496,6.285998094508865,3.6375861597263857,6.688354713946762,6.48768401848461,6.29156913955832,8.22121009392507,9.95208722237219,8.204945165019208],\"x\":{\"__ndarray__\":\"XDZTwRku1j/ZK4zBLysdwXUy5D8ZQz3Bki/uP/UE/ECiOoI/E78pQQELJUFNGY7B/yNsv0R0KUCTx73A7SY/QdaYi8H/qB/B/4ekwOIRAcEq+AdATU80Qa2210Dtxtw/S2+DwGdFib/ZQehAmaTLwMtFKcHGHrTAXnTVwJ9ITEBsYYPBA0sEQYFLGMGd2W/BZMITQOD7yz7UaShBCWKyP8cX8MAniM3AnSCtQFnmesCj8l1A82U2QVfOA8ERPgXBl3OgwNuJDz9vNOtAIDiuP48BUcHmx0fAFAsGv7uIJMEirQDB1RMFwZ4YskBFe4LBrwR8QaVxD0Gqko7BEhsjvu5clr48U3w/kC0JwXc5iMB3oSLAb+AZQbEyHkHNhr1AW5oJQb0Q0cD21nO/aFhiwe239L5UzVtAsEi8wKA3/MB2xTG/q8oqwYqGKUC3izZA4dIewU/mBEGOK7xARaicwJBxgcBm61VAWtYnwYbRA0GHNexA1pvqP2+FPsEBb0BB0666wNAHQ8HEe9VABZwjQHuxBUHoJY7AZjlEwWyk68D963hBCXhHQWWpj8GMsxZB6XUXweqHnsCiDRZBPtk5v1O9JkEx0VfA0bZZwQBjgcETqEDA0R1ZQCDbrD9MYZfAjDdGQajFCMGHYlm/OjA6wamqXMAHuj5BvY9bwFdGb8HPRy5AJLI/PuG99T+ByVBA/2IdQdu8cz5uYCnBWLyOPyh9rb2NbDPBOgn/wBJbuD4djCbB3XYvwQwDEkBq2zLB9gpMQE4V9cCM4M9AvzgdQYmgN8G6hvpAnLQkwd1hJcBNKn0+2wQIvyy+38CRv4Y9wUAhwEgOQ0H7818/Rkc8wGekKsB/5F9BH+UDQN6tusBiDlNAWpRSwTTaWL/fFb/AO5elP4SiWEDP2fdAgNKGwLOQSEFPi1rA/yRkQe1fpD6LF+g/1XkRwXyiZj89RdzAzW01P8+0xcAhpBFBv6wyQUKuN74kuR/BzWx8P1IKuEAGhVrB9TkJwO+Kg8DicN7A7TUbQegyGsE2Kha+2GE8wHSUg0FvEjRB2zIMQRm8HsD0ulbBm8pBQQwxNUHoVde+bq/rwIHzM0H7D+XA2lVhweNxE8HkvURAjmAsQRlpQUEpXpy/rp3/wMGxh8BmltpAm1zfP/Pp/z5bohhBj3KGQIMEnsDWDSnAZ85PQaGlD8HeGjbBLoEgQcOEaz9+2iDBjkzwvwC8ukBNnRLB1T8xv7cLDEDJlSxBzMpowav90D/8nCjBxEk1wAptN8CXUzdB9UFcwRCI8kAjOUnBtBU0wODRLUEyyxTBpwESP0zU60AWs1tAb3C9QOm6WEE+zhbBe3vAQFH9HEHp0nBAJZ02wRxJyz87QAPBY+5WQT653ECxaDRBZtmcwOPBtcCYGYVA+iMWwT1PRMCZjlnAapmEQCJXOsGgZtm/pXGoQOSlXsG8rcxAsffTQO1dqsDFpwXBPaxhwfemlUAbQ6lAeYY3wI+fK8DnW6dAvxFZwA==\",\"dtype\":\"float32\",\"shape\":[283]},\"y\":{\"__ndarray__\":\"9r39v7NnbUCLDUy/F+Ptv7faj0GDVCjB/DdzwOvLYEDbIc4/wAH+QFenBMHSi/S/ceGzwKJyhUCF5Oa/O4nlwCFFIj9UU6LBuZSiQHFZPMDC8TFBcMYOP0KSV0C8x7pA8nvnwJ/5f0F7UzZBcCFmv0lXR8B1frLA3AKMwJqtlcCrlEE/QUx4QGPyEkE+MRi/RWMfQI/J4MAim8zAhk0SwRHPrUBV6BPBPVE8wQ9b2cBg4gfAwcUcwbKnxsBvQvdAUcYeQL3i9cDHP5I/4dLZwK/ELcH2RJXBY+ZJwCUO+UDJFrtAGDIJQcr4vsCyEMLAxdM6QO3Gw7/ScYS/vUcFQCgLyb+eNw9BL4YSQUgVLEFRT4zA0LISQW4640CqO49BsVqPwKs3u79CnS/B74iiwKhtM7+WkofBnWKLP+bEg8B6HobAZ44LQZ5EDUHuEjpBH8CTwJofmr63NI9B/rATPqdVM0EqsARA9joTQewCmkD8PiJBK9MAQPgz/T41Yda++1aUQU/6sj9VKQzAGP0hQak+J0Bn9CnBUUArwZbCz8D3jkJAisPqQEMgqr0yQexAbRDsQAWPL8FgntxAJb0rwB42N0GFd25BBaGvwOyLpb7AGShAmDqKwf78Q0Gvexk+9ZhuQFP6QMCyfN7A66ONwCpAzsB5RSxAHSnjvrCoXMAVjoxBlKkSwDUb2kDGipjAO30TvoHfqMB+gr4/K7q8wIpx9EA1jz7Ag30TQc2LOMGnCkdAuGHiwH/tF0E2EhVB5++8P799wb4nx60/iMEUQAfolcAKZyTAPMlVQO1N/j/qeYXActwQwdDdWMHKfi7B66iiv6pi+UAc8FvA2T+dwRKviMG28Fu/9ngEwMFilEGiPYlBOJyowOmj6T/Y6C7B2d/UwM+bicE7/O9AQXUAwN7XYkAIaRnB+TK4QL2/hkHdF+xA4Z2jwHlxSz+imFrBfvsewe+h90B0eaA/qvVWvr5FH8H4WqLB0i0/QSDkesBqnz0/53+XwX4jisBb1CnBSUUgQXhUGkHcvSdBQMmfwRREIkAyJvbAkBGjwMUhu7+p/4K/oKhCvmPUJEArLXZABNY8vonMtkCROWdAc1siwd7jdsHDjCZBloWBQE4EMMCSZy4+TBkuwUv/iMFXvOFAGpUoQUPaJUCOw65AnMerQDWWh0D8a4jBTA0bPx7X08DRnx7Bv04qQVlvlEAlvUO+tXgawGM7IT+3rytBmAzRwDoNOkHQZENB9CAewWSYjUE01S9BP8BGQcg+l8EwCzDATTLRwBx3u0CAkDvBBwFJwJZ2A8FqzglBTfc/wTGmH0A4aopBh0zIv2YKGEEL556/DL5YQBNCm0Dv+hTAkDHRPzHv6r83cPU/4E4XQZuGCEBEZRnBVZuDwfyXbcCo/ePAuVN4wRl/lD5ftOtABssQwQiIt7/AfLRAymKZQDdyT0B7vSjBOYT+wEx4gcD5ARzBVTWLQLzA9cDDAJtAtEOJQM74nj8+oRnBGtvrQA==\",\"dtype\":\"float32\",\"shape\":[283]}},\"selected\":{\"id\":\"2003\"},\"selection_policy\":{\"id\":\"2002\"}},\"id\":\"1926\",\"type\":\"ColumnDataSource\"},{\"attributes\":{\"source\":{\"id\":\"1926\"}},\"id\":\"1960\",\"type\":\"CDSView\"},{\"attributes\":{},\"id\":\"2000\",\"type\":\"BasicTickFormatter\"},{\"attributes\":{\"axis\":{\"id\":\"1942\"},\"dimension\":1,\"ticker\":null},\"id\":\"1945\",\"type\":\"Grid\"},{\"attributes\":{\"axis_label\":\"Dim. 2\",\"formatter\":{\"id\":\"1998\"},\"ticker\":{\"id\":\"1943\"}},\"id\":\"1942\",\"type\":\"LinearAxis\"},{\"attributes\":{},\"id\":\"1943\",\"type\":\"BasicTicker\"},{\"attributes\":{\"active_drag\":\"auto\",\"active_inspect\":\"auto\",\"active_multi\":null,\"active_scroll\":\"auto\",\"active_tap\":\"auto\",\"tools\":[{\"id\":\"1946\"},{\"id\":\"1947\"},{\"id\":\"1948\"},{\"id\":\"1949\"}]},\"id\":\"1950\",\"type\":\"Toolbar\"},{\"attributes\":{},\"id\":\"1947\",\"type\":\"PanTool\"},{\"attributes\":{},\"id\":\"1949\",\"type\":\"SaveTool\"},{\"attributes\":{},\"id\":\"1948\",\"type\":\"WheelZoomTool\"}],\"root_ids\":[\"1927\"]},\"title\":\"Bokeh Application\",\"version\":\"2.0.1\"}};\n",
       "  var render_items = [{\"docid\":\"957160a8-1748-4039-a1a5-bdf37d589af5\",\"root_ids\":[\"1927\"],\"roots\":{\"1927\":\"12e150d2-c860-4356-89e4-5f22aae5f1ff\"}}];\n",
       "  root.Bokeh.embed.embed_items_notebook(docs_json, render_items);\n",
       "\n",
       "  }\n",
       "  if (root.Bokeh !== undefined) {\n",
       "    embed_document(root);\n",
       "  } else {\n",
       "    var attempts = 0;\n",
       "    var timer = setInterval(function(root) {\n",
       "      if (root.Bokeh !== undefined) {\n",
       "        clearInterval(timer);\n",
       "        embed_document(root);\n",
       "      } else {\n",
       "        attempts++;\n",
       "        if (attempts > 100) {\n",
       "          clearInterval(timer);\n",
       "          console.log(\"Bokeh: ERROR: Unable to run BokehJS code because BokehJS library is missing\");\n",
       "        }\n",
       "      }\n",
       "    }, 10, root)\n",
       "  }\n",
       "})(window);"
      ],
      "application/vnd.bokehjs_exec.v0+json": ""
     },
     "metadata": {
      "application/vnd.bokehjs_exec.v0+json": {
       "id": "1927"
      }
     },
     "output_type": "display_data"
    }
   ],
   "source": [
    "source = ColumnDataSource(data_dict)\n",
    "\n",
    "p = figure(\n",
    "    tools=\"hover,pan,wheel_zoom,save\",\n",
    "    toolbar_location=\"above\",\n",
    "    title=fig_title,\n",
    "    plot_width=800, plot_height=800,\n",
    ")\n",
    "\n",
    "from bokeh.models import Label\n",
    "for x, y, title in zip(data_dict['x'], data_dict['y'], data_dict['Title']):\n",
    "    if 'reynaerde' in title.lower():\n",
    "        p.add_layout(Label(x=x, y=y, text=title,\n",
    "                           text_align=\"center\", text_font_size=\"10pt\"))\n",
    "\n",
    "p.circle('x', 'y', source=source,\n",
    "          fill_color='color', fill_alpha=1,\n",
    "          line_color='grey', size='loglen')\n",
    "\n",
    "\n",
    "p.xaxis.axis_label = x_label\n",
    "p.yaxis.axis_label = y_label\n",
    "\n",
    "p.hover.tooltips = [(\"Title\", \"@Title\"),\n",
    "                    (\"Author\", \"@Author\"),\n",
    "                    (\"Date\", \"@Date\")]\n",
    "\n",
    "show(p)\n",
    "output_file(\"../output/pca.html\")"
   ]
  },
  {
   "cell_type": "markdown",
   "metadata": {},
   "source": [
    "We krijgen mooi de driehoek van Petersen: lyriek vs epiek vs dramatiek."
   ]
  },
  {
   "cell_type": "markdown",
   "metadata": {},
   "source": [
    "## TSNE (on top of PCA)"
   ]
  },
  {
   "cell_type": "code",
   "execution_count": 23,
   "metadata": {},
   "outputs": [
    {
     "name": "stdout",
     "output_type": "stream",
     "text": [
      "(283, 30)\n"
     ]
    }
   ],
   "source": [
    "pca = PCA(30)\n",
    "X_pca = pca.fit_transform(X)\n",
    "print(X_pca.shape)"
   ]
  },
  {
   "cell_type": "code",
   "execution_count": 24,
   "metadata": {},
   "outputs": [
    {
     "name": "stdout",
     "output_type": "stream",
     "text": [
      "(283, 2)\n"
     ]
    }
   ],
   "source": [
    "tsne = TSNE(2)\n",
    "X_tsne = tsne.fit_transform(X_pca)\n",
    "print(X_tsne.shape)"
   ]
  },
  {
   "cell_type": "code",
   "execution_count": 25,
   "metadata": {},
   "outputs": [],
   "source": [
    "clust = AgglomerativeClustering(num_clust)\n",
    "labels = clust.fit_predict(X_tsne)"
   ]
  },
  {
   "cell_type": "code",
   "execution_count": 26,
   "metadata": {},
   "outputs": [],
   "source": [
    "colors = [Accent[num_clust][i] for i in labels]"
   ]
  },
  {
   "cell_type": "code",
   "execution_count": 27,
   "metadata": {},
   "outputs": [],
   "source": [
    "data_dict = {'x': X_tsne[:, 0],\n",
    "             'y': X_tsne[:, 1],\n",
    "             'color': colors,\n",
    "             'Title': [d['title'] for d in metadata],\n",
    "             'Author': [d['author'] for d in metadata],\n",
    "             'Date': [d['date'] for d in metadata],\n",
    "             'Length': [d['size'] for d in metadata],\n",
    "             'loglen': [np.log(d['size']) for d in metadata],\n",
    "}\n",
    "data_df = pd.DataFrame(data_dict)\n",
    "\n",
    "x_label = \"Dim. 1\"\n",
    "y_label = \"Dim. 2\"\n",
    "fig_title = \"Cd-rom Middelnederlands (rijm)\""
   ]
  },
  {
   "cell_type": "code",
   "execution_count": 28,
   "metadata": {},
   "outputs": [
    {
     "data": {
      "text/html": [
       "\n",
       "\n",
       "\n",
       "\n",
       "\n",
       "\n",
       "  <div class=\"bk-root\" id=\"3fb079c5-15f7-4d42-85c7-568eb429993f\" data-root-id=\"2139\"></div>\n"
      ]
     },
     "metadata": {},
     "output_type": "display_data"
    },
    {
     "data": {
      "application/javascript": [
       "(function(root) {\n",
       "  function embed_document(root) {\n",
       "    \n",
       "  var docs_json = {\"180fac99-6c61-4a0c-b062-ada70c9c14d7\":{\"roots\":{\"references\":[{\"attributes\":{\"below\":[{\"id\":\"2150\"}],\"center\":[{\"id\":\"2153\"},{\"id\":\"2157\"},{\"id\":\"2167\"}],\"left\":[{\"id\":\"2154\"}],\"plot_height\":800,\"plot_width\":800,\"renderers\":[{\"id\":\"2171\"}],\"title\":{\"id\":\"2140\"},\"toolbar\":{\"id\":\"2162\"},\"toolbar_location\":\"above\",\"x_range\":{\"id\":\"2142\"},\"x_scale\":{\"id\":\"2146\"},\"y_range\":{\"id\":\"2144\"},\"y_scale\":{\"id\":\"2148\"}},\"id\":\"2139\",\"subtype\":\"Figure\",\"type\":\"Plot\"},{\"attributes\":{\"data_source\":{\"id\":\"2138\"},\"glyph\":{\"id\":\"2169\"},\"hover_glyph\":null,\"muted_glyph\":null,\"nonselection_glyph\":{\"id\":\"2170\"},\"selection_glyph\":null,\"view\":{\"id\":\"2172\"}},\"id\":\"2171\",\"type\":\"GlyphRenderer\"},{\"attributes\":{\"source\":{\"id\":\"2138\"}},\"id\":\"2172\",\"type\":\"CDSView\"},{\"attributes\":{},\"id\":\"2148\",\"type\":\"LinearScale\"},{\"attributes\":{\"axis_label\":\"Dim. 1\",\"formatter\":{\"id\":\"2219\"},\"ticker\":{\"id\":\"2151\"}},\"id\":\"2150\",\"type\":\"LinearAxis\"},{\"attributes\":{\"text\":\"Van den vos Reynaerde\",\"text_align\":\"center\",\"text_font_size\":\"10pt\",\"x\":-4.672264099121094,\"y\":5.986391544342041},\"id\":\"2167\",\"type\":\"Label\"},{\"attributes\":{\"text\":\"Cd-rom Middelnederlands (rijm)\"},\"id\":\"2140\",\"type\":\"Title\"},{\"attributes\":{},\"id\":\"2142\",\"type\":\"DataRange1d\"},{\"attributes\":{\"data\":{\"Author\":[\"Onbekend\",\"Onbekend\",\"Onbekend\",\"Onbekend\",\"Lambertus Goetman\",\"Onbekend\",\"Philip Utenbroeke\",\"Lodewijk van Velthem\",\"Onbekend\",\"Jacob van Maerlant\",\"Onbekend\",\"Onbekend\",\"Lodewijk van Velthem\",\"Onbekend\",\"Calfstaf en Noydekin(?)\",\"Onbekend\",\"Onbekend\",\"Onbekend\",\"Lodewijk van Velthem\",\"Loy Latewaert\",\"Onbekend\",\"Onbekend\",\"Jacob van Maerlant\",\"Heinriic\",\"Onbekend\",\"Onbekend\",\"Onbekend\",\"Onbekend\",\"Onbekend\",\"Onbekend\",\"Onbekend\",\"Philip Utenbroeke\",\"Onbekend\",\"Lodewijk van Velthem\",\"Onbekend\",\"Onbekend\",\"Hein van Aken\",\"Lodewijk van Velthem\",\"Onbekend\",\"Heraut Beyeren\",\"Lodewijk van Velthem\",\"Onbekend\",\"Onbekend\",\"Onbekend\",\"Onbekend\",\"Jacob van Maerlant\",\"Onbekend\",\"Onbekend\",\"Clays van Haerlem\",\"Lodewijk van Velthem\",\"Onbekend\",\"Lodewijk van Velthem\",\"Onbekend\",\"Jan van Boendale\",\"Philip Utenbroeke\",\"Lodewijk van Velthem\",\"Lodewijk van Velthem\",\"Onbekend\",\"Onbekend\",\"Onbekend\",\"Onbekend\",\"Onbekend\",\"Onbekend\",\"Diederic van Assenede\",\"Onbekend\",\"Hein van Aken\",\"Onbekend\",\"Onbekend\",\"Onbekend\",\"Jan de Weert\",\"Jacob van Maerlant\",\"Niet van toepassing\",\"Jacob van Maerlant(?)\",\"Onbekend\",\"Onbekend\",\"Onbekend\",\"Onbekend\",\"Onbekend\",\"Onbekend\",\"Onbekend\",\"Jacob van Maerlant\",\"Onbekend\",\"Onbekend\",\"Onbekend\",\"Onbekend\",\"Onbekend\",\"Niet van toepassing\",\"Onbekend\",\"Onbekend\",\"Onbekend\",\"Onbekend\",\"Gielijs van Molhem\",\"Onbekend\",\"Onbekend\",\"Onbekend\",\"Augustijnken\",\"Niet van toepassing\",\"Onbekend\",\"Jacob van Maerlant\",\"Onbekend\",\"Onbekend\",\"Jacob van Maerlant\",\"Onbekend\",\"Onbekend\",\"Onbekend\",\"Hadewijch\",\"Onbekend\",\"Jacob van Maerlant\",\"Jacob van Maerlant\",\"Onbekend\",\"Jacob van Maerlant\",\"Jacob van Maerlant\",\"Niet van toepassing\",\"Onbekend\",\"Onbekend\",\"Onbekend\",\"Onbekend\",\"Onbekend\",\"Onbekend\",\"Onbekend\",\"Onbekend\",\"Onbekend\",\"Lodewijk van Velthem\",\"Onbekend\",\"Onbekend\",\"Onbekend\",\"Onbekend\",\"Onbekend\",\"Niet van toepassing\",\"Philip Utenbroeke\",\"Onbekend\",\"Philip Utenbroeke\",\"Onbekend\",\"Lodewijk van Velthem\",\"Onbekend\",\"Lodewijk van Velthem\",\"Onbekend\",\"Onbekend\",\"Onbekend\",\"Onbekend\",\"Onbekend\",\"Onbekend\",\"Onbekend\",\"Onbekend\",\"Onbekend\",\"Onbekend\",\"Jan van Boendale\",\"Onbekend\",\"Onbekend\",\"Onbekend\",\"Onbekend\",\"Onbekend\",\"Philip Utenbroeke\",\"Jan van Boendale\",\"Onbekend\",\"Onbekend\",\"Onbekend\",\"Hadewijch\",\"Onbekend\",\"Onbekend\",\"Onbekend\",\"Onbekend\",\"Onbekend\",\"Niet van toepassing\",\"Onbekend\",\"Onbekend\",\"Onbekend\",\"Melis Stoke\",\"Lodewijk van Velthem\",\"Onbekend\",\"Jacob van Maerlant?\",\"Philip Utenbroeke\",\"Onbekend\",\"Onbekend\",\"Onbekend\",\"Onbekend\",\"Onbekend\",\"Onbekend\",\"Onbekend\",\"Onbekend\",\"Jan van Boendale\",\"Jacob van Maerlant\",\"Jan de Weert\",\"Augustijnken\",\"Jan van Heelu\",\"Onbekend\",\"Onbekend\",\"Onbekend\",\"Onbekend\",\"Onbekend\",\"Onbekend\",\"Onbekend\",\"Jan Praet\",\"Onbekend\",\"Jacob van Maerlant(?)\",\"Onbekend\",\"Onbekend\",\"Willem van Hildegaersberch\",\"Onbekend\",\"Onbekend\",\"Onbekend\",\"Onbekend\",\"Onbekend\",\"Philip Utenbroeke\",\"Onbekend\",\"Jacob van Maerlant(?)\",\"Jacob van Maerlant\",\"Onbekend\",\"Onbekend\",\"Onbekend\",\"Onbekend\",\"Onbekend\",\"Onbekend\",\"Onbekend\",\"Onbekend\",\"Onbekend\",\"Onbekend\",\"Onbekend\",\"Hein van Aken(?)\",\"Onbekend\",\"Lodewijk van Velthem\",\"Onbekend\",\"Augustijnken\",\"Onbekend\",\"Onbekend\",\"Niet van toepassing\",\"Onbekend\",\"Onbekend\",\"Onbekend\",\"Onbekend\",\"Penninc en Pieter Vostaert\",\"Lodewijk van Velthem\",\"Onbekend\",\"Niet van toepassing\",\"Onbekend\",\"Niet van toepassing\",\"Onbekend\",\"Onbekend\",\"Hendrik van Veldeke\",\"Onbekend\",\"Onbekend\",\"Onbekend\",\"Onbekend\",\"Onbekend\",\"Dirc Potter\",\"Onbekend\",\"Onbekend\",\"Jan van Boendale\",\"Niet van toepassing\",\"Jacob van Maerlant\",\"Onbekend\",\"Onbekend\",\"Onbekend\",\"Jacob van Maerlant\",\"Onbekend\",\"Onbekend\",\"Onbekend\",\"Willem\",\"Onbekend\",\"Jan van Boendale\",\"Onbekend\",\"Onbekend\",\"<UNK>\",\"<UNK>\",\"<UNK>\",\"<UNK>\",\"<UNK>\",\"<UNK>\",\"<UNK>\",\"<UNK>\",\"<UNK>\",\"<UNK>\",\"<UNK>\",\"<UNK>\",\"<UNK>\",\"<UNK>\",\"<UNK>\",\"<UNK>\",\"<UNK>\",\"<UNK>\",\"<UNK>\",\"<UNK>\",\"<UNK>\"],\"Date\":[\"1375-1400\",\"1400-1420\",\"1350-1400\",\"1350-1400\",\"1510-1520\",\"1375-1400\",\"1325-1350\",\"1390-1410\",\"1340-1360\",\"1380-1425\",\"1400-1500\",\"1350-1400\",\"1315-1335\",\"1390-1410\",\"1340-1360\",\"1470-1490\",\"1350-1400\",\"1390-1410\",\"1300-1325\",\"1412-1415\",\"1400-1420\",\"1400-1420\",\"1374-1374\",\"1340-1360\",\"1340-1360\",\"1440-1460\",\"1339-1339\",\"1340-1360\",\"1300-1400\",\"1300-1400\",\"1340-1360\",\"1390-1410\",\"1340-1360\",\"1390-1410\",\"1300-1350\",\"1350-1400\",\"1300-1350\",\"1390-1410\",\"1440-1450\",\"1400-1420\",\"1300-1350\",\"1350-1400\",\"1200-1250\",\"1340-1360\",\"1500-1520\",\"1465-1485\",\"1300-1400\",\"1300-1350\",\"1300-1350\",\"1390-1410\",\"1374-1374\",\"1390-1410\",\"1339-1339\",\"1435-1455\",\"1393-1402\",\"1350-1400\",\"1350-1400\",\"1300-1350\",\"1390-1410\",\"1375-1400\",\"1440-1460\",\"1340-1360\",\"1375-1400\",\"1340-1360\",\"1340-1360\",\"1390-1410\",\"1300-1350\",\"1375-1425\",\"1457-1500\",\"1380-1425\",\"1380-1425\",\"1551-1551\",\"1300-1400\",\"1350-1400\",\"1800-1820\",\"1300-1350\",\"1340-1360\",\"1300-1400\",\"1300-1350\",\"1375-1400\",\"1300-1325\",\"1300-1350\",\"1400-1420\",\"1400-1420\",\"1350-1375\",\"1300-1400\",\"1551-1551\",\"1340-1360\",\"1375-1400\",\"1340-1360\",\"1300-1350\",\"1390-1410\",\"1300-1400\",\"1300-1350\",\"1340-1360\",\"1400-1420\",\"1400-1425\",\"1300-1400\",\"1339-1339\",\"1400-1420\",\"1390-1410\",\"1300-1350\",\"1375-1400\",\"1350-1400\",\"1300-1320\",\"1340-1360\",\"1340-1360\",\"1380-1425\",\"1300-1350\",\"1460-1470\",\"1380-1425\",\"1390-1410\",\"1350-1400\",\"1350-1400\",\"1300-1350\",\"1340-1360\",\"1290-1310\",\"1350-1400\",\"1400-1420\",\"1350-1375\",\"1405-1405\",\"1375-1400\",\"1315-1350\",\"1300-1400\",\"1340-1360\",\"1440-1460\",\"1300-1350\",\"1340-1360\",\"1539-1539\",\"1300-1350\",\"1400-1420\",\"1390-1410\",\"1400-1420\",\"1315-1350\",\"1340-1360\",\"1393-1402\",\"1495-1515\",\"1300-1400\",\"1300-1350\",\"1460-1480\",\"1340-1360\",\"1300-1325\",\"1400-1420\",\"1300-1350\",\"1300-1350\",\"1300-1325\",\"1340-1360\",\"1400-1429\",\"1350-1400\",\"1440-1460\",\"1350-1375\",\"1290-1310\",\"1315-1350\",\"1460-1480\",\"1300-1400\",\"1432-1432\",\"1340-1360\",\"1340-1360\",\"1380-1425\",\"1490-1510\",\"1570-1590\",\"1400-1420\",\"1350-1400\",\"1390-1410\",\"1480-1500\",\"1300-1350\",\"1340-1360\",\"1365-1385\",\"1390-1410\",\"1350-1400\",\"1400-1450\",\"1300-1325\",\"1405-1405\",\"1300-1350\",\"1400-1450\",\"1500-1520\",\"1374-1374\",\"1375-1400\",\"1340-1360\",\"1300-1400\",\"1399-1410\",\"1300-1350\",\"1400-1420\",\"1400-1420\",\"1430-1450\",\"1350-1400\",\"1400-1420\",\"1390-1410\",\"1300-1400\",\"1475-1500\",\"1375-1400\",\"1340-1360\",\"1440-1460\",\"1300-1350\",\"1339-1339\",\"1490-1510\",\"1434-1436\",\"1470-1490\",\"1375-1400\",\"1300-1350\",\"1340-1360\",\"1400-1420\",\"1340-1360\",\"1350-1400\",\"1486-1488\",\"1339-1339\",\"1415-1435\",\"1300-1400\",\"1440-1460\",\"1400-1420\",\"1350-1400\",\"1350-1400\",\"1438-1438\",\"1340-1360\",\"1490-1530\",\"1390-1410\",\"1400-1420\",\"1350-1400\",\"1390-1400\",\"1290-1310\",\"1300-1325\",\"1475-1500\",\"1400-1420\",\"1375-1400\",\"1350-1400\",\"1350-1400\",\"None-None\",\"1350-1400\",\"1300-1350\",\"1380-1400\",\"1350-1350\",\"1340-1360\",\"1400-1420\",\"1350-1400\",\"1300-1400\",\"1508-1508\",\"1340-1360\",\"1300-1350\",\"1450-1500\",\"1300-1400\",\"1300-1350\",\"1390-1410\",\"1400-1420\",\"1440-1460\",\"1470-1490\",\"1300-1350\",\"1600-1700\",\"1390-1410\",\"1544-1544\",\"1339-1339\",\"1300-1400\",\"1390-1410\",\"1351-1351\",\"1390-1400\",\"None-None\",\"1300-1350\",\"1375-1400\",\"1380-1425\",\"1300-1350\",\"1390-1410\",\"1460-1480\",\"1479-1483\",\"1280-1260\",\"1300-1276\",\"1250-1250\",\"1285-1285\",\"1300-1276\",\"1300-1291\",\"1300-1276\",\"1280-1260\",\"1287-1287\",\"1300-1291\",\"1225-1201\",\"1300-1276\",\"1270-1260\",\"1300-1291\",\"1300-1291\",\"1280-1260\",\"1300-1276\",\"1240-1220\",\"1290-1290\",\"1270-1265\",\"1300-1276\"],\"Length\":[153,1853,430,70,496,2389,71,704,305,338,728,116,27482,1351,1563,236,90,112,88,11525,200,274,2156,21848,200,20,302,5603,140,86,139,604,209,1789,4716,124,14410,568,931,1990,1008,4513,117,343,183,40866,285,396,325,564,6721,563,850,2018,33082,205,312,11157,298,3,470,1284,358,4007,4284,290,13025,174,759,1868,975,279,318,169,12187,62,63,346,142,1020,88714,3668,625,208,173,430,296,248,101,150,5595,1450,2029,1890,2006,316,2482,77,247,952,3772,10495,816,145,148,2880,224,599,3855,713,507,14218,1370,10,59,239,92,62,93,235,1785,88,394,155,315,581,5838,69,14065,144,1128,593,6341,185,346,174,176,181,36922,18189,344,34,1143,3413,177,84,22006,1767,60,16920,485,2828,180,16318,117,11988,10775,3568,2285,70,303,57,97,10123,494,48,452,13649,579,276,120,206,287,90,264,160,1039,144,290,78,374,336,2920,1051,9539,226,111,119,30,505,133,1198,4859,847,73,1119,441,21666,11277,1018,400,219,155,127,1364,104,35899,124,196,1019,181,105,4939,308,298,110,244,8362,893,148,588,72,84,109,565,8513,575,1866,345,144,11180,488,405,4164,84,1960,77,92,6228,62,56,2479,14487,627,11140,4015,534,4101,11162,544,118,28,2329,234,189,191,100,3467,247,5870,7809,1692,142,743,152,35982,1981,6736,86,73,17138,54,314,287,114,537,38,803,657,540,3719,20996,3659],\"Title\":[\"Onge\\u00efdentificeerd (6)\",\"Theophilus\",\"Madelgijs\",\"Roelantslied\",\"Spiegel der jongers\",\"Borchgrave van Couchi\",\"Spiegel historiael (tweede partie)\",\"Spiegel historiael (vierde partie [aandeel Velthem])\",\"Parthonopeus van Bloys\",\"Tweede Martijn\",\"Sinte Kunera\",\"Madelgijs\",\"Spiegel historiael (vijfde partie)\",\"Van Maskeroen\",\"Esopet\",\"Rijmspreuken\",\"Madelgijs\",\"Noch meer van wiven\",\"Spiegel historiael (vierde partie [aandeel Velthem])\",\"Segheliin van Jerusalem\",\"Lippijn\",\"Van ses vaerwen ende twaelf outheyden\",\"Heymelijchede der heymelijcheit\",\"Roman van Limborch\",\"Gwidekijn van Sassen\",\"Spel van Abraham en Sara\",\"Van der manen zeden\",\"Ferguut\",\"Onge\\u00efdentificeerd (4)\",\"Boudewijn van Seborch\",\"Madelgijs\",\"Spiegel historiael (tweede partie)\",\"Madelgijs\",\"Spiegel historiael (vierde partie [aandeel Velthem])\",\"Roman van Moriaen\",\"Madelgijs\",\"Rose\",\"Spiegel historiael (vierde partie [aandeel Velthem])\",\"Ons heren passie\",\"Korte kroniek van Brabant (lange versie)\",\"Merlijn-continuatie\",\"Van den VII Vroeden van binnen Rome\",\"Onge\\u00efdentificeerd (1)\",\"Onge\\u00efdentificeerd (3)\",\"Historie van Gaver Capeel\",\"Historie van Troyen\",\"Valentijn en Nameloos\",\"Roman van Lancelot\",\"Willem van Oringen\",\"Spiegel historiael (vierde partie [aandeel Velthem])\",\"Dietsche doctrinale\",\"Spiegel historiael (vierde partie [aandeel Velthem])\",\"Boec van den houte (berijmde versie)\",\"Van den derden Eduwaert\",\"Spiegel historiael (tweede partie)\",\"Merlijn-continuatie\",\"Merlijn-continuatie\",\"Queeste van den Grale\",\"Leven van Sint Trudo (berijming)\",\"Onge\\u00efdentificeerd (2)\",\"Collectief lunarium III (berijmd)\",\"Bediedenisse van der missen\",\"Madelgijs\",\"Floris ende Blancefloer\",\"Der ystorien bloeme\",\"Van Saladijn\",\"Arturs doet\",\"Beerte metten breden voeten\",\"O crux lignum triumphale\",\"Wapene Rogier\",\"Eerste Martijn\",\"Tvveeste musyck boexken\",\"Lapidarijs\",\"Loyhier en Malaert\",\"Grimbergse oorlog\",\"Roman van Antiochi\\u00eb\",\"Godevaert metten baerde\",\"Roelantslied\",\"Roman van Perchevael\",\"Florigout\",\"Spiegel historiael (eerste partie / derde partie / vierde partie [aandeel Maerlant])\",\"Walewein ende Keye\",\"Vanden winter ende vanden somer\",\"Buskenblazer\",\"Florent ende Durant\",\"Sint Patricius' vagevuur (berijming)\",\"Ierste musyck boexken\",\"Parthonopeus van Bloys\",\"Madelgijs\",\"Roman van Cassamus (lange versie)\",\"Roman van Perchevael\",\"Rinclus\",\"Van smeinscen lede\",\"Roman van Cassamus (verkorte versie)\",\"Renout van Montalbaen\",\"Schepping\",\"Berlijnse liederenhandschrift\",\"Renout van Montalbaen\",\"Van den lande van over zee\",\"Lanseloet van Denemerken\",\"Melibeus\",\"Sinte Franciscus leven\",\"Borchgrave van Couchi\",\"Slag van Crecy\",\"Collectief lunarium I (berijmd)\",\"Mengeldichten I-XVI\",\"Madelgijs\",\"Disputacie van onser Vrouwen ende van den Heilighen Cruce\",\"Roman van Torec\",\"Van den neghen besten (lange versie)\",\"Derde Martijn\",\"Alexanders geesten\",\"Gruuthuse-handschrift (gebeden en allegorische gedichten)\",\"Loyhier en Malaert\",\"Roman van Antiochi\\u00eb\",\"Madelgijs\",\"Parthonopeus van Bloys\",\"Roelantslied\",\"Truwanten\",\"Roman van den riddere metter mouwen\",\"Der vrouwen heimelijcheit\",\"Barlaam en Josaphat\",\"Spiegel historiael (vierde partie [aandeel Velthem])\",\"Ogier van Denemarken\",\"Fierabras\",\"Cyromanchie van den pape van den Hamme\",\"Lantsloot van der Haghedochte\",\"Madelgijs\",\"Devoot ende profitelyck boecxken\",\"Spiegel historiael (tweede partie)\",\"Borchgravinne van Vergi (1)\",\"Spiegel historiael (tweede partie)\",\"Dietsche Lucidarius\",\"Spiegel historiael (vierde partie [aandeel Velthem])\",\"Aubri de Borgengoen\",\"Spiegel historiael (vierde partie [aandeel Velthem])\",\"Roman van Jonathas ende Rosafiere\",\"Ogier van Denemarken\",\"Roman van Lancelot\",\"Brabantsche yeesten (boek 7)\",\"Valentijn en Nameloos\",\"Chanson d'Aspremont\",\"Gloriant\",\"Wrake van Ragisel (verkorte versie)\",\"Roman van Cassamus (lange versie)\",\"Borchgrave van Couchi\",\"Der leken spieghel\",\"Natuurkunde van het geheelal\",\"Madelgijs\",\"Spiegel der sonden (berijming)\",\"Borchgravinne van Vergi (2)\",\"Vlaamse Rose\",\"Spiegel historiael (tweede partie)\",\"Brabantsche yeesten (boek 1-5)\",\"Ogier van Denemarken\",\"Brabantsche yeesten (boek 6)\",\"Roman der Lorreinen\",\"Strofische gedichten (Hadewijch)\",\"Van sente Brandane\",\"Renout van Montalbaen\",\"Vande Hertogen ende Heeren van Brabant\",\"AB recht ende averecht\",\"Madelgijs\",\"Haagse liederenhandschrift\",\"Baghynken van Parys\",\"Roman van Antiochi\\u00eb\",\"Roman van Iechemas\",\"Rijmkroniek van Holland\",\"Spiegel historiael (vierde partie [aandeel Velthem])\",\"Roelantslied\",\"Van ons heren wonden\",\"Spiegel historiael (tweede partie)\",\"Fysionomie (berijmd)\",\"Barlaam en Josaphat\",\"Spel van de Antichrist\",\"Roman van Jonathas ende Rosafiere\",\"Beatrijs\",\"Roman van Saladin\",\"Roman van Florimont\",\"Ogier van Denemarken\",\"Korte kroniek van Brabant (korte versie 1)\",\"Merlijns boec\",\"Nieuwe doctrinael\",\"Sinte Jans ewangelium alsoe 't Augustijnken gheexponeert heeft\",\"Rijmkroniek van Woeringen\",\"Van der wive wonderlijcheit (lange versie)\",\"Hexe\",\"Van ghevene\",\"Roman van Cassant\",\"Roelantslied\",\"Parthonopeus van Bloys\",\"Aiol (2) (Vlaamse Aiol)\",\"Speghel der wijsheit\",\"Lanceloet en het hert met de witte voet\",\"Van den vijf vrouden\",\"Jonathas ende Rosafiere\",\"Cracht der mane I\",\"Gedichten (Willem van Hildegaersberch)\",\"Commentaar op het Hooglied (berijmd)\",\"Roman van Caesar\",\"Renout van Montalbaen\",\"Expositie vanden viere vingheren ende vanden dume\",\"Gedicht over de hemeltekenen\",\"Spiegel historiael (tweede partie)\",\"Karel ende Elegast\",\"Van den verkeerden Martijn\",\"Historie van den grale\",\"Loyhier en Malaert\",\"Spiegel der sonden (berijming)\",\"Esmoreit\",\"Anatomie van de mens\",\"Spiegel der sonden (berijming)\",\"Vanden levene ons heren\",\"Boudewijn van Seborch\",\"Boec Exemplaer\",\"Noch die tien ghebode\",\"Rubben\",\"Parthonopeus van Bloys\",\"Vierde Martijn\",\"Parthonopeus van Bloys\",\"Spiegel historiael (vierde partie [aandeel Velthem])\",\"Van den neghen besten (korte versie)\",\"Vander rijcheit ende vander doot\",\"Florigout\",\"Huge van Bordeeus\",\"Gruuthuse-handschrift (allegorische gedichten)\",\"Borchgrave van Couchi\",\"Flandrijs\",\"Huge van Bordeeus\",\"Onge\\u00efdentificeerd fragment\",\"Roman van Walewein\",\"Spiegel historiael (vierde partie [aandeel Velthem])\",\"Drie daghe here\",\"Gruuthuse-handschrift (liederen)\",\"Loyhier en Malaert\",\"Suverlijc boecxken\",\"Wrake van Ragisel\",\"Frenesie\",\"Sint Servaes legende\",\"Spiegel der sonden (berijming)\",\"Godevaerts kintshede\",\"Tien plaghen ende die tien ghebode\",\"Spieghel der menscheliker behoudenesse\",\"Flovent\",\"Der minnen loep\",\"Roman van den riddere metter mouwen (verkorte versie)\",\"Beginsel der oorlogen van Luyck\",\"Jans teesteye\",\"Antwerps liedboek\",\"Clausule vander bible\",\"Minnedichten 2\",\"Noch van Salladine\",\"Der mannen ende vrouwen heimelijcheit\",\"Der kerken claghe\",\"Jan Splinters testament\",\"Geraert van Viane\",\"Lion van Bourges\",\"Van den vos Reynaerde\",\"Minnedichten 1\",\"Boec vander wraken\",\"Reinaerts historie\",\"Dystorie van Saladine\",\"Brabantse vertaling van het Nibelungenlied\",\"Perchevael\",\"Tristant\",\"Corpus II-3 Rijmbijbel\",\"Sinte Kerstine\",\"Luiks Diatessaron\",\"Reinout van Montalbaen\",\"Reinaert G\",\"Der naturen bloeme, handschrift D\",\"Alexiuslegende\",\"Floyris ende Blantseflur\",\"Reinaert E\",\"Boeve van Hamtone\",\"Wisselau\",\"Minnedichten uit Ter Doest\",\"Wrake van Ragisel\",\"Der naturen bloeme, handschrift M\",\"Aiol\",\"Enaamse Codex\",\"Corpus II-5 Lutgard K\",\"Sinte Lutgart, handschrift A\"],\"color\":[\"#7fc97f\",\"#fdc086\",\"#7fc97f\",\"#7fc97f\",\"#ffff99\",\"#ffff99\",\"#fdc086\",\"#beaed4\",\"#f0027f\",\"#beaed4\",\"#ffff99\",\"#7fc97f\",\"#fdc086\",\"#fdc086\",\"#7fc97f\",\"#ffff99\",\"#7fc97f\",\"#beaed4\",\"#fdc086\",\"#ffff99\",\"#f0027f\",\"#beaed4\",\"#beaed4\",\"#f0027f\",\"#fdc086\",\"#ffff99\",\"#beaed4\",\"#7fc97f\",\"#7fc97f\",\"#7fc97f\",\"#7fc97f\",\"#fdc086\",\"#ffff99\",\"#beaed4\",\"#f0027f\",\"#7fc97f\",\"#f0027f\",\"#fdc086\",\"#ffff99\",\"#fdc086\",\"#fdc086\",\"#386cb0\",\"#7fc97f\",\"#fdc086\",\"#fdc086\",\"#ffff99\",\"#386cb0\",\"#f0027f\",\"#f0027f\",\"#fdc086\",\"#beaed4\",\"#fdc086\",\"#ffff99\",\"#386cb0\",\"#fdc086\",\"#f0027f\",\"#f0027f\",\"#f0027f\",\"#fdc086\",\"#7fc97f\",\"#beaed4\",\"#beaed4\",\"#7fc97f\",\"#fdc086\",\"#fdc086\",\"#f0027f\",\"#f0027f\",\"#ffff99\",\"#fdc086\",\"#beaed4\",\"#beaed4\",\"#ffff99\",\"#ffff99\",\"#7fc97f\",\"#fdc086\",\"#7fc97f\",\"#fdc086\",\"#7fc97f\",\"#7fc97f\",\"#7fc97f\",\"#fdc086\",\"#f0027f\",\"#f0027f\",\"#f0027f\",\"#7fc97f\",\"#beaed4\",\"#ffff99\",\"#7fc97f\",\"#ffff99\",\"#f0027f\",\"#f0027f\",\"#beaed4\",\"#ffff99\",\"#f0027f\",\"#7fc97f\",\"#beaed4\",\"#ffff99\",\"#7fc97f\",\"#beaed4\",\"#f0027f\",\"#beaed4\",\"#386cb0\",\"#ffff99\",\"#fdc086\",\"#beaed4\",\"#beaed4\",\"#beaed4\",\"#beaed4\",\"#f0027f\",\"#386cb0\",\"#beaed4\",\"#fdc086\",\"#beaed4\",\"#7fc97f\",\"#7fc97f\",\"#7fc97f\",\"#7fc97f\",\"#beaed4\",\"#f0027f\",\"#7fc97f\",\"#beaed4\",\"#7fc97f\",\"#fdc086\",\"#7fc97f\",\"#fdc086\",\"#beaed4\",\"#7fc97f\",\"#7fc97f\",\"#ffff99\",\"#fdc086\",\"#f0027f\",\"#fdc086\",\"#beaed4\",\"#fdc086\",\"#386cb0\",\"#fdc086\",\"#fdc086\",\"#7fc97f\",\"#f0027f\",\"#fdc086\",\"#386cb0\",\"#7fc97f\",\"#f0027f\",\"#f0027f\",\"#f0027f\",\"#7fc97f\",\"#beaed4\",\"#beaed4\",\"#7fc97f\",\"#beaed4\",\"#386cb0\",\"#7fc97f\",\"#fdc086\",\"#fdc086\",\"#386cb0\",\"#fdc086\",\"#fdc086\",\"#beaed4\",\"#fdc086\",\"#386cb0\",\"#386cb0\",\"#beaed4\",\"#fdc086\",\"#ffff99\",\"#ffff99\",\"#7fc97f\",\"#fdc086\",\"#386cb0\",\"#fdc086\",\"#beaed4\",\"#beaed4\",\"#7fc97f\",\"#beaed4\",\"#fdc086\",\"#beaed4\",\"#ffff99\",\"#f0027f\",\"#7fc97f\",\"#f0027f\",\"#386cb0\",\"#fdc086\",\"#f0027f\",\"#beaed4\",\"#beaed4\",\"#fdc086\",\"#beaed4\",\"#f0027f\",\"#beaed4\",\"#386cb0\",\"#386cb0\",\"#fdc086\",\"#386cb0\",\"#beaed4\",\"#f0027f\",\"#f0027f\",\"#386cb0\",\"#beaed4\",\"#ffff99\",\"#ffff99\",\"#fdc086\",\"#7fc97f\",\"#beaed4\",\"#beaed4\",\"#fdc086\",\"#7fc97f\",\"#beaed4\",\"#f0027f\",\"#ffff99\",\"#7fc97f\",\"#f0027f\",\"#beaed4\",\"#beaed4\",\"#fdc086\",\"#386cb0\",\"#386cb0\",\"#beaed4\",\"#f0027f\",\"#fdc086\",\"#beaed4\",\"#beaed4\",\"#fdc086\",\"#386cb0\",\"#beaed4\",\"#386cb0\",\"#ffff99\",\"#beaed4\",\"#fdc086\",\"#386cb0\",\"#fdc086\",\"#beaed4\",\"#f0027f\",\"#fdc086\",\"#f0027f\",\"#beaed4\",\"#ffff99\",\"#ffff99\",\"#f0027f\",\"#ffff99\",\"#386cb0\",\"#beaed4\",\"#7fc97f\",\"#beaed4\",\"#ffff99\",\"#fdc086\",\"#ffff99\",\"#f0027f\",\"#fdc086\",\"#beaed4\",\"#ffff99\",\"#beaed4\",\"#ffff99\",\"#7fc97f\",\"#beaed4\",\"#beaed4\",\"#fdc086\",\"#386cb0\",\"#fdc086\",\"#fdc086\",\"#ffff99\",\"#beaed4\",\"#ffff99\",\"#386cb0\",\"#7fc97f\",\"#7fc97f\",\"#7fc97f\",\"#7fc97f\",\"#fdc086\",\"#7fc97f\",\"#7fc97f\",\"#7fc97f\",\"#beaed4\",\"#ffff99\",\"#7fc97f\",\"#7fc97f\",\"#7fc97f\",\"#386cb0\",\"#ffff99\",\"#7fc97f\",\"#beaed4\",\"#7fc97f\",\"#7fc97f\",\"#7fc97f\",\"#fdc086\"],\"loglen\":[5.030437921392435,7.52456122628536,6.063785208687608,4.248495242049359,6.206575926724928,7.77863014732581,4.2626798770413155,6.556778356158042,5.720311776607412,5.823045895483019,6.590301048196686,4.7535901911063645,10.22128652389172,7.208600337960199,7.354362330421477,5.4638318050256105,4.499809670330265,4.718498871295094,4.477336814478207,9.352273867864849,5.298317366548036,5.6131281063880705,7.6760099320288875,9.99186466315354,5.298317366548036,2.995732273553991,5.71042701737487,8.631057447565285,4.941642422609304,4.454347296253507,4.9344739331306915,6.403574197934815,5.342334251964811,7.489412083508719,8.458716261657262,4.820281565605037,9.575677688993569,6.342121418721152,6.836259277277067,7.595889917718538,6.915723448631314,8.414717399827001,4.762173934797756,5.8377304471659395,5.209486152841421,10.618053700469373,5.652489180268651,5.981414211254481,5.783825182329737,6.335054251498059,8.812992231969966,6.333279628139691,6.745236349484363,7.609862200913554,10.406744606802166,5.3230099791384085,5.7430031878094825,9.31982238259318,5.697093486505405,1.0986122886681098,6.152732694704104,7.157735484249907,5.8805329864007,8.295798110636145,8.36264243156764,5.66988092298052,9.474625866621567,5.159055299214529,6.63200177739563,7.532623618788788,6.882437470997847,5.631211781821365,5.762051382780177,5.1298987149230735,9.408125088823502,4.127134385045092,4.143134726391533,5.846438775057725,4.955827057601261,6.927557906278317,11.3931729912432,8.207401833376355,6.437751649736401,5.337538079701318,5.153291594497779,6.063785208687608,5.69035945432406,5.5134287461649825,4.61512051684126,5.0106352940962555,8.629628620746026,7.27931883541462,7.615298339825815,7.5443321080536885,7.603897968521881,5.755742213586912,7.8168199657645525,4.343805421853684,5.5093883366279774,6.858565034791365,8.235360643753348,9.258654232254733,6.704414354964107,4.976733742420574,4.997212273764115,7.965545573129992,5.4116460518550396,6.395261598115449,8.25712628599743,6.569481420414296,6.2285110035911835,9.562264046489428,7.222566018822171,2.302585092994046,4.07753744390572,5.476463551931511,4.5217885770490405,4.127134385045092,4.532599493153256,5.459585514144159,7.487173694213739,4.477336814478207,5.976350909297934,5.043425116919247,5.752572638825633,6.364750756851911,8.67214355141406,4.23410650459726,9.551444720923957,4.969813299576001,7.028201432058005,6.385194398997726,8.754791763700032,5.220355825078324,5.846438775057725,5.159055299214529,5.170483995038151,5.198497031265826,10.516562858330515,9.808572294739841,5.840641657373398,3.5263605246161616,7.04141166379481,8.135346948906706,5.176149732573829,4.430816798843313,9.999070422429858,7.4770384723196965,4.0943445622221,9.736251633160215,6.184148890937483,7.947325027016463,5.19295685089021,9.700024071988745,4.762173934797756,9.391661428436555,9.28498391497195,8.1797604936999,7.734121303328305,4.248495242049359,5.713732805509369,4.04305126783455,4.574710978503383,9.222565341598752,6.202535517187923,3.871201010907891,6.113682179832232,9.521421537856195,6.361302477572996,5.62040086571715,4.787491742782046,5.327876168789581,5.659482215759621,4.499809670330265,5.575949103146316,5.075173815233827,6.946013991099227,4.969813299576001,5.66988092298052,4.356708826689592,5.924255797414532,5.817111159963204,7.979338895262328,6.957497370876951,9.163143937145207,5.420534999272286,4.709530201312334,4.77912349311153,3.4011973816621555,6.22455842927536,4.890349128221754,7.088408778675395,8.488587934405903,6.741700694652055,4.290459441148391,7.020190708311925,6.089044875446846,9.983499490505512,9.330520532232288,6.925595197110468,5.991464547107982,5.389071729816501,5.043425116919247,4.844187086458591,7.218176838403408,4.6443908991413725,10.488464718935205,4.820281565605037,5.278114659230517,6.926577033222725,5.198497031265826,4.653960350157523,8.504918160540624,5.730099782973574,5.697093486505405,4.700480365792417,5.497168225293202,9.03145291191651,6.794586580876499,4.997212273764115,6.376726947898627,4.276666119016055,4.430816798843313,4.6913478822291435,6.336825731146441,9.049349685884057,6.354370040797351,7.531552381407289,5.84354441703136,4.969813299576001,9.32188174670909,6.1903154058531475,6.003887067106539,8.33423142973486,4.430816798843313,7.580699752224563,4.343805421853684,4.5217885770490405,8.73681053295389,4.127134385045092,4.02535169073515,7.8156105320351905,9.581006974541651,6.440946540632921,9.318297513481275,8.297792626380861,6.280395838960195,8.31898612539206,9.320270431348378,6.298949246855942,4.770684624465665,3.332204510175204,7.753194269884341,5.455321115357702,5.241747015059643,5.25227342804663,4.605170185988092,8.151044945685024,5.5093883366279774,8.677609912822142,8.963032193662675,7.433666540166168,4.955827057601261,6.610696044717759,5.0238805208462765,10.490774092396565,7.591357046698551,8.815221555922163,4.454347296253507,4.290459441148391,9.749053499229063,3.9889840465642745,5.749392985908253,5.659482215759621,4.736198448394496,6.285998094508865,3.6375861597263857,6.688354713946762,6.48768401848461,6.29156913955832,8.22121009392507,9.95208722237219,8.204945165019208],\"x\":{\"__ndarray__\":\"4rrowNlmq0CSvmXB6nUAwdDzBr/n7Yq+UB9RwI092UBMOZRAeZdEQfP5z0DIYWjBxsaePhgxxkBsv6/Aox+YQB1NY8GXiUpBzH4eQCispT7Hal5By/PaQKCSnkBdAQdBxUnYP9GjY8C77yNBQ7rDwI9UF8HNVgfBWm5xwOyKCkCMSezA/8DrQFutskDBaUbBwxDCQL7pq75eJ45AKBK0v+P0QsBFqSTBsfSDwQfMzT+D5bXAKoHQQPMo2MBFV9JAeD+nQHQblL/kUKlALEO8PTJN3L6aQTzBxXXZPrOpYkC+MO4/oQzKQIfaI79z003BGLOGQQ+DAkHEJmfB6LFHQE6QTr0rZUVBXivEQIzcvMB0BZi/OHNHQdxJNUFHM9c/j8EGQAKGxcCdn4XA/x40wWTjGr867i7BVHKYwK53MMDK8p4+mq6TQB+2N0F8GWpB+iEjwe54uEAX/tI/jhmowGeOwcAbD/BAgwesQKVtA0GFaT5A3PS1QK0/OMH57rtA8WsDwcT5NcHfYhFB5+BMQclq5kAFcP7AGJptvi2uqsBegYRBOvRPQTcMOkHitTFBs1FiQMZVCcGCDC5B0kNAP5xJa0GtuhvBNDAxwUo6WcHkr6u+JxWUQfr9ZEFMSJjA+WgcQQ84NcD8fXm/72cQwa1Vwz/1XApBlAsmwMgyPsGjMxG/MU2GPoLaGUFUJQJAvgLUQEOVtL8N3R7Bu/+HP2F8iL7DFhrBd7W3QK0vgcCWDfLA15rHwGUrQkF57KVAc+DzQJXEvMCqpZ9AsvwCQdC8F8EnKRpBHZ39wERyaLxKsNW/+7Q0wA/ZU8FYn3DAxqTMv6iTR0EI+ITACs0zwXXfWMHW5atA+hiJwMxVA8G7Uzi/zYY5wU6xH0B1URzBsGGgPif7k0HmoS9BorgswKFtGkEXT95A5uXyQKHa6L+zGCBB58gSwS5WZkApclTBtsAywH8+wkAo/OBAihHEQBapR8BavEpBGB1fQcUOY0FRk07B7sItwW5wDsCuvyrB7phRQWi/nED7QEdBR54wwfTYjEFHZ7JA30wYQLgC3b9HXzTBu/XCQAWfCkE3nXdA/QCuwNU9NEETRNE/bRjtv/27iMGj+UpBrIcdQf5TBkELFodAzwtAwVytSsEHhEpBxEZZQXv1fEBa6RdB3EKRP94IkD+OZlnBEa1WQXuk8MClOFy/nhpdQXsJq0BpyhzBYKFQwEKmgED+H3tA0OHpvpjKX0FIuHZBRaQXwPhuVb/r55pAbpOrwGmhO8GM//RACscawTIKE0EuA40/cC0pwGHTxUAw6p9ASJeIwIIRzUDtOOm+iHYJQSoRcsD5bgHBykmGQIgNFkEFvbLANfUXwXk2hcAwg5XA6Dt4wE7avEDAW9FAMbBMwXm57sDm7lXAO1qIwbxXyL9PkUzAphvtvglU48AeNZfBscUnQLve/cBj23XB4SWXwfqP8sAx+zjBWwIDwcWChMBf/ClA43N6wZKu/75B12/BSZpMwA==\",\"dtype\":\"float32\",\"shape\":[283]},\"y\":{\"__ndarray__\":\"CYalwJYJKEAI06HAJnOlP2KsfcE0Et3AU6eVQHnzHMD4JedAf3EKwDiXYcGejM3AyEvgQMiA1z8oL2XA5y5pwfPSc8A7DTTBOeQOQeAfLsHIJgNB86zEwND8McBvOMlAnQ5zPkU7c8GVMwXBT355wOJzUsAfhlS/twONwHxpPUDMxgXBkAQLwKLFUEEdJ3HA/H7RQOjSBkFWXFbBQDAqQeTC+UBzm95Aom2gP4q8FD9J4XFAA6iAwUdNAUEtJ1pB3S4OQS9rD0ELir+/HN4RQQx3AsGpWG9BHUeeQHaCW0GoSU1BP1RLQTiYh71gFRzBf5NawDZPYcCWa7HAy2ahQEcmf0A+BstAmohCQQObEMHMU1hAq4i5wN6aDcAWdJnBQ+gxwQX5isDLUSJB887fwDww9D97n5E/2naEP+sCkMBoPbhAX1xjQWBS70AdWQdBDLGjwMeticA/TZnBA4EWv1HCGsHteu1A6hFiQfVz1b9N8OjAIPjvQF8ft758v9vA8IuJwWXm3L9xBA5ANTz/QDrU9r4HBrRApJTrwPbo10A5/lXAknxmwKxNZ0B1kL+/MNVNQQgPt0D2see//m+WQPlU28AwGxvBo1D0wFb2mcAz/HnAFq1tQBbqHUGAYd2+pajOwIVStMBjp/RAvWetwISpnD/W6NrAVOM8v5XixsAdQ4fBP21KQOWE2ECd2j1AVTKNwL1yykDWowBBTesJQRBZZEFrw2fAhq87QQwQQUF0jBBBVFFTvj3z+UAQgm1B6S3TQPADucBoJEK/41GcwILG38CnGtA/zTQUQf+VQsCgw6tA7aMaQSuj8kDKMzZB3bopP4SMWsB5WrlAuol+QV0ybkEPagnBQr89QH6bicFuF43BauQCwZLllUA+Y7lAxwERQdp4bUDfLLU+LlZLwN7+1MAz9n9Av6lAP3GtaMGtqudAeIDmv2EI0UAeVvdAwNU0QfQBIUEQmHHAL9bCwKP7KUFmMzTB0fIgQeT0PEBn5KBAccJyQTBdYkCWEK9AQr7KwHf4U0HPBC5BGviBQWFLY8DzZWXBkr04wWfTJz92IUvA57jdwOOG+cBxDFNA6wHEwI5bhsDtYDFBgaUHwcDDaUDfjgpBiTOJwMKaF8Ha4a8/5uSjQGXHVkGGs/U+hcTxQLtCpECFb+C/QDNvwF+v80CsdW5B/WGcvsueJUEzK8bAv9TSwLNOk0BMzH9AJXHPP0ItaL9C5zVB5NbsQLA2DUFEYO3AskQLwaZ9fMG5GSZB5t4ywcNqd0EP6xbBaIoHwWcuC7+GKPbACmsTQFNsZ8ERy0dBrfxHQaKzR7+UoY3BJzA0QJz3PcFlUxNAgXNTwG5wLsD83V9AfeAMQZEVJkCFkL9A6i09wf59Qr8xWn3BbjxIQV1q/b9/Yre/QLVFQJZ3JsAyOIlB5nXRv5zTZsAOgDDAuUqDwBskP8F9jLU/9hwwwC1m2b+Q6XFADghPwaB66L8aTYfAw5hTPylTH8Cb8RM+pDmJQQ==\",\"dtype\":\"float32\",\"shape\":[283]}},\"selected\":{\"id\":\"2222\"},\"selection_policy\":{\"id\":\"2221\"}},\"id\":\"2138\",\"type\":\"ColumnDataSource\"},{\"attributes\":{},\"id\":\"2146\",\"type\":\"LinearScale\"},{\"attributes\":{\"axis\":{\"id\":\"2150\"},\"ticker\":null},\"id\":\"2153\",\"type\":\"Grid\"},{\"attributes\":{},\"id\":\"2159\",\"type\":\"PanTool\"},{\"attributes\":{\"active_drag\":\"auto\",\"active_inspect\":\"auto\",\"active_multi\":null,\"active_scroll\":\"auto\",\"active_tap\":\"auto\",\"tools\":[{\"id\":\"2158\"},{\"id\":\"2159\"},{\"id\":\"2160\"},{\"id\":\"2161\"}]},\"id\":\"2162\",\"type\":\"Toolbar\"},{\"attributes\":{\"fill_alpha\":{\"value\":0.1},\"fill_color\":{\"field\":\"color\"},\"line_alpha\":{\"value\":0.1},\"line_color\":{\"value\":\"grey\"},\"size\":{\"field\":\"loglen\",\"units\":\"screen\"},\"x\":{\"field\":\"x\"},\"y\":{\"field\":\"y\"}},\"id\":\"2170\",\"type\":\"Circle\"},{\"attributes\":{},\"id\":\"2217\",\"type\":\"BasicTickFormatter\"},{\"attributes\":{},\"id\":\"2219\",\"type\":\"BasicTickFormatter\"},{\"attributes\":{},\"id\":\"2155\",\"type\":\"BasicTicker\"},{\"attributes\":{},\"id\":\"2151\",\"type\":\"BasicTicker\"},{\"attributes\":{},\"id\":\"2221\",\"type\":\"UnionRenderers\"},{\"attributes\":{},\"id\":\"2161\",\"type\":\"SaveTool\"},{\"attributes\":{},\"id\":\"2222\",\"type\":\"Selection\"},{\"attributes\":{},\"id\":\"2160\",\"type\":\"WheelZoomTool\"},{\"attributes\":{},\"id\":\"2144\",\"type\":\"DataRange1d\"},{\"attributes\":{\"callback\":null,\"tooltips\":[[\"Title\",\"@Title\"],[\"Author\",\"@Author\"],[\"Date\",\"@Date\"]]},\"id\":\"2158\",\"type\":\"HoverTool\"},{\"attributes\":{\"axis\":{\"id\":\"2154\"},\"dimension\":1,\"ticker\":null},\"id\":\"2157\",\"type\":\"Grid\"},{\"attributes\":{\"fill_color\":{\"field\":\"color\"},\"line_color\":{\"value\":\"grey\"},\"size\":{\"field\":\"loglen\",\"units\":\"screen\"},\"x\":{\"field\":\"x\"},\"y\":{\"field\":\"y\"}},\"id\":\"2169\",\"type\":\"Circle\"},{\"attributes\":{\"axis_label\":\"Dim. 2\",\"formatter\":{\"id\":\"2217\"},\"ticker\":{\"id\":\"2155\"}},\"id\":\"2154\",\"type\":\"LinearAxis\"}],\"root_ids\":[\"2139\"]},\"title\":\"Bokeh Application\",\"version\":\"2.0.1\"}};\n",
       "  var render_items = [{\"docid\":\"180fac99-6c61-4a0c-b062-ada70c9c14d7\",\"root_ids\":[\"2139\"],\"roots\":{\"2139\":\"3fb079c5-15f7-4d42-85c7-568eb429993f\"}}];\n",
       "  root.Bokeh.embed.embed_items_notebook(docs_json, render_items);\n",
       "\n",
       "  }\n",
       "  if (root.Bokeh !== undefined) {\n",
       "    embed_document(root);\n",
       "  } else {\n",
       "    var attempts = 0;\n",
       "    var timer = setInterval(function(root) {\n",
       "      if (root.Bokeh !== undefined) {\n",
       "        clearInterval(timer);\n",
       "        embed_document(root);\n",
       "      } else {\n",
       "        attempts++;\n",
       "        if (attempts > 100) {\n",
       "          clearInterval(timer);\n",
       "          console.log(\"Bokeh: ERROR: Unable to run BokehJS code because BokehJS library is missing\");\n",
       "        }\n",
       "      }\n",
       "    }, 10, root)\n",
       "  }\n",
       "})(window);"
      ],
      "application/vnd.bokehjs_exec.v0+json": ""
     },
     "metadata": {
      "application/vnd.bokehjs_exec.v0+json": {
       "id": "2139"
      }
     },
     "output_type": "display_data"
    }
   ],
   "source": [
    "source = ColumnDataSource(data_dict)\n",
    "\n",
    "p = figure(\n",
    "    tools=\"hover,pan,wheel_zoom,save\",\n",
    "    toolbar_location=\"above\",\n",
    "    title=fig_title,\n",
    "    plot_width=800, plot_height=800,\n",
    ")\n",
    "\n",
    "from bokeh.models import Label\n",
    "for x, y, title in zip(data_dict['x'], data_dict['y'], data_dict['Title']):\n",
    "    if 'reynaerde' in title.lower():\n",
    "        p.add_layout(Label(x=x, y=y, text=title,\n",
    "                           text_align=\"center\", text_font_size=\"10pt\"))\n",
    "\n",
    "p.circle('x', 'y', source=source,\n",
    "          fill_color='color', fill_alpha=1,\n",
    "          line_color='grey', size='loglen')\n",
    "\n",
    "\n",
    "p.xaxis.axis_label = x_label\n",
    "p.yaxis.axis_label = y_label\n",
    "\n",
    "p.hover.tooltips = [(\"Title\", \"@Title\"),\n",
    "                    (\"Author\", \"@Author\"),\n",
    "                    (\"Date\", \"@Date\")]\n",
    "\n",
    "show(p)\n",
    "output_file(\"../output/tsne.html\")"
   ]
  },
  {
   "cell_type": "code",
   "execution_count": 22,
   "metadata": {},
   "outputs": [
    {
     "data": {
      "text/plain": [
       "<matplotlib.axes._subplots.AxesSubplot at 0x7f8de0c120f0>"
      ]
     },
     "execution_count": 22,
     "metadata": {},
     "output_type": "execute_result"
    },
    {
     "data": {
      "image/png": "[encoded data removed]",
      "text/plain": [
       "<Figure size 432x288 with 1 Axes>"
      ]
     },
     "metadata": {
      "needs_background": "light"
     },
     "output_type": "display_data"
    }
   ],
   "source": [
    "sb.distplot([d['size'] for d in metadata])"
   ]
  },
  {
   "cell_type": "markdown",
   "metadata": {},
   "source": [
    "## Tagging"
   ]
  },
  {
   "cell_type": "markdown",
   "metadata": {},
   "source": [
    "Dump raw texts for tagging using `pie`:"
   ]
  },
  {
   "cell_type": "markdown",
   "metadata": {},
   "source": [
    "```python\n",
    "outdir = '../data/tagging/raw'\n",
    "\n",
    "try:\n",
    "    shutil.rmtree(outdir)\n",
    "except FileNotFoundError:\n",
    "    pass\n",
    "\n",
    "os.mkdir(outdir)\n",
    "```"
   ]
  },
  {
   "cell_type": "markdown",
   "metadata": {},
   "source": [
    "```python\n",
    "for entry in texts:\n",
    "    new_fn = os.path.basename(entry['id'] + '.tsv')\n",
    "    with open(f'{outdir}/{new_fn}', 'w') as f:\n",
    "        lines = entry['lines'].split('\\n')\n",
    "        for line in lines:\n",
    "            f.write(' '.join(line.strip().split()) + '\\n')\n",
    "```"
   ]
  },
  {
   "cell_type": "code",
   "execution_count": null,
   "metadata": {},
   "outputs": [],
   "source": []
  }
 ],
 "metadata": {
  "kernelspec": {
   "display_name": "Python (n36)",
   "language": "python",
   "name": "n36"
  },
  "language_info": {
   "codemirror_mode": {
    "name": "ipython",
    "version": 3
   },
   "file_extension": ".py",
   "mimetype": "text/x-python",
   "name": "python",
   "nbconvert_exporter": "python",
   "pygments_lexer": "ipython3",
   "version": "3.6.10"
  }
 },
 "nbformat": 4,
 "nbformat_minor": 2
}
